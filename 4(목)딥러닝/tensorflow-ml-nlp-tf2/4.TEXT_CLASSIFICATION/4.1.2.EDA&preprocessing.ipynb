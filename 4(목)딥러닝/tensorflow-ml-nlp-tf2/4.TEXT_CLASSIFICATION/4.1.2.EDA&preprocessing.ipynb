{
 "cells": [
  {
   "cell_type": "markdown",
   "metadata": {},
   "source": [
    "## 4.1.2 데이터 분석 및 전처리"
   ]
  },
  {
   "cell_type": "markdown",
   "metadata": {},
   "source": [
    "### 데이터 불러오기 및 분석하기\n",
    "\n",
    "4.1 장에서 사용할 데이터인 영화 리뷰 데이터를 불러온 후 탐색적 데이터 분석 과정을 진행한다.  \n",
    "데이터 분석은 다음의 순서로 진행한다.\n",
    "\n",
    "* 데이터 크기\n",
    "* 데이터의 개수\n",
    "* 각 리뷰의 문자 길이 분포\n",
    "* 많이 사용된 단어\n",
    "* 긍, 부정 데이터의 분포\n",
    "* 각 리뷰의 단어 개수 분포\n",
    "* 특수문자 및 대, 소문자 비율 "
   ]
  },
  {
   "cell_type": "code",
   "execution_count": 1,
   "metadata": {},
   "outputs": [],
   "source": [
    "import zipfile"
   ]
  },
  {
   "cell_type": "code",
   "execution_count": 2,
   "metadata": {},
   "outputs": [],
   "source": [
    "DATA_IN_PATH = './data_in/'"
   ]
  },
  {
   "cell_type": "code",
   "execution_count": 3,
   "metadata": {},
   "outputs": [],
   "source": [
    "file_list = ['labeledTrainData.tsv.zip', 'unlabeledTrainData.tsv.zip', 'testData.tsv.zip']\n",
    "\n",
    "for file in file_list:\n",
    "    zipRef = zipfile.ZipFile(DATA_IN_PATH + file, 'r')\n",
    "    zipRef.extractall(DATA_IN_PATH)\n",
    "    zipRef.close()"
   ]
  },
  {
   "cell_type": "code",
   "execution_count": 4,
   "metadata": {},
   "outputs": [],
   "source": [
    "import numpy as np \n",
    "import pandas as pd\n",
    "import os\n",
    "import matplotlib.pyplot as plt\n",
    "import seaborn as sns\n",
    "%matplotlib inline"
   ]
  },
  {
   "cell_type": "markdown",
   "metadata": {},
   "source": [
    "### 데이터 크기"
   ]
  },
  {
   "cell_type": "code",
   "execution_count": 5,
   "metadata": {},
   "outputs": [
    {
     "name": "stdout",
     "output_type": "stream",
     "text": [
      "파일 크기 : \n",
      "labeledTrainData.tsv          33.56MB\n",
      "testData.tsv                  32.72MB\n",
      "unlabeledTrainData.tsv        67.28MB\n"
     ]
    }
   ],
   "source": [
    "print(\"파일 크기 : \")\n",
    "for file in os.listdir(DATA_IN_PATH):\n",
    "    if 'tsv' in file and 'zip' not in file:\n",
    "        print(file.ljust(30) + str(round(os.path.getsize(DATA_IN_PATH + file) / 1000000, 2)) + 'MB')"
   ]
  },
  {
   "cell_type": "code",
   "execution_count": 6,
   "metadata": {},
   "outputs": [
    {
     "data": {
      "text/html": [
       "<div>\n",
       "<style scoped>\n",
       "    .dataframe tbody tr th:only-of-type {\n",
       "        vertical-align: middle;\n",
       "    }\n",
       "\n",
       "    .dataframe tbody tr th {\n",
       "        vertical-align: top;\n",
       "    }\n",
       "\n",
       "    .dataframe thead th {\n",
       "        text-align: right;\n",
       "    }\n",
       "</style>\n",
       "<table border=\"1\" class=\"dataframe\">\n",
       "  <thead>\n",
       "    <tr style=\"text-align: right;\">\n",
       "      <th></th>\n",
       "      <th>id</th>\n",
       "      <th>sentiment</th>\n",
       "      <th>review</th>\n",
       "    </tr>\n",
       "  </thead>\n",
       "  <tbody>\n",
       "    <tr>\n",
       "      <th>0</th>\n",
       "      <td>\"5814_8\"</td>\n",
       "      <td>1</td>\n",
       "      <td>\"With all this stuff going down at the moment ...</td>\n",
       "    </tr>\n",
       "    <tr>\n",
       "      <th>1</th>\n",
       "      <td>\"2381_9\"</td>\n",
       "      <td>1</td>\n",
       "      <td>\"\\\"The Classic War of the Worlds\\\" by Timothy ...</td>\n",
       "    </tr>\n",
       "    <tr>\n",
       "      <th>2</th>\n",
       "      <td>\"7759_3\"</td>\n",
       "      <td>0</td>\n",
       "      <td>\"The film starts with a manager (Nicholas Bell...</td>\n",
       "    </tr>\n",
       "    <tr>\n",
       "      <th>3</th>\n",
       "      <td>\"3630_4\"</td>\n",
       "      <td>0</td>\n",
       "      <td>\"It must be assumed that those who praised thi...</td>\n",
       "    </tr>\n",
       "    <tr>\n",
       "      <th>4</th>\n",
       "      <td>\"9495_8\"</td>\n",
       "      <td>1</td>\n",
       "      <td>\"Superbly trashy and wondrously unpretentious ...</td>\n",
       "    </tr>\n",
       "  </tbody>\n",
       "</table>\n",
       "</div>"
      ],
      "text/plain": [
       "         id  sentiment                                             review\n",
       "0  \"5814_8\"          1  \"With all this stuff going down at the moment ...\n",
       "1  \"2381_9\"          1  \"\\\"The Classic War of the Worlds\\\" by Timothy ...\n",
       "2  \"7759_3\"          0  \"The film starts with a manager (Nicholas Bell...\n",
       "3  \"3630_4\"          0  \"It must be assumed that those who praised thi...\n",
       "4  \"9495_8\"          1  \"Superbly trashy and wondrously unpretentious ..."
      ]
     },
     "execution_count": 6,
     "metadata": {},
     "output_type": "execute_result"
    }
   ],
   "source": [
    "train_data = pd.read_csv( DATA_IN_PATH + 'labeledTrainData.tsv', header = 0, delimiter = '\\t', quoting = 3)\n",
    "train_data.head()"
   ]
  },
  {
   "cell_type": "markdown",
   "metadata": {},
   "source": [
    "### 데이터 개수"
   ]
  },
  {
   "cell_type": "code",
   "execution_count": 7,
   "metadata": {},
   "outputs": [
    {
     "name": "stdout",
     "output_type": "stream",
     "text": [
      "전체 학습데이터의 개수: 25000\n"
     ]
    }
   ],
   "source": [
    "print('전체 학습데이터의 개수: {}'.format(len(train_data)))"
   ]
  },
  {
   "cell_type": "markdown",
   "metadata": {},
   "source": [
    "### 각 리뷰의 문자 길이 분포"
   ]
  },
  {
   "cell_type": "code",
   "execution_count": 8,
   "metadata": {},
   "outputs": [],
   "source": [
    "train_length = train_data['review'].apply(len)"
   ]
  },
  {
   "cell_type": "code",
   "execution_count": 9,
   "metadata": {},
   "outputs": [
    {
     "data": {
      "text/plain": [
       "0    2304\n",
       "1     948\n",
       "2    2451\n",
       "3    2247\n",
       "4    2233\n",
       "Name: review, dtype: int64"
      ]
     },
     "execution_count": 9,
     "metadata": {},
     "output_type": "execute_result"
    }
   ],
   "source": [
    "train_length.head()"
   ]
  },
  {
   "cell_type": "code",
   "execution_count": 10,
   "metadata": {},
   "outputs": [
    {
     "data": {
      "text/plain": [
       "Text(0, 0.5, 'Number of review')"
      ]
     },
     "execution_count": 10,
     "metadata": {},
     "output_type": "execute_result"
    },
    {
     "data": {
      "image/png": "[encoded data removed]",
      "text/plain": [
       "<Figure size 1200x500 with 1 Axes>"
      ]
     },
     "metadata": {},
     "output_type": "display_data"
    }
   ],
   "source": [
    "# 그래프에 대한 이미지 사이즈 선언\n",
    "# figsize: (가로, 세로) 형태의 튜플로 입력\n",
    "plt.figure(figsize=(12, 5))\n",
    "# 히스토그램 선언\n",
    "# bins: 히스토그램 값들에 대한 버켓 범위\n",
    "# range: x축 값의 범위\n",
    "# alpha: 그래프 색상 투명도\n",
    "# color: 그래프 색상\n",
    "# label: 그래프에 대한 라벨\n",
    "plt.hist(train_length, bins=200, alpha=0.5, color= 'r', label='word')\n",
    "plt.yscale('log')\n",
    "# 그래프 제목\n",
    "plt.title('Log-Histogram of length of review')\n",
    "# 그래프 x 축 라벨\n",
    "plt.xlabel('Length of review')\n",
    "# 그래프 y 축 라벨\n",
    "plt.ylabel('Number of review')"
   ]
  },
  {
   "cell_type": "code",
   "execution_count": 11,
   "metadata": {},
   "outputs": [
    {
     "name": "stdout",
     "output_type": "stream",
     "text": [
      "리뷰 길이 최대 값: 13710\n",
      "리뷰 길이 최소 값: 54\n",
      "리뷰 길이 평균 값: 1329.71\n",
      "리뷰 길이 표준편차: 1005.22\n",
      "리뷰 길이 중간 값: 983.0\n",
      "리뷰 길이 제 1 사분위: 705.0\n",
      "리뷰 길이 제 3 사분위: 1619.0\n"
     ]
    }
   ],
   "source": [
    "print('리뷰 길이 최대 값: {}'.format(np.max(train_length)))\n",
    "print('리뷰 길이 최소 값: {}'.format(np.min(train_length)))\n",
    "print('리뷰 길이 평균 값: {:.2f}'.format(np.mean(train_length)))\n",
    "print('리뷰 길이 표준편차: {:.2f}'.format(np.std(train_length)))\n",
    "print('리뷰 길이 중간 값: {}'.format(np.median(train_length)))\n",
    "# 사분위의 대한 경우는 0~100 스케일로 되어있음\n",
    "print('리뷰 길이 제 1 사분위: {}'.format(np.percentile(train_length, 25)))\n",
    "print('리뷰 길이 제 3 사분위: {}'.format(np.percentile(train_length, 75)))"
   ]
  },
  {
   "cell_type": "code",
   "execution_count": 12,
   "metadata": {},
   "outputs": [
    {
     "data": {
      "text/plain": [
       "{'whiskers': [<matplotlib.lines.Line2D at 0x2156248bcd0>,\n",
       "  <matplotlib.lines.Line2D at 0x2156248bf70>],\n",
       " 'caps': [<matplotlib.lines.Line2D at 0x215624bc250>,\n",
       "  <matplotlib.lines.Line2D at 0x215624bc4f0>],\n",
       " 'boxes': [<matplotlib.lines.Line2D at 0x2156248ba30>],\n",
       " 'medians': [<matplotlib.lines.Line2D at 0x215624bc790>],\n",
       " 'fliers': [<matplotlib.lines.Line2D at 0x215624bccd0>],\n",
       " 'means': [<matplotlib.lines.Line2D at 0x215624bca30>]}"
      ]
     },
     "execution_count": 12,
     "metadata": {},
     "output_type": "execute_result"
    },
    {
     "data": {
      "image/png": "[encoded data removed]",
      "text/plain": [
       "<Figure size 1200x500 with 1 Axes>"
      ]
     },
     "metadata": {},
     "output_type": "display_data"
    }
   ],
   "source": [
    "plt.figure(figsize=(12, 5))\n",
    "# 박스플롯 생성\n",
    "# 첫번째 파라메터: 여러 분포에 대한 데이터 리스트를 입력\n",
    "# labels: 입력한 데이터에 대한 라벨\n",
    "# showmeans: 평균값을 마크함\n",
    "\n",
    "plt.boxplot(train_length,\n",
    "             labels=['counts'],\n",
    "             showmeans=True)"
   ]
  },
  {
   "cell_type": "markdown",
   "metadata": {},
   "source": [
    "### 많이 사용된 단어"
   ]
  },
  {
   "cell_type": "code",
   "execution_count": 6,
   "metadata": {},
   "outputs": [
    {
     "ename": "NameError",
     "evalue": "name 'train_data' is not defined",
     "output_type": "error",
     "traceback": [
      "\u001b[1;31m---------------------------------------------------------------------------\u001b[0m",
      "\u001b[1;31mNameError\u001b[0m                                 Traceback (most recent call last)",
      "Cell \u001b[1;32mIn[6], line 2\u001b[0m\n\u001b[0;32m      1\u001b[0m \u001b[38;5;28;01mfrom\u001b[39;00m \u001b[38;5;21;01mwordcloud\u001b[39;00m \u001b[38;5;28;01mimport\u001b[39;00m WordCloud\n\u001b[1;32m----> 2\u001b[0m cloud \u001b[38;5;241m=\u001b[39m WordCloud(width\u001b[38;5;241m=\u001b[39m\u001b[38;5;241m800\u001b[39m, height\u001b[38;5;241m=\u001b[39m\u001b[38;5;241m600\u001b[39m)\u001b[38;5;241m.\u001b[39mgenerate(\u001b[38;5;124m\"\u001b[39m\u001b[38;5;124m \u001b[39m\u001b[38;5;124m\"\u001b[39m\u001b[38;5;241m.\u001b[39mjoin(\u001b[43mtrain_data\u001b[49m[\u001b[38;5;124m'\u001b[39m\u001b[38;5;124mreview\u001b[39m\u001b[38;5;124m'\u001b[39m]))\n\u001b[0;32m      3\u001b[0m plt\u001b[38;5;241m.\u001b[39mfigure(figsize\u001b[38;5;241m=\u001b[39m(\u001b[38;5;241m20\u001b[39m, \u001b[38;5;241m15\u001b[39m))\n\u001b[0;32m      4\u001b[0m plt\u001b[38;5;241m.\u001b[39mimshow(cloud)\n",
      "\u001b[1;31mNameError\u001b[0m: name 'train_data' is not defined"
     ]
    }
   ],
   "source": [
    "from wordcloud import WordCloud\n",
    "cloud = WordCloud(width=800, height=600).generate(\" \".join(train_data['review']))\n",
    "plt.figure(figsize=(20, 15))\n",
    "plt.imshow(cloud)\n",
    "plt.axis('off')"
   ]
  },
  {
   "cell_type": "markdown",
   "metadata": {},
   "source": [
    "### 긍, 부정 데이터의 분포"
   ]
  },
  {
   "cell_type": "code",
   "execution_count": 15,
   "metadata": {},
   "outputs": [
    {
     "data": {
      "text/plain": [
       "<Axes: ylabel='count'>"
      ]
     },
     "execution_count": 15,
     "metadata": {},
     "output_type": "execute_result"
    },
    {
     "name": "stdout",
     "output_type": "stream",
     "text": [
      "Error in callback <function flush_figures at 0x0000021561B02A70> (for post_execute), with arguments args (),kwargs {}:\n"
     ]
    },
    {
     "ename": "KeyboardInterrupt",
     "evalue": "",
     "output_type": "error",
     "traceback": [
      "\u001b[1;31m---------------------------------------------------------------------------\u001b[0m",
      "\u001b[1;31mKeyboardInterrupt\u001b[0m                         Traceback (most recent call last)",
      "File \u001b[1;32md:\\program\\Anaconda\\envs\\jihoo\\lib\\site-packages\\matplotlib_inline\\backend_inline.py:126\u001b[0m, in \u001b[0;36mflush_figures\u001b[1;34m()\u001b[0m\n\u001b[0;32m    123\u001b[0m \u001b[38;5;28;01mif\u001b[39;00m InlineBackend\u001b[38;5;241m.\u001b[39minstance()\u001b[38;5;241m.\u001b[39mclose_figures:\n\u001b[0;32m    124\u001b[0m     \u001b[38;5;66;03m# ignore the tracking, just draw and close all figures\u001b[39;00m\n\u001b[0;32m    125\u001b[0m     \u001b[38;5;28;01mtry\u001b[39;00m:\n\u001b[1;32m--> 126\u001b[0m         \u001b[38;5;28;01mreturn\u001b[39;00m \u001b[43mshow\u001b[49m\u001b[43m(\u001b[49m\u001b[38;5;28;43;01mTrue\u001b[39;49;00m\u001b[43m)\u001b[49m\n\u001b[0;32m    127\u001b[0m     \u001b[38;5;28;01mexcept\u001b[39;00m \u001b[38;5;167;01mException\u001b[39;00m \u001b[38;5;28;01mas\u001b[39;00m e:\n\u001b[0;32m    128\u001b[0m         \u001b[38;5;66;03m# safely show traceback if in IPython, else raise\u001b[39;00m\n\u001b[0;32m    129\u001b[0m         ip \u001b[38;5;241m=\u001b[39m get_ipython()\n",
      "File \u001b[1;32md:\\program\\Anaconda\\envs\\jihoo\\lib\\site-packages\\matplotlib_inline\\backend_inline.py:90\u001b[0m, in \u001b[0;36mshow\u001b[1;34m(close, block)\u001b[0m\n\u001b[0;32m     88\u001b[0m \u001b[38;5;28;01mtry\u001b[39;00m:\n\u001b[0;32m     89\u001b[0m     \u001b[38;5;28;01mfor\u001b[39;00m figure_manager \u001b[38;5;129;01min\u001b[39;00m Gcf\u001b[38;5;241m.\u001b[39mget_all_fig_managers():\n\u001b[1;32m---> 90\u001b[0m         \u001b[43mdisplay\u001b[49m\u001b[43m(\u001b[49m\n\u001b[0;32m     91\u001b[0m \u001b[43m            \u001b[49m\u001b[43mfigure_manager\u001b[49m\u001b[38;5;241;43m.\u001b[39;49m\u001b[43mcanvas\u001b[49m\u001b[38;5;241;43m.\u001b[39;49m\u001b[43mfigure\u001b[49m\u001b[43m,\u001b[49m\n\u001b[0;32m     92\u001b[0m \u001b[43m            \u001b[49m\u001b[43mmetadata\u001b[49m\u001b[38;5;241;43m=\u001b[39;49m\u001b[43m_fetch_figure_metadata\u001b[49m\u001b[43m(\u001b[49m\u001b[43mfigure_manager\u001b[49m\u001b[38;5;241;43m.\u001b[39;49m\u001b[43mcanvas\u001b[49m\u001b[38;5;241;43m.\u001b[39;49m\u001b[43mfigure\u001b[49m\u001b[43m)\u001b[49m\n\u001b[0;32m     93\u001b[0m \u001b[43m        \u001b[49m\u001b[43m)\u001b[49m\n\u001b[0;32m     94\u001b[0m \u001b[38;5;28;01mfinally\u001b[39;00m:\n\u001b[0;32m     95\u001b[0m     show\u001b[38;5;241m.\u001b[39m_to_draw \u001b[38;5;241m=\u001b[39m []\n",
      "File \u001b[1;32md:\\program\\Anaconda\\envs\\jihoo\\lib\\site-packages\\IPython\\core\\display_functions.py:298\u001b[0m, in \u001b[0;36mdisplay\u001b[1;34m(include, exclude, metadata, transient, display_id, raw, clear, *objs, **kwargs)\u001b[0m\n\u001b[0;32m    296\u001b[0m     publish_display_data(data\u001b[38;5;241m=\u001b[39mobj, metadata\u001b[38;5;241m=\u001b[39mmetadata, \u001b[38;5;241m*\u001b[39m\u001b[38;5;241m*\u001b[39mkwargs)\n\u001b[0;32m    297\u001b[0m \u001b[38;5;28;01melse\u001b[39;00m:\n\u001b[1;32m--> 298\u001b[0m     format_dict, md_dict \u001b[38;5;241m=\u001b[39m \u001b[38;5;28;43mformat\u001b[39;49m\u001b[43m(\u001b[49m\u001b[43mobj\u001b[49m\u001b[43m,\u001b[49m\u001b[43m \u001b[49m\u001b[43minclude\u001b[49m\u001b[38;5;241;43m=\u001b[39;49m\u001b[43minclude\u001b[49m\u001b[43m,\u001b[49m\u001b[43m \u001b[49m\u001b[43mexclude\u001b[49m\u001b[38;5;241;43m=\u001b[39;49m\u001b[43mexclude\u001b[49m\u001b[43m)\u001b[49m\n\u001b[0;32m    299\u001b[0m     \u001b[38;5;28;01mif\u001b[39;00m \u001b[38;5;129;01mnot\u001b[39;00m format_dict:\n\u001b[0;32m    300\u001b[0m         \u001b[38;5;66;03m# nothing to display (e.g. _ipython_display_ took over)\u001b[39;00m\n\u001b[0;32m    301\u001b[0m         \u001b[38;5;28;01mcontinue\u001b[39;00m\n",
      "File \u001b[1;32md:\\program\\Anaconda\\envs\\jihoo\\lib\\site-packages\\IPython\\core\\formatters.py:182\u001b[0m, in \u001b[0;36mDisplayFormatter.format\u001b[1;34m(self, obj, include, exclude)\u001b[0m\n\u001b[0;32m    180\u001b[0m md \u001b[38;5;241m=\u001b[39m \u001b[38;5;28;01mNone\u001b[39;00m\n\u001b[0;32m    181\u001b[0m \u001b[38;5;28;01mtry\u001b[39;00m:\n\u001b[1;32m--> 182\u001b[0m     data \u001b[38;5;241m=\u001b[39m \u001b[43mformatter\u001b[49m\u001b[43m(\u001b[49m\u001b[43mobj\u001b[49m\u001b[43m)\u001b[49m\n\u001b[0;32m    183\u001b[0m \u001b[38;5;28;01mexcept\u001b[39;00m:\n\u001b[0;32m    184\u001b[0m     \u001b[38;5;66;03m# FIXME: log the exception\u001b[39;00m\n\u001b[0;32m    185\u001b[0m     \u001b[38;5;28;01mraise\u001b[39;00m\n",
      "File \u001b[1;32md:\\program\\Anaconda\\envs\\jihoo\\lib\\site-packages\\decorator.py:232\u001b[0m, in \u001b[0;36mdecorate.<locals>.fun\u001b[1;34m(*args, **kw)\u001b[0m\n\u001b[0;32m    230\u001b[0m \u001b[38;5;28;01mif\u001b[39;00m \u001b[38;5;129;01mnot\u001b[39;00m kwsyntax:\n\u001b[0;32m    231\u001b[0m     args, kw \u001b[38;5;241m=\u001b[39m fix(args, kw, sig)\n\u001b[1;32m--> 232\u001b[0m \u001b[38;5;28;01mreturn\u001b[39;00m caller(func, \u001b[38;5;241m*\u001b[39m(extras \u001b[38;5;241m+\u001b[39m args), \u001b[38;5;241m*\u001b[39m\u001b[38;5;241m*\u001b[39mkw)\n",
      "File \u001b[1;32md:\\program\\Anaconda\\envs\\jihoo\\lib\\site-packages\\IPython\\core\\formatters.py:226\u001b[0m, in \u001b[0;36mcatch_format_error\u001b[1;34m(method, self, *args, **kwargs)\u001b[0m\n\u001b[0;32m    224\u001b[0m \u001b[38;5;250m\u001b[39m\u001b[38;5;124;03m\"\"\"show traceback on failed format call\"\"\"\u001b[39;00m\n\u001b[0;32m    225\u001b[0m \u001b[38;5;28;01mtry\u001b[39;00m:\n\u001b[1;32m--> 226\u001b[0m     r \u001b[38;5;241m=\u001b[39m method(\u001b[38;5;28mself\u001b[39m, \u001b[38;5;241m*\u001b[39margs, \u001b[38;5;241m*\u001b[39m\u001b[38;5;241m*\u001b[39mkwargs)\n\u001b[0;32m    227\u001b[0m \u001b[38;5;28;01mexcept\u001b[39;00m \u001b[38;5;167;01mNotImplementedError\u001b[39;00m:\n\u001b[0;32m    228\u001b[0m     \u001b[38;5;66;03m# don't warn on NotImplementedErrors\u001b[39;00m\n\u001b[0;32m    229\u001b[0m     \u001b[38;5;28;01mreturn\u001b[39;00m \u001b[38;5;28mself\u001b[39m\u001b[38;5;241m.\u001b[39m_check_return(\u001b[38;5;28;01mNone\u001b[39;00m, args[\u001b[38;5;241m0\u001b[39m])\n",
      "File \u001b[1;32md:\\program\\Anaconda\\envs\\jihoo\\lib\\site-packages\\IPython\\core\\formatters.py:343\u001b[0m, in \u001b[0;36mBaseFormatter.__call__\u001b[1;34m(self, obj)\u001b[0m\n\u001b[0;32m    341\u001b[0m     \u001b[38;5;28;01mpass\u001b[39;00m\n\u001b[0;32m    342\u001b[0m \u001b[38;5;28;01melse\u001b[39;00m:\n\u001b[1;32m--> 343\u001b[0m     \u001b[38;5;28;01mreturn\u001b[39;00m \u001b[43mprinter\u001b[49m\u001b[43m(\u001b[49m\u001b[43mobj\u001b[49m\u001b[43m)\u001b[49m\n\u001b[0;32m    344\u001b[0m \u001b[38;5;66;03m# Finally look for special method names\u001b[39;00m\n\u001b[0;32m    345\u001b[0m method \u001b[38;5;241m=\u001b[39m get_real_method(obj, \u001b[38;5;28mself\u001b[39m\u001b[38;5;241m.\u001b[39mprint_method)\n",
      "File \u001b[1;32md:\\program\\Anaconda\\envs\\jihoo\\lib\\site-packages\\IPython\\core\\pylabtools.py:152\u001b[0m, in \u001b[0;36mprint_figure\u001b[1;34m(fig, fmt, bbox_inches, base64, **kwargs)\u001b[0m\n\u001b[0;32m    149\u001b[0m     \u001b[38;5;28;01mfrom\u001b[39;00m \u001b[38;5;21;01mmatplotlib\u001b[39;00m\u001b[38;5;21;01m.\u001b[39;00m\u001b[38;5;21;01mbackend_bases\u001b[39;00m \u001b[38;5;28;01mimport\u001b[39;00m FigureCanvasBase\n\u001b[0;32m    150\u001b[0m     FigureCanvasBase(fig)\n\u001b[1;32m--> 152\u001b[0m fig\u001b[38;5;241m.\u001b[39mcanvas\u001b[38;5;241m.\u001b[39mprint_figure(bytes_io, \u001b[38;5;241m*\u001b[39m\u001b[38;5;241m*\u001b[39mkw)\n\u001b[0;32m    153\u001b[0m data \u001b[38;5;241m=\u001b[39m bytes_io\u001b[38;5;241m.\u001b[39mgetvalue()\n\u001b[0;32m    154\u001b[0m \u001b[38;5;28;01mif\u001b[39;00m fmt \u001b[38;5;241m==\u001b[39m \u001b[38;5;124m'\u001b[39m\u001b[38;5;124msvg\u001b[39m\u001b[38;5;124m'\u001b[39m:\n",
      "File \u001b[1;32md:\\program\\Anaconda\\envs\\jihoo\\lib\\site-packages\\matplotlib\\backend_bases.py:2164\u001b[0m, in \u001b[0;36mFigureCanvasBase.print_figure\u001b[1;34m(self, filename, dpi, facecolor, edgecolor, orientation, format, bbox_inches, pad_inches, bbox_extra_artists, backend, **kwargs)\u001b[0m\n\u001b[0;32m   2161\u001b[0m     \u001b[38;5;66;03m# we do this instead of `self.figure.draw_without_rendering`\u001b[39;00m\n\u001b[0;32m   2162\u001b[0m     \u001b[38;5;66;03m# so that we can inject the orientation\u001b[39;00m\n\u001b[0;32m   2163\u001b[0m     \u001b[38;5;28;01mwith\u001b[39;00m \u001b[38;5;28mgetattr\u001b[39m(renderer, \u001b[38;5;124m\"\u001b[39m\u001b[38;5;124m_draw_disabled\u001b[39m\u001b[38;5;124m\"\u001b[39m, nullcontext)():\n\u001b[1;32m-> 2164\u001b[0m         \u001b[38;5;28;43mself\u001b[39;49m\u001b[38;5;241;43m.\u001b[39;49m\u001b[43mfigure\u001b[49m\u001b[38;5;241;43m.\u001b[39;49m\u001b[43mdraw\u001b[49m\u001b[43m(\u001b[49m\u001b[43mrenderer\u001b[49m\u001b[43m)\u001b[49m\n\u001b[0;32m   2165\u001b[0m \u001b[38;5;28;01mif\u001b[39;00m bbox_inches:\n\u001b[0;32m   2166\u001b[0m     \u001b[38;5;28;01mif\u001b[39;00m bbox_inches \u001b[38;5;241m==\u001b[39m \u001b[38;5;124m\"\u001b[39m\u001b[38;5;124mtight\u001b[39m\u001b[38;5;124m\"\u001b[39m:\n",
      "File \u001b[1;32md:\\program\\Anaconda\\envs\\jihoo\\lib\\site-packages\\matplotlib\\artist.py:95\u001b[0m, in \u001b[0;36m_finalize_rasterization.<locals>.draw_wrapper\u001b[1;34m(artist, renderer, *args, **kwargs)\u001b[0m\n\u001b[0;32m     93\u001b[0m \u001b[38;5;129m@wraps\u001b[39m(draw)\n\u001b[0;32m     94\u001b[0m \u001b[38;5;28;01mdef\u001b[39;00m \u001b[38;5;21mdraw_wrapper\u001b[39m(artist, renderer, \u001b[38;5;241m*\u001b[39margs, \u001b[38;5;241m*\u001b[39m\u001b[38;5;241m*\u001b[39mkwargs):\n\u001b[1;32m---> 95\u001b[0m     result \u001b[38;5;241m=\u001b[39m draw(artist, renderer, \u001b[38;5;241m*\u001b[39margs, \u001b[38;5;241m*\u001b[39m\u001b[38;5;241m*\u001b[39mkwargs)\n\u001b[0;32m     96\u001b[0m     \u001b[38;5;28;01mif\u001b[39;00m renderer\u001b[38;5;241m.\u001b[39m_rasterizing:\n\u001b[0;32m     97\u001b[0m         renderer\u001b[38;5;241m.\u001b[39mstop_rasterizing()\n",
      "File \u001b[1;32md:\\program\\Anaconda\\envs\\jihoo\\lib\\site-packages\\matplotlib\\artist.py:72\u001b[0m, in \u001b[0;36mallow_rasterization.<locals>.draw_wrapper\u001b[1;34m(artist, renderer)\u001b[0m\n\u001b[0;32m     69\u001b[0m     \u001b[38;5;28;01mif\u001b[39;00m artist\u001b[38;5;241m.\u001b[39mget_agg_filter() \u001b[38;5;129;01mis\u001b[39;00m \u001b[38;5;129;01mnot\u001b[39;00m \u001b[38;5;28;01mNone\u001b[39;00m:\n\u001b[0;32m     70\u001b[0m         renderer\u001b[38;5;241m.\u001b[39mstart_filter()\n\u001b[1;32m---> 72\u001b[0m     \u001b[38;5;28;01mreturn\u001b[39;00m \u001b[43mdraw\u001b[49m\u001b[43m(\u001b[49m\u001b[43martist\u001b[49m\u001b[43m,\u001b[49m\u001b[43m \u001b[49m\u001b[43mrenderer\u001b[49m\u001b[43m)\u001b[49m\n\u001b[0;32m     73\u001b[0m \u001b[38;5;28;01mfinally\u001b[39;00m:\n\u001b[0;32m     74\u001b[0m     \u001b[38;5;28;01mif\u001b[39;00m artist\u001b[38;5;241m.\u001b[39mget_agg_filter() \u001b[38;5;129;01mis\u001b[39;00m \u001b[38;5;129;01mnot\u001b[39;00m \u001b[38;5;28;01mNone\u001b[39;00m:\n",
      "File \u001b[1;32md:\\program\\Anaconda\\envs\\jihoo\\lib\\site-packages\\matplotlib\\figure.py:3154\u001b[0m, in \u001b[0;36mFigure.draw\u001b[1;34m(self, renderer)\u001b[0m\n\u001b[0;32m   3151\u001b[0m         \u001b[38;5;66;03m# ValueError can occur when resizing a window.\u001b[39;00m\n\u001b[0;32m   3153\u001b[0m \u001b[38;5;28mself\u001b[39m\u001b[38;5;241m.\u001b[39mpatch\u001b[38;5;241m.\u001b[39mdraw(renderer)\n\u001b[1;32m-> 3154\u001b[0m \u001b[43mmimage\u001b[49m\u001b[38;5;241;43m.\u001b[39;49m\u001b[43m_draw_list_compositing_images\u001b[49m\u001b[43m(\u001b[49m\n\u001b[0;32m   3155\u001b[0m \u001b[43m    \u001b[49m\u001b[43mrenderer\u001b[49m\u001b[43m,\u001b[49m\u001b[43m \u001b[49m\u001b[38;5;28;43mself\u001b[39;49m\u001b[43m,\u001b[49m\u001b[43m \u001b[49m\u001b[43martists\u001b[49m\u001b[43m,\u001b[49m\u001b[43m \u001b[49m\u001b[38;5;28;43mself\u001b[39;49m\u001b[38;5;241;43m.\u001b[39;49m\u001b[43msuppressComposite\u001b[49m\u001b[43m)\u001b[49m\n\u001b[0;32m   3157\u001b[0m \u001b[38;5;28;01mfor\u001b[39;00m sfig \u001b[38;5;129;01min\u001b[39;00m \u001b[38;5;28mself\u001b[39m\u001b[38;5;241m.\u001b[39msubfigs:\n\u001b[0;32m   3158\u001b[0m     sfig\u001b[38;5;241m.\u001b[39mdraw(renderer)\n",
      "File \u001b[1;32md:\\program\\Anaconda\\envs\\jihoo\\lib\\site-packages\\matplotlib\\image.py:132\u001b[0m, in \u001b[0;36m_draw_list_compositing_images\u001b[1;34m(renderer, parent, artists, suppress_composite)\u001b[0m\n\u001b[0;32m    130\u001b[0m \u001b[38;5;28;01mif\u001b[39;00m not_composite \u001b[38;5;129;01mor\u001b[39;00m \u001b[38;5;129;01mnot\u001b[39;00m has_images:\n\u001b[0;32m    131\u001b[0m     \u001b[38;5;28;01mfor\u001b[39;00m a \u001b[38;5;129;01min\u001b[39;00m artists:\n\u001b[1;32m--> 132\u001b[0m         \u001b[43ma\u001b[49m\u001b[38;5;241;43m.\u001b[39;49m\u001b[43mdraw\u001b[49m\u001b[43m(\u001b[49m\u001b[43mrenderer\u001b[49m\u001b[43m)\u001b[49m\n\u001b[0;32m    133\u001b[0m \u001b[38;5;28;01melse\u001b[39;00m:\n\u001b[0;32m    134\u001b[0m     \u001b[38;5;66;03m# Composite any adjacent images together\u001b[39;00m\n\u001b[0;32m    135\u001b[0m     image_group \u001b[38;5;241m=\u001b[39m []\n",
      "File \u001b[1;32md:\\program\\Anaconda\\envs\\jihoo\\lib\\site-packages\\matplotlib\\artist.py:72\u001b[0m, in \u001b[0;36mallow_rasterization.<locals>.draw_wrapper\u001b[1;34m(artist, renderer)\u001b[0m\n\u001b[0;32m     69\u001b[0m     \u001b[38;5;28;01mif\u001b[39;00m artist\u001b[38;5;241m.\u001b[39mget_agg_filter() \u001b[38;5;129;01mis\u001b[39;00m \u001b[38;5;129;01mnot\u001b[39;00m \u001b[38;5;28;01mNone\u001b[39;00m:\n\u001b[0;32m     70\u001b[0m         renderer\u001b[38;5;241m.\u001b[39mstart_filter()\n\u001b[1;32m---> 72\u001b[0m     \u001b[38;5;28;01mreturn\u001b[39;00m \u001b[43mdraw\u001b[49m\u001b[43m(\u001b[49m\u001b[43martist\u001b[49m\u001b[43m,\u001b[49m\u001b[43m \u001b[49m\u001b[43mrenderer\u001b[49m\u001b[43m)\u001b[49m\n\u001b[0;32m     73\u001b[0m \u001b[38;5;28;01mfinally\u001b[39;00m:\n\u001b[0;32m     74\u001b[0m     \u001b[38;5;28;01mif\u001b[39;00m artist\u001b[38;5;241m.\u001b[39mget_agg_filter() \u001b[38;5;129;01mis\u001b[39;00m \u001b[38;5;129;01mnot\u001b[39;00m \u001b[38;5;28;01mNone\u001b[39;00m:\n",
      "File \u001b[1;32md:\\program\\Anaconda\\envs\\jihoo\\lib\\site-packages\\matplotlib\\axes\\_base.py:3070\u001b[0m, in \u001b[0;36m_AxesBase.draw\u001b[1;34m(self, renderer)\u001b[0m\n\u001b[0;32m   3067\u001b[0m \u001b[38;5;28;01mif\u001b[39;00m artists_rasterized:\n\u001b[0;32m   3068\u001b[0m     _draw_rasterized(\u001b[38;5;28mself\u001b[39m\u001b[38;5;241m.\u001b[39mfigure, artists_rasterized, renderer)\n\u001b[1;32m-> 3070\u001b[0m \u001b[43mmimage\u001b[49m\u001b[38;5;241;43m.\u001b[39;49m\u001b[43m_draw_list_compositing_images\u001b[49m\u001b[43m(\u001b[49m\n\u001b[0;32m   3071\u001b[0m \u001b[43m    \u001b[49m\u001b[43mrenderer\u001b[49m\u001b[43m,\u001b[49m\u001b[43m \u001b[49m\u001b[38;5;28;43mself\u001b[39;49m\u001b[43m,\u001b[49m\u001b[43m \u001b[49m\u001b[43martists\u001b[49m\u001b[43m,\u001b[49m\u001b[43m \u001b[49m\u001b[38;5;28;43mself\u001b[39;49m\u001b[38;5;241;43m.\u001b[39;49m\u001b[43mfigure\u001b[49m\u001b[38;5;241;43m.\u001b[39;49m\u001b[43msuppressComposite\u001b[49m\u001b[43m)\u001b[49m\n\u001b[0;32m   3073\u001b[0m renderer\u001b[38;5;241m.\u001b[39mclose_group(\u001b[38;5;124m'\u001b[39m\u001b[38;5;124maxes\u001b[39m\u001b[38;5;124m'\u001b[39m)\n\u001b[0;32m   3074\u001b[0m \u001b[38;5;28mself\u001b[39m\u001b[38;5;241m.\u001b[39mstale \u001b[38;5;241m=\u001b[39m \u001b[38;5;28;01mFalse\u001b[39;00m\n",
      "File \u001b[1;32md:\\program\\Anaconda\\envs\\jihoo\\lib\\site-packages\\matplotlib\\image.py:132\u001b[0m, in \u001b[0;36m_draw_list_compositing_images\u001b[1;34m(renderer, parent, artists, suppress_composite)\u001b[0m\n\u001b[0;32m    130\u001b[0m \u001b[38;5;28;01mif\u001b[39;00m not_composite \u001b[38;5;129;01mor\u001b[39;00m \u001b[38;5;129;01mnot\u001b[39;00m has_images:\n\u001b[0;32m    131\u001b[0m     \u001b[38;5;28;01mfor\u001b[39;00m a \u001b[38;5;129;01min\u001b[39;00m artists:\n\u001b[1;32m--> 132\u001b[0m         \u001b[43ma\u001b[49m\u001b[38;5;241;43m.\u001b[39;49m\u001b[43mdraw\u001b[49m\u001b[43m(\u001b[49m\u001b[43mrenderer\u001b[49m\u001b[43m)\u001b[49m\n\u001b[0;32m    133\u001b[0m \u001b[38;5;28;01melse\u001b[39;00m:\n\u001b[0;32m    134\u001b[0m     \u001b[38;5;66;03m# Composite any adjacent images together\u001b[39;00m\n\u001b[0;32m    135\u001b[0m     image_group \u001b[38;5;241m=\u001b[39m []\n",
      "File \u001b[1;32md:\\program\\Anaconda\\envs\\jihoo\\lib\\site-packages\\matplotlib\\artist.py:72\u001b[0m, in \u001b[0;36mallow_rasterization.<locals>.draw_wrapper\u001b[1;34m(artist, renderer)\u001b[0m\n\u001b[0;32m     69\u001b[0m     \u001b[38;5;28;01mif\u001b[39;00m artist\u001b[38;5;241m.\u001b[39mget_agg_filter() \u001b[38;5;129;01mis\u001b[39;00m \u001b[38;5;129;01mnot\u001b[39;00m \u001b[38;5;28;01mNone\u001b[39;00m:\n\u001b[0;32m     70\u001b[0m         renderer\u001b[38;5;241m.\u001b[39mstart_filter()\n\u001b[1;32m---> 72\u001b[0m     \u001b[38;5;28;01mreturn\u001b[39;00m \u001b[43mdraw\u001b[49m\u001b[43m(\u001b[49m\u001b[43martist\u001b[49m\u001b[43m,\u001b[49m\u001b[43m \u001b[49m\u001b[43mrenderer\u001b[49m\u001b[43m)\u001b[49m\n\u001b[0;32m     73\u001b[0m \u001b[38;5;28;01mfinally\u001b[39;00m:\n\u001b[0;32m     74\u001b[0m     \u001b[38;5;28;01mif\u001b[39;00m artist\u001b[38;5;241m.\u001b[39mget_agg_filter() \u001b[38;5;129;01mis\u001b[39;00m \u001b[38;5;129;01mnot\u001b[39;00m \u001b[38;5;28;01mNone\u001b[39;00m:\n",
      "File \u001b[1;32md:\\program\\Anaconda\\envs\\jihoo\\lib\\site-packages\\matplotlib\\axis.py:1394\u001b[0m, in \u001b[0;36mAxis.draw\u001b[1;34m(self, renderer, *args, **kwargs)\u001b[0m\n\u001b[0;32m   1391\u001b[0m     tick\u001b[38;5;241m.\u001b[39mdraw(renderer)\n\u001b[0;32m   1393\u001b[0m \u001b[38;5;66;03m# Shift label away from axes to avoid overlapping ticklabels.\u001b[39;00m\n\u001b[1;32m-> 1394\u001b[0m \u001b[38;5;28;43mself\u001b[39;49m\u001b[38;5;241;43m.\u001b[39;49m\u001b[43m_update_label_position\u001b[49m\u001b[43m(\u001b[49m\u001b[43mrenderer\u001b[49m\u001b[43m)\u001b[49m\n\u001b[0;32m   1395\u001b[0m \u001b[38;5;28mself\u001b[39m\u001b[38;5;241m.\u001b[39mlabel\u001b[38;5;241m.\u001b[39mdraw(renderer)\n\u001b[0;32m   1397\u001b[0m \u001b[38;5;28mself\u001b[39m\u001b[38;5;241m.\u001b[39m_update_offset_text_position(tlb1, tlb2)\n",
      "File \u001b[1;32md:\\program\\Anaconda\\envs\\jihoo\\lib\\site-packages\\matplotlib\\axis.py:2368\u001b[0m, in \u001b[0;36mXAxis._update_label_position\u001b[1;34m(self, renderer)\u001b[0m\n\u001b[0;32m   2364\u001b[0m     \u001b[38;5;28;01mreturn\u001b[39;00m\n\u001b[0;32m   2366\u001b[0m \u001b[38;5;66;03m# get bounding boxes for this axis and any siblings\u001b[39;00m\n\u001b[0;32m   2367\u001b[0m \u001b[38;5;66;03m# that have been set by `fig.align_xlabels()`\u001b[39;00m\n\u001b[1;32m-> 2368\u001b[0m bboxes, bboxes2 \u001b[38;5;241m=\u001b[39m \u001b[38;5;28;43mself\u001b[39;49m\u001b[38;5;241;43m.\u001b[39;49m\u001b[43m_get_tick_boxes_siblings\u001b[49m\u001b[43m(\u001b[49m\u001b[43mrenderer\u001b[49m\u001b[38;5;241;43m=\u001b[39;49m\u001b[43mrenderer\u001b[49m\u001b[43m)\u001b[49m\n\u001b[0;32m   2370\u001b[0m x, y \u001b[38;5;241m=\u001b[39m \u001b[38;5;28mself\u001b[39m\u001b[38;5;241m.\u001b[39mlabel\u001b[38;5;241m.\u001b[39mget_position()\n\u001b[0;32m   2371\u001b[0m \u001b[38;5;28;01mif\u001b[39;00m \u001b[38;5;28mself\u001b[39m\u001b[38;5;241m.\u001b[39mlabel_position \u001b[38;5;241m==\u001b[39m \u001b[38;5;124m'\u001b[39m\u001b[38;5;124mbottom\u001b[39m\u001b[38;5;124m'\u001b[39m:\n",
      "File \u001b[1;32md:\\program\\Anaconda\\envs\\jihoo\\lib\\site-packages\\matplotlib\\axis.py:2161\u001b[0m, in \u001b[0;36mAxis._get_tick_boxes_siblings\u001b[1;34m(self, renderer)\u001b[0m\n\u001b[0;32m   2159\u001b[0m axis \u001b[38;5;241m=\u001b[39m ax\u001b[38;5;241m.\u001b[39m_axis_map[name]\n\u001b[0;32m   2160\u001b[0m ticks_to_draw \u001b[38;5;241m=\u001b[39m axis\u001b[38;5;241m.\u001b[39m_update_ticks()\n\u001b[1;32m-> 2161\u001b[0m tlb, tlb2 \u001b[38;5;241m=\u001b[39m \u001b[43maxis\u001b[49m\u001b[38;5;241;43m.\u001b[39;49m\u001b[43m_get_ticklabel_bboxes\u001b[49m\u001b[43m(\u001b[49m\u001b[43mticks_to_draw\u001b[49m\u001b[43m,\u001b[49m\u001b[43m \u001b[49m\u001b[43mrenderer\u001b[49m\u001b[43m)\u001b[49m\n\u001b[0;32m   2162\u001b[0m bboxes\u001b[38;5;241m.\u001b[39mextend(tlb)\n\u001b[0;32m   2163\u001b[0m bboxes2\u001b[38;5;241m.\u001b[39mextend(tlb2)\n",
      "File \u001b[1;32md:\\program\\Anaconda\\envs\\jihoo\\lib\\site-packages\\matplotlib\\axis.py:1315\u001b[0m, in \u001b[0;36mAxis._get_ticklabel_bboxes\u001b[1;34m(self, ticks, renderer)\u001b[0m\n\u001b[0;32m   1313\u001b[0m \u001b[38;5;28;01mif\u001b[39;00m renderer \u001b[38;5;129;01mis\u001b[39;00m \u001b[38;5;28;01mNone\u001b[39;00m:\n\u001b[0;32m   1314\u001b[0m     renderer \u001b[38;5;241m=\u001b[39m \u001b[38;5;28mself\u001b[39m\u001b[38;5;241m.\u001b[39mfigure\u001b[38;5;241m.\u001b[39m_get_renderer()\n\u001b[1;32m-> 1315\u001b[0m \u001b[38;5;28;01mreturn\u001b[39;00m ([tick\u001b[38;5;241m.\u001b[39mlabel1\u001b[38;5;241m.\u001b[39mget_window_extent(renderer)\n\u001b[0;32m   1316\u001b[0m          \u001b[38;5;28;01mfor\u001b[39;00m tick \u001b[38;5;129;01min\u001b[39;00m ticks \u001b[38;5;28;01mif\u001b[39;00m tick\u001b[38;5;241m.\u001b[39mlabel1\u001b[38;5;241m.\u001b[39mget_visible()],\n\u001b[0;32m   1317\u001b[0m         [tick\u001b[38;5;241m.\u001b[39mlabel2\u001b[38;5;241m.\u001b[39mget_window_extent(renderer)\n\u001b[0;32m   1318\u001b[0m          \u001b[38;5;28;01mfor\u001b[39;00m tick \u001b[38;5;129;01min\u001b[39;00m ticks \u001b[38;5;28;01mif\u001b[39;00m tick\u001b[38;5;241m.\u001b[39mlabel2\u001b[38;5;241m.\u001b[39mget_visible()])\n",
      "File \u001b[1;32md:\\program\\Anaconda\\envs\\jihoo\\lib\\site-packages\\matplotlib\\axis.py:1315\u001b[0m, in \u001b[0;36m<listcomp>\u001b[1;34m(.0)\u001b[0m\n\u001b[0;32m   1313\u001b[0m \u001b[38;5;28;01mif\u001b[39;00m renderer \u001b[38;5;129;01mis\u001b[39;00m \u001b[38;5;28;01mNone\u001b[39;00m:\n\u001b[0;32m   1314\u001b[0m     renderer \u001b[38;5;241m=\u001b[39m \u001b[38;5;28mself\u001b[39m\u001b[38;5;241m.\u001b[39mfigure\u001b[38;5;241m.\u001b[39m_get_renderer()\n\u001b[1;32m-> 1315\u001b[0m \u001b[38;5;28;01mreturn\u001b[39;00m ([\u001b[43mtick\u001b[49m\u001b[38;5;241;43m.\u001b[39;49m\u001b[43mlabel1\u001b[49m\u001b[38;5;241;43m.\u001b[39;49m\u001b[43mget_window_extent\u001b[49m\u001b[43m(\u001b[49m\u001b[43mrenderer\u001b[49m\u001b[43m)\u001b[49m\n\u001b[0;32m   1316\u001b[0m          \u001b[38;5;28;01mfor\u001b[39;00m tick \u001b[38;5;129;01min\u001b[39;00m ticks \u001b[38;5;28;01mif\u001b[39;00m tick\u001b[38;5;241m.\u001b[39mlabel1\u001b[38;5;241m.\u001b[39mget_visible()],\n\u001b[0;32m   1317\u001b[0m         [tick\u001b[38;5;241m.\u001b[39mlabel2\u001b[38;5;241m.\u001b[39mget_window_extent(renderer)\n\u001b[0;32m   1318\u001b[0m          \u001b[38;5;28;01mfor\u001b[39;00m tick \u001b[38;5;129;01min\u001b[39;00m ticks \u001b[38;5;28;01mif\u001b[39;00m tick\u001b[38;5;241m.\u001b[39mlabel2\u001b[38;5;241m.\u001b[39mget_visible()])\n",
      "File \u001b[1;32md:\\program\\Anaconda\\envs\\jihoo\\lib\\site-packages\\matplotlib\\text.py:956\u001b[0m, in \u001b[0;36mText.get_window_extent\u001b[1;34m(self, renderer, dpi)\u001b[0m\n\u001b[0;32m    951\u001b[0m     \u001b[38;5;28;01mraise\u001b[39;00m \u001b[38;5;167;01mRuntimeError\u001b[39;00m(\n\u001b[0;32m    952\u001b[0m         \u001b[38;5;124m\"\u001b[39m\u001b[38;5;124mCannot get window extent of text w/o renderer. You likely \u001b[39m\u001b[38;5;124m\"\u001b[39m\n\u001b[0;32m    953\u001b[0m         \u001b[38;5;124m\"\u001b[39m\u001b[38;5;124mwant to call \u001b[39m\u001b[38;5;124m'\u001b[39m\u001b[38;5;124mfigure.draw_without_rendering()\u001b[39m\u001b[38;5;124m'\u001b[39m\u001b[38;5;124m first.\u001b[39m\u001b[38;5;124m\"\u001b[39m)\n\u001b[0;32m    955\u001b[0m \u001b[38;5;28;01mwith\u001b[39;00m cbook\u001b[38;5;241m.\u001b[39m_setattr_cm(\u001b[38;5;28mself\u001b[39m\u001b[38;5;241m.\u001b[39mfigure, dpi\u001b[38;5;241m=\u001b[39mdpi):\n\u001b[1;32m--> 956\u001b[0m     bbox, info, descent \u001b[38;5;241m=\u001b[39m \u001b[38;5;28;43mself\u001b[39;49m\u001b[38;5;241;43m.\u001b[39;49m\u001b[43m_get_layout\u001b[49m\u001b[43m(\u001b[49m\u001b[38;5;28;43mself\u001b[39;49m\u001b[38;5;241;43m.\u001b[39;49m\u001b[43m_renderer\u001b[49m\u001b[43m)\u001b[49m\n\u001b[0;32m    957\u001b[0m     x, y \u001b[38;5;241m=\u001b[39m \u001b[38;5;28mself\u001b[39m\u001b[38;5;241m.\u001b[39mget_unitless_position()\n\u001b[0;32m    958\u001b[0m     x, y \u001b[38;5;241m=\u001b[39m \u001b[38;5;28mself\u001b[39m\u001b[38;5;241m.\u001b[39mget_transform()\u001b[38;5;241m.\u001b[39mtransform((x, y))\n",
      "File \u001b[1;32md:\\program\\Anaconda\\envs\\jihoo\\lib\\site-packages\\matplotlib\\text.py:381\u001b[0m, in \u001b[0;36mText._get_layout\u001b[1;34m(self, renderer)\u001b[0m\n\u001b[0;32m    379\u001b[0m clean_line, ismath \u001b[38;5;241m=\u001b[39m \u001b[38;5;28mself\u001b[39m\u001b[38;5;241m.\u001b[39m_preprocess_math(line)\n\u001b[0;32m    380\u001b[0m \u001b[38;5;28;01mif\u001b[39;00m clean_line:\n\u001b[1;32m--> 381\u001b[0m     w, h, d \u001b[38;5;241m=\u001b[39m \u001b[43m_get_text_metrics_with_cache\u001b[49m\u001b[43m(\u001b[49m\n\u001b[0;32m    382\u001b[0m \u001b[43m        \u001b[49m\u001b[43mrenderer\u001b[49m\u001b[43m,\u001b[49m\u001b[43m \u001b[49m\u001b[43mclean_line\u001b[49m\u001b[43m,\u001b[49m\u001b[43m \u001b[49m\u001b[38;5;28;43mself\u001b[39;49m\u001b[38;5;241;43m.\u001b[39;49m\u001b[43m_fontproperties\u001b[49m\u001b[43m,\u001b[49m\n\u001b[0;32m    383\u001b[0m \u001b[43m        \u001b[49m\u001b[43mismath\u001b[49m\u001b[38;5;241;43m=\u001b[39;49m\u001b[43mismath\u001b[49m\u001b[43m,\u001b[49m\u001b[43m \u001b[49m\u001b[43mdpi\u001b[49m\u001b[38;5;241;43m=\u001b[39;49m\u001b[38;5;28;43mself\u001b[39;49m\u001b[38;5;241;43m.\u001b[39;49m\u001b[43mfigure\u001b[49m\u001b[38;5;241;43m.\u001b[39;49m\u001b[43mdpi\u001b[49m\u001b[43m)\u001b[49m\n\u001b[0;32m    384\u001b[0m \u001b[38;5;28;01melse\u001b[39;00m:\n\u001b[0;32m    385\u001b[0m     w \u001b[38;5;241m=\u001b[39m h \u001b[38;5;241m=\u001b[39m d \u001b[38;5;241m=\u001b[39m \u001b[38;5;241m0\u001b[39m\n",
      "File \u001b[1;32md:\\program\\Anaconda\\envs\\jihoo\\lib\\site-packages\\matplotlib\\text.py:69\u001b[0m, in \u001b[0;36m_get_text_metrics_with_cache\u001b[1;34m(renderer, text, fontprop, ismath, dpi)\u001b[0m\n\u001b[0;32m     66\u001b[0m \u001b[38;5;250m\u001b[39m\u001b[38;5;124;03m\"\"\"Call ``renderer.get_text_width_height_descent``, caching the results.\"\"\"\u001b[39;00m\n\u001b[0;32m     67\u001b[0m \u001b[38;5;66;03m# Cached based on a copy of fontprop so that later in-place mutations of\u001b[39;00m\n\u001b[0;32m     68\u001b[0m \u001b[38;5;66;03m# the passed-in argument do not mess up the cache.\u001b[39;00m\n\u001b[1;32m---> 69\u001b[0m \u001b[38;5;28;01mreturn\u001b[39;00m \u001b[43m_get_text_metrics_with_cache_impl\u001b[49m\u001b[43m(\u001b[49m\n\u001b[0;32m     70\u001b[0m \u001b[43m    \u001b[49m\u001b[43mweakref\u001b[49m\u001b[38;5;241;43m.\u001b[39;49m\u001b[43mref\u001b[49m\u001b[43m(\u001b[49m\u001b[43mrenderer\u001b[49m\u001b[43m)\u001b[49m\u001b[43m,\u001b[49m\u001b[43m \u001b[49m\u001b[43mtext\u001b[49m\u001b[43m,\u001b[49m\u001b[43m \u001b[49m\u001b[43mfontprop\u001b[49m\u001b[38;5;241;43m.\u001b[39;49m\u001b[43mcopy\u001b[49m\u001b[43m(\u001b[49m\u001b[43m)\u001b[49m\u001b[43m,\u001b[49m\u001b[43m \u001b[49m\u001b[43mismath\u001b[49m\u001b[43m,\u001b[49m\u001b[43m \u001b[49m\u001b[43mdpi\u001b[49m\u001b[43m)\u001b[49m\n",
      "File \u001b[1;32md:\\program\\Anaconda\\envs\\jihoo\\lib\\site-packages\\matplotlib\\text.py:77\u001b[0m, in \u001b[0;36m_get_text_metrics_with_cache_impl\u001b[1;34m(renderer_ref, text, fontprop, ismath, dpi)\u001b[0m\n\u001b[0;32m     73\u001b[0m \u001b[38;5;129m@functools\u001b[39m\u001b[38;5;241m.\u001b[39mlru_cache(\u001b[38;5;241m4096\u001b[39m)\n\u001b[0;32m     74\u001b[0m \u001b[38;5;28;01mdef\u001b[39;00m \u001b[38;5;21m_get_text_metrics_with_cache_impl\u001b[39m(\n\u001b[0;32m     75\u001b[0m         renderer_ref, text, fontprop, ismath, dpi):\n\u001b[0;32m     76\u001b[0m     \u001b[38;5;66;03m# dpi is unused, but participates in cache invalidation (via the renderer).\u001b[39;00m\n\u001b[1;32m---> 77\u001b[0m     \u001b[38;5;28;01mreturn\u001b[39;00m \u001b[43mrenderer_ref\u001b[49m\u001b[43m(\u001b[49m\u001b[43m)\u001b[49m\u001b[38;5;241;43m.\u001b[39;49m\u001b[43mget_text_width_height_descent\u001b[49m\u001b[43m(\u001b[49m\u001b[43mtext\u001b[49m\u001b[43m,\u001b[49m\u001b[43m \u001b[49m\u001b[43mfontprop\u001b[49m\u001b[43m,\u001b[49m\u001b[43m \u001b[49m\u001b[43mismath\u001b[49m\u001b[43m)\u001b[49m\n",
      "File \u001b[1;32md:\\program\\Anaconda\\envs\\jihoo\\lib\\site-packages\\matplotlib\\backends\\backend_agg.py:221\u001b[0m, in \u001b[0;36mRendererAgg.get_text_width_height_descent\u001b[1;34m(self, s, prop, ismath)\u001b[0m\n\u001b[0;32m    218\u001b[0m     \u001b[38;5;28;01mreturn\u001b[39;00m width, height, descent\n\u001b[0;32m    220\u001b[0m font \u001b[38;5;241m=\u001b[39m \u001b[38;5;28mself\u001b[39m\u001b[38;5;241m.\u001b[39m_prepare_font(prop)\n\u001b[1;32m--> 221\u001b[0m \u001b[43mfont\u001b[49m\u001b[38;5;241;43m.\u001b[39;49m\u001b[43mset_text\u001b[49m\u001b[43m(\u001b[49m\u001b[43ms\u001b[49m\u001b[43m,\u001b[49m\u001b[43m \u001b[49m\u001b[38;5;241;43m0.0\u001b[39;49m\u001b[43m,\u001b[49m\u001b[43m \u001b[49m\u001b[43mflags\u001b[49m\u001b[38;5;241;43m=\u001b[39;49m\u001b[43mget_hinting_flag\u001b[49m\u001b[43m(\u001b[49m\u001b[43m)\u001b[49m\u001b[43m)\u001b[49m\n\u001b[0;32m    222\u001b[0m w, h \u001b[38;5;241m=\u001b[39m font\u001b[38;5;241m.\u001b[39mget_width_height()  \u001b[38;5;66;03m# width and height of unrotated string\u001b[39;00m\n\u001b[0;32m    223\u001b[0m d \u001b[38;5;241m=\u001b[39m font\u001b[38;5;241m.\u001b[39mget_descent()\n",
      "\u001b[1;31mKeyboardInterrupt\u001b[0m: "
     ]
    }
   ],
   "source": [
    "fig, axe = plt.subplots(ncols=1)\n",
    "fig.set_size_inches(6, 3)\n",
    "sns.countplot(train_data['sentiment'])"
   ]
  },
  {
   "cell_type": "code",
   "execution_count": 16,
   "metadata": {},
   "outputs": [
    {
     "data": {
      "image/png": "[encoded data removed]",
      "text/plain": [
       "<Figure size 640x480 with 1 Axes>"
      ]
     },
     "metadata": {},
     "output_type": "display_data"
    }
   ],
   "source": [
    "ax=sns.countplot(x='sentiment',data=train_data)"
   ]
  },
  {
   "cell_type": "code",
   "execution_count": 17,
   "metadata": {},
   "outputs": [
    {
     "name": "stdout",
     "output_type": "stream",
     "text": [
      "긍정 리뷰 개수: 12500\n",
      "부정 리뷰 개수: 12500\n"
     ]
    }
   ],
   "source": [
    "print(\"긍정 리뷰 개수: {}\".format(train_data['sentiment'].value_counts()[1]))\n",
    "print(\"부정 리뷰 개수: {}\".format(train_data['sentiment'].value_counts()[0]))"
   ]
  },
  {
   "cell_type": "markdown",
   "metadata": {},
   "source": [
    "### 각 리뷰의 단어 개수 분포"
   ]
  },
  {
   "cell_type": "code",
   "execution_count": 18,
   "metadata": {},
   "outputs": [],
   "source": [
    "train_word_counts = train_data['review'].apply(lambda x:len(x.split(' ')))"
   ]
  },
  {
   "cell_type": "code",
   "execution_count": 19,
   "metadata": {},
   "outputs": [
    {
     "data": {
      "text/plain": [
       "Text(0, 0.5, 'Number of reviews')"
      ]
     },
     "execution_count": 19,
     "metadata": {},
     "output_type": "execute_result"
    },
    {
     "data": {
      "image/png": "[encoded data removed]",
      "text/plain": [
       "<Figure size 1500x1000 with 1 Axes>"
      ]
     },
     "metadata": {},
     "output_type": "display_data"
    }
   ],
   "source": [
    "plt.figure(figsize=(15, 10))\n",
    "plt.hist(train_word_counts, bins=50, facecolor='r',label='train')\n",
    "plt.title('Log-Histogram of word count in review', fontsize=15)\n",
    "plt.yscale('log')\n",
    "plt.legend()\n",
    "plt.xlabel('Number of words', fontsize=15)\n",
    "plt.ylabel('Number of reviews', fontsize=15)"
   ]
  },
  {
   "cell_type": "code",
   "execution_count": 20,
   "metadata": {},
   "outputs": [
    {
     "name": "stdout",
     "output_type": "stream",
     "text": [
      "리뷰 단어 개수 최대 값: 2470\n",
      "리뷰 단어 개수 최소 값: 10\n",
      "리뷰 단어 개수 평균 값: 233.79\n",
      "리뷰 단어 개수 표준편차: 173.74\n",
      "리뷰 단어 개수 중간 값: 174.0\n",
      "리뷰 단어 개수 제 1 사분위: 127.0\n",
      "리뷰 단어 개수 제 3 사분위: 284.0\n"
     ]
    }
   ],
   "source": [
    "print('리뷰 단어 개수 최대 값: {}'.format(np.max(train_word_counts)))\n",
    "print('리뷰 단어 개수 최소 값: {}'.format(np.min(train_word_counts)))\n",
    "print('리뷰 단어 개수 평균 값: {:.2f}'.format(np.mean(train_word_counts)))\n",
    "print('리뷰 단어 개수 표준편차: {:.2f}'.format(np.std(train_word_counts)))\n",
    "print('리뷰 단어 개수 중간 값: {}'.format(np.median(train_word_counts)))\n",
    "# 사분위의 대한 경우는 0~100 스케일로 되어있음\n",
    "print('리뷰 단어 개수 제 1 사분위: {}'.format(np.percentile(train_word_counts, 25)))\n",
    "print('리뷰 단어 개수 제 3 사분위: {}'.format(np.percentile(train_word_counts, 75)))"
   ]
  },
  {
   "cell_type": "markdown",
   "metadata": {},
   "source": [
    "### 특수문자 및 대, 소문자 비율"
   ]
  },
  {
   "cell_type": "code",
   "execution_count": 21,
   "metadata": {},
   "outputs": [
    {
     "name": "stdout",
     "output_type": "stream",
     "text": [
      "물음표가있는 질문: 29.55%\n",
      "마침표가 있는 질문: 99.69%\n",
      "첫 글자가 대문자 인 질문: 0.00%\n",
      "대문자가있는 질문: 99.59%\n",
      "숫자가있는 질문: 56.66%\n"
     ]
    }
   ],
   "source": [
    "qmarks = np.mean(train_data['review'].apply(lambda x: '?' in x)) # 물음표가 구두점으로 쓰임\n",
    "fullstop = np.mean(train_data['review'].apply(lambda x: '.' in x)) # 마침표\n",
    "capital_first = np.mean(train_data['review'].apply(lambda x: x[0].isupper())) #  첫번째 대문자\n",
    "capitals = np.mean(train_data['review'].apply(lambda x: max([y.isupper() for y in x]))) # 대문자가 몇개\n",
    "numbers = np.mean(train_data['review'].apply(lambda x: max([y.isdigit() for y in x]))) # 숫자가 몇개\n",
    "                  \n",
    "print('물음표가있는 질문: {:.2f}%'.format(qmarks * 100))\n",
    "print('마침표가 있는 질문: {:.2f}%'.format(fullstop * 100))\n",
    "print('첫 글자가 대문자 인 질문: {:.2f}%'.format(capital_first * 100))\n",
    "print('대문자가있는 질문: {:.2f}%'.format(capitals * 100))\n",
    "print('숫자가있는 질문: {:.2f}%'.format(numbers * 100))"
   ]
  },
  {
   "cell_type": "markdown",
   "metadata": {},
   "source": [
    "### 데이터 전처리\n",
    "\n",
    "데이터 분석과정을 바탕으로 데이터를 모델에 적용시키기 위해 전처리 과정을 진행한다."
   ]
  },
  {
   "cell_type": "code",
   "execution_count": 1,
   "metadata": {},
   "outputs": [
    {
     "name": "stderr",
     "output_type": "stream",
     "text": [
      "[nltk_data] Downloading package stopwords to\n",
      "[nltk_data]     C:\\Users\\p\\AppData\\Roaming\\nltk_data...\n",
      "[nltk_data]   Package stopwords is already up-to-date!\n"
     ]
    }
   ],
   "source": [
    "import re\n",
    "import json\n",
    "import pandas as pd\n",
    "import numpy as np\n",
    "from bs4 import BeautifulSoup\n",
    "import nltk\n",
    "nltk.download('stopwords')\n",
    "from nltk.corpus import stopwords\n",
    "from tensorflow.keras.preprocessing.sequence import pad_sequences\n",
    "from tensorflow.keras.preprocessing.text import Tokenizer"
   ]
  },
  {
   "cell_type": "code",
   "execution_count": 2,
   "metadata": {},
   "outputs": [
    {
     "name": "stdout",
     "output_type": "stream",
     "text": [
      "\"With all this stuff going down at the moment with MJ i've started listening to his music, watching the odd documentary here and there, watched The Wiz and watched Moonwalker again. Maybe i just want to get a certain insight into this guy who i thought was really cool in the eighties just to maybe make up my mind whether he is guilty or innocent. Moonwalker is part biography, part feature film which i remember going to see at the cinema when it was originally released. Some of it has subtle messages about MJ's feeling towards the press and also the obvious message of drugs are bad m'kay.<br /><br />Visually impressive but of course this is all about Michael Jackson so unless you remotely like MJ in anyway then you are going to hate this and find it boring. Some may call MJ an egotist for consenting to the making of this movie BUT MJ and most of his fans would say that he made it for the fans which if true is really nice of him.<br /><br />The actual feature film bit when it finally starts is only on for 20 minutes or so excluding the Smooth Criminal sequence and Joe Pesci is convincing as a psychopathic all powerful drug lord. Why he wants MJ dead so bad is beyond me. Because MJ overheard his plans? Nah, Joe Pesci's character ranted that he wanted people to know it is he who is supplying drugs etc so i dunno, maybe he just hates MJ's music.<br /><br />Lots of cool things in this like MJ turning into a car and a robot and the whole Speed Demon sequence. Also, the director must have had the patience of a saint when it came to filming the kiddy Bad sequence as usually directors hate working with one kid let alone a whole bunch of them performing a complex dance scene.<br /><br />Bottom line, this movie is for people who like MJ on one level or another (which i think is most people). If not, then stay away. It does try and give off a wholesome message and ironically MJ's bestest buddy in this movie is a girl! Michael Jackson is truly one of the most talented people ever to grace this planet but is he guilty? Well, with all the attention i've gave this subject....hmmm well i don't know because people can be different behind closed doors, i know this for a fact. He is either an extremely nice but stupid guy or one of the most sickest liars. I hope he is not the latter.\"\n"
     ]
    }
   ],
   "source": [
    "DATA_IN_PATH = './data_in/'\n",
    "\n",
    "train_data = pd.read_csv( DATA_IN_PATH + 'labeledTrainData.tsv', header = 0, delimiter = '\\t', quoting = 3)\n",
    "print(train_data['review'][0])"
   ]
  },
  {
   "cell_type": "code",
   "execution_count": 3,
   "metadata": {},
   "outputs": [],
   "source": [
    "review = train_data['review'][0] # 리뷰 중 하나를 가져온다.\n",
    "review_text = BeautifulSoup(review,\"html5lib\").get_text() # HTML 태그 제거\n",
    "review_text = re.sub(\"[^a-zA-Z]\", \" \", review_text ) # 영어 문자를 제외한 나머지는 모두 공백으로 바꾼다."
   ]
  },
  {
   "cell_type": "code",
   "execution_count": 34,
   "metadata": {},
   "outputs": [
    {
     "name": "stdout",
     "output_type": "stream",
     "text": [
      " With all this stuff going down at the moment with MJ i ve started listening to his music  watching the odd documentary here and there  watched The Wiz and watched Moonwalker again  Maybe i just want to get a certain insight into this guy who i thought was really cool in the eighties just to maybe make up my mind whether he is guilty or innocent  Moonwalker is part biography  part feature film which i remember going to see at the cinema when it was originally released  Some of it has subtle messages about MJ s feeling towards the press and also the obvious message of drugs are bad m kay Visually impressive but of course this is all about Michael Jackson so unless you remotely like MJ in anyway then you are going to hate this and find it boring  Some may call MJ an egotist for consenting to the making of this movie BUT MJ and most of his fans would say that he made it for the fans which if true is really nice of him The actual feature film bit when it finally starts is only on for    minutes or so excluding the Smooth Criminal sequence and Joe Pesci is convincing as a psychopathic all powerful drug lord  Why he wants MJ dead so bad is beyond me  Because MJ overheard his plans  Nah  Joe Pesci s character ranted that he wanted people to know it is he who is supplying drugs etc so i dunno  maybe he just hates MJ s music Lots of cool things in this like MJ turning into a car and a robot and the whole Speed Demon sequence  Also  the director must have had the patience of a saint when it came to filming the kiddy Bad sequence as usually directors hate working with one kid let alone a whole bunch of them performing a complex dance scene Bottom line  this movie is for people who like MJ on one level or another  which i think is most people   If not  then stay away  It does try and give off a wholesome message and ironically MJ s bestest buddy in this movie is a girl  Michael Jackson is truly one of the most talented people ever to grace this planet but is he guilty  Well  with all the attention i ve gave this subject    hmmm well i don t know because people can be different behind closed doors  i know this for a fact  He is either an extremely nice but stupid guy or one of the most sickest liars  I hope he is not the latter  \n"
     ]
    }
   ],
   "source": [
    "print(review_text)"
   ]
  },
  {
   "cell_type": "code",
   "execution_count": 35,
   "metadata": {},
   "outputs": [],
   "source": [
    "stop_words = set(stopwords.words('english')) # 영어 불용어들의 set을 만든다.\n",
    "\n",
    "review_text = review_text.lower()\n",
    "words = review_text.split() # 소문자 변환 후 단어마다 나눠서 단어 리스트로 만든다.\n",
    "words = [w for w in words if not w in stop_words] # 불용어 제거한 리스트를 만든다"
   ]
  },
  {
   "cell_type": "code",
   "execution_count": 36,
   "metadata": {},
   "outputs": [
    {
     "name": "stdout",
     "output_type": "stream",
     "text": [
      "['stuff', 'going', 'moment', 'mj', 'started', 'listening', 'music', 'watching', 'odd', 'documentary', 'watched', 'wiz', 'watched', 'moonwalker', 'maybe', 'want', 'get', 'certain', 'insight', 'guy', 'thought', 'really', 'cool', 'eighties', 'maybe', 'make', 'mind', 'whether', 'guilty', 'innocent', 'moonwalker', 'part', 'biography', 'part', 'feature', 'film', 'remember', 'going', 'see', 'cinema', 'originally', 'released', 'subtle', 'messages', 'mj', 'feeling', 'towards', 'press', 'also', 'obvious', 'message', 'drugs', 'bad', 'kay', 'visually', 'impressive', 'course', 'michael', 'jackson', 'unless', 'remotely', 'like', 'mj', 'anyway', 'going', 'hate', 'find', 'boring', 'may', 'call', 'mj', 'egotist', 'consenting', 'making', 'movie', 'mj', 'fans', 'would', 'say', 'made', 'fans', 'true', 'really', 'nice', 'actual', 'feature', 'film', 'bit', 'finally', 'starts', 'minutes', 'excluding', 'smooth', 'criminal', 'sequence', 'joe', 'pesci', 'convincing', 'psychopathic', 'powerful', 'drug', 'lord', 'wants', 'mj', 'dead', 'bad', 'beyond', 'mj', 'overheard', 'plans', 'nah', 'joe', 'pesci', 'character', 'ranted', 'wanted', 'people', 'know', 'supplying', 'drugs', 'etc', 'dunno', 'maybe', 'hates', 'mj', 'music', 'lots', 'cool', 'things', 'like', 'mj', 'turning', 'car', 'robot', 'whole', 'speed', 'demon', 'sequence', 'also', 'director', 'must', 'patience', 'saint', 'came', 'filming', 'kiddy', 'bad', 'sequence', 'usually', 'directors', 'hate', 'working', 'one', 'kid', 'let', 'alone', 'whole', 'bunch', 'performing', 'complex', 'dance', 'scene', 'bottom', 'line', 'movie', 'people', 'like', 'mj', 'one', 'level', 'another', 'think', 'people', 'stay', 'away', 'try', 'give', 'wholesome', 'message', 'ironically', 'mj', 'bestest', 'buddy', 'movie', 'girl', 'michael', 'jackson', 'truly', 'one', 'talented', 'people', 'ever', 'grace', 'planet', 'guilty', 'well', 'attention', 'gave', 'subject', 'hmmm', 'well', 'know', 'people', 'different', 'behind', 'closed', 'doors', 'know', 'fact', 'either', 'extremely', 'nice', 'stupid', 'guy', 'one', 'sickest', 'liars', 'hope', 'latter']\n"
     ]
    }
   ],
   "source": [
    "print(words)"
   ]
  },
  {
   "cell_type": "code",
   "execution_count": 37,
   "metadata": {},
   "outputs": [
    {
     "name": "stdout",
     "output_type": "stream",
     "text": [
      "stuff going moment mj started listening music watching odd documentary watched wiz watched moonwalker maybe want get certain insight guy thought really cool eighties maybe make mind whether guilty innocent moonwalker part biography part feature film remember going see cinema originally released subtle messages mj feeling towards press also obvious message drugs bad kay visually impressive course michael jackson unless remotely like mj anyway going hate find boring may call mj egotist consenting making movie mj fans would say made fans true really nice actual feature film bit finally starts minutes excluding smooth criminal sequence joe pesci convincing psychopathic powerful drug lord wants mj dead bad beyond mj overheard plans nah joe pesci character ranted wanted people know supplying drugs etc dunno maybe hates mj music lots cool things like mj turning car robot whole speed demon sequence also director must patience saint came filming kiddy bad sequence usually directors hate working one kid let alone whole bunch performing complex dance scene bottom line movie people like mj one level another think people stay away try give wholesome message ironically mj bestest buddy movie girl michael jackson truly one talented people ever grace planet guilty well attention gave subject hmmm well know people different behind closed doors know fact either extremely nice stupid guy one sickest liars hope latter\n"
     ]
    }
   ],
   "source": [
    "clean_review = ' '.join(words) # 단어 리스트들을 다시 하나의 글로 합친다.\n",
    "print(clean_review)"
   ]
  },
  {
   "cell_type": "code",
   "execution_count": 38,
   "metadata": {},
   "outputs": [],
   "source": [
    "def preprocessing( review, remove_stopwords = False ): \n",
    "    # 불용어 제거는 옵션으로 선택 가능하다.\n",
    "    \n",
    "    # 1. HTML 태그 제거\n",
    "    review_text = BeautifulSoup(review, \"html5lib\").get_text()\t\n",
    "\n",
    "    # 2. 영어가 아닌 특수문자들을 공백(\" \")으로 바꾸기\n",
    "    review_text = re.sub(\"[^a-zA-Z]\", \" \", review_text)\n",
    "\n",
    "    # 3. 대문자들을 소문자로 바꾸고 공백단위로 텍스트들 나눠서 리스트로 만든다.\n",
    "    words = review_text.lower().split()\n",
    "\n",
    "    if remove_stopwords: \n",
    "        # 4. 불용어들을 제거\n",
    "    \n",
    "        #영어에 관련된 불용어 불러오기\n",
    "        stops = set(stopwords.words(\"english\"))\n",
    "        # 불용어가 아닌 단어들로 이루어진 새로운 리스트 생성\n",
    "        words = [w for w in words if not w in stops]\n",
    "        # 5. 단어 리스트를 공백을 넣어서 하나의 글로 합친다.\t\n",
    "        clean_review = ' '.join(words)\n",
    "\n",
    "    else: # 불용어 제거하지 않을 때\n",
    "        clean_review = ' '.join(words)\n",
    "\n",
    "    return clean_review"
   ]
  },
  {
   "cell_type": "code",
   "execution_count": 39,
   "metadata": {},
   "outputs": [
    {
     "name": "stderr",
     "output_type": "stream",
     "text": [
      "C:\\Users\\p\\AppData\\Local\\Temp\\ipykernel_27208\\383691792.py:5: MarkupResemblesLocatorWarning: The input looks more like a filename than markup. You may want to open this file and pass the filehandle into Beautiful Soup.\n",
      "  review_text = BeautifulSoup(review, \"html5lib\").get_text()\n"
     ]
    },
    {
     "data": {
      "text/plain": [
       "'stuff going moment mj started listening music watching odd documentary watched wiz watched moonwalker maybe want get certain insight guy thought really cool eighties maybe make mind whether guilty innocent moonwalker part biography part feature film remember going see cinema originally released subtle messages mj feeling towards press also obvious message drugs bad kay visually impressive course michael jackson unless remotely like mj anyway going hate find boring may call mj egotist consenting making movie mj fans would say made fans true really nice actual feature film bit finally starts minutes excluding smooth criminal sequence joe pesci convincing psychopathic powerful drug lord wants mj dead bad beyond mj overheard plans nah joe pesci character ranted wanted people know supplying drugs etc dunno maybe hates mj music lots cool things like mj turning car robot whole speed demon sequence also director must patience saint came filming kiddy bad sequence usually directors hate working one kid let alone whole bunch performing complex dance scene bottom line movie people like mj one level another think people stay away try give wholesome message ironically mj bestest buddy movie girl michael jackson truly one talented people ever grace planet guilty well attention gave subject hmmm well know people different behind closed doors know fact either extremely nice stupid guy one sickest liars hope latter'"
      ]
     },
     "execution_count": 39,
     "metadata": {},
     "output_type": "execute_result"
    }
   ],
   "source": [
    "clean_train_reviews = []\n",
    "for review in train_data['review']:\n",
    "    clean_train_reviews.append(preprocessing(review, remove_stopwords = True))\n",
    "\n",
    "# 전처리한 데이터 출력\n",
    "clean_train_reviews[0]"
   ]
  },
  {
   "cell_type": "code",
   "execution_count": 40,
   "metadata": {},
   "outputs": [],
   "source": [
    "clean_train_df = pd.DataFrame({'review': clean_train_reviews, 'sentiment': train_data['sentiment']})"
   ]
  },
  {
   "cell_type": "code",
   "execution_count": 41,
   "metadata": {},
   "outputs": [],
   "source": [
    "tokenizer = Tokenizer()\n",
    "tokenizer.fit_on_texts(clean_train_reviews)\n",
    "text_sequences = tokenizer.texts_to_sequences(clean_train_reviews)"
   ]
  },
  {
   "cell_type": "code",
   "execution_count": 42,
   "metadata": {},
   "outputs": [
    {
     "name": "stdout",
     "output_type": "stream",
     "text": [
      "[404, 70, 419, 8815, 506, 2456, 115, 54, 873, 516, 178, 18686, 178, 11242, 165, 78, 14, 662, 2457, 117, 92, 10, 499, 4074, 165, 22, 210, 581, 2333, 1194, 11242, 71, 4826, 71, 635, 2, 253, 70, 11, 302, 1663, 486, 1144, 3265, 8815, 411, 793, 3342, 17, 441, 600, 1500, 15, 4424, 1851, 998, 146, 342, 1442, 743, 2424, 4, 8815, 418, 70, 637, 69, 237, 94, 541, 8815, 26055, 26056, 120, 1, 8815, 323, 8, 47, 20, 323, 167, 10, 207, 633, 635, 2, 116, 291, 382, 121, 15535, 3315, 1501, 574, 734, 10013, 923, 11578, 822, 1239, 1408, 360, 8815, 221, 15, 576, 8815, 22224, 2274, 13426, 734, 10013, 27, 28606, 340, 16, 41, 18687, 1500, 388, 11243, 165, 3962, 8815, 115, 627, 499, 79, 4, 8815, 1430, 380, 2163, 114, 1919, 2503, 574, 17, 60, 100, 4875, 5100, 260, 1268, 26057, 15, 574, 493, 744, 637, 631, 3, 394, 164, 446, 114, 615, 3266, 1160, 684, 48, 1175, 224, 1, 16, 4, 8815, 3, 507, 62, 25, 16, 640, 133, 231, 95, 7426, 600, 3439, 8815, 37248, 1864, 1, 128, 342, 1442, 247, 3, 865, 16, 42, 1487, 997, 2333, 12, 549, 386, 717, 6920, 12, 41, 16, 158, 362, 4392, 3388, 41, 87, 225, 438, 207, 254, 117, 3, 18688, 18689, 316, 1356]\n"
     ]
    }
   ],
   "source": [
    "print(text_sequences[0])"
   ]
  },
  {
   "cell_type": "code",
   "execution_count": 43,
   "metadata": {},
   "outputs": [],
   "source": [
    "word_vocab = tokenizer.word_index\n",
    "word_vocab[\"<PAD>\"] = 0"
   ]
  },
  {
   "cell_type": "code",
   "execution_count": 44,
   "metadata": {},
   "outputs": [
    {
     "name": "stdout",
     "output_type": "stream",
     "text": [
      "전체 단어 개수:  74066\n"
     ]
    }
   ],
   "source": [
    "print(\"전체 단어 개수: \", len(word_vocab))"
   ]
  },
  {
   "cell_type": "code",
   "execution_count": 46,
   "metadata": {},
   "outputs": [
    {
     "data": {
      "text/plain": [
       "{'movie': 1,\n",
       " 'film': 2,\n",
       " 'one': 3,\n",
       " 'like': 4,\n",
       " 'good': 5,\n",
       " 'time': 6,\n",
       " 'even': 7,\n",
       " 'would': 8,\n",
       " 'story': 9,\n",
       " 'really': 10,\n",
       " 'see': 11,\n",
       " 'well': 12,\n",
       " 'much': 13,\n",
       " 'get': 14,\n",
       " 'bad': 15,\n",
       " 'people': 16,\n",
       " 'also': 17,\n",
       " 'first': 18,\n",
       " 'great': 19,\n",
       " 'made': 20,\n",
       " 'way': 21,\n",
       " 'make': 22,\n",
       " 'could': 23,\n",
       " 'movies': 24,\n",
       " 'think': 25,\n",
       " 'characters': 26,\n",
       " 'character': 27,\n",
       " 'watch': 28,\n",
       " 'two': 29,\n",
       " 'films': 30,\n",
       " 'seen': 31,\n",
       " 'many': 32,\n",
       " 'life': 33,\n",
       " 'plot': 34,\n",
       " 'acting': 35,\n",
       " 'never': 36,\n",
       " 'love': 37,\n",
       " 'little': 38,\n",
       " 'best': 39,\n",
       " 'show': 40,\n",
       " 'know': 41,\n",
       " 'ever': 42,\n",
       " 'man': 43,\n",
       " 'better': 44,\n",
       " 'end': 45,\n",
       " 'still': 46,\n",
       " 'say': 47,\n",
       " 'scene': 48,\n",
       " 'scenes': 49,\n",
       " 'go': 50,\n",
       " 'something': 51,\n",
       " 'back': 52,\n",
       " 'real': 53,\n",
       " 'watching': 54,\n",
       " 'though': 55,\n",
       " 'thing': 56,\n",
       " 'old': 57,\n",
       " 'years': 58,\n",
       " 'actors': 59,\n",
       " 'director': 60,\n",
       " 'work': 61,\n",
       " 'another': 62,\n",
       " 'new': 63,\n",
       " 'nothing': 64,\n",
       " 'funny': 65,\n",
       " 'actually': 66,\n",
       " 'makes': 67,\n",
       " 'look': 68,\n",
       " 'find': 69,\n",
       " 'going': 70,\n",
       " 'part': 71,\n",
       " 'lot': 72,\n",
       " 'every': 73,\n",
       " 'world': 74,\n",
       " 'cast': 75,\n",
       " 'us': 76,\n",
       " 'quite': 77,\n",
       " 'want': 78,\n",
       " 'things': 79,\n",
       " 'pretty': 80,\n",
       " 'young': 81,\n",
       " 'seems': 82,\n",
       " 'around': 83,\n",
       " 'horror': 84,\n",
       " 'got': 85,\n",
       " 'however': 86,\n",
       " 'fact': 87,\n",
       " 'take': 88,\n",
       " 'big': 89,\n",
       " 'enough': 90,\n",
       " 'long': 91,\n",
       " 'thought': 92,\n",
       " 'series': 93,\n",
       " 'may': 94,\n",
       " 'give': 95,\n",
       " 'original': 96,\n",
       " 'action': 97,\n",
       " 'right': 98,\n",
       " 'without': 99,\n",
       " 'must': 100,\n",
       " 'comedy': 101,\n",
       " 'always': 102,\n",
       " 'times': 103,\n",
       " 'point': 104,\n",
       " 'gets': 105,\n",
       " 'family': 106,\n",
       " 'come': 107,\n",
       " 'role': 108,\n",
       " 'saw': 109,\n",
       " 'almost': 110,\n",
       " 'interesting': 111,\n",
       " 'least': 112,\n",
       " 'done': 113,\n",
       " 'whole': 114,\n",
       " 'music': 115,\n",
       " 'bit': 116,\n",
       " 'guy': 117,\n",
       " 'script': 118,\n",
       " 'far': 119,\n",
       " 'making': 120,\n",
       " 'minutes': 121,\n",
       " 'feel': 122,\n",
       " 'anything': 123,\n",
       " 'last': 124,\n",
       " 'might': 125,\n",
       " 'since': 126,\n",
       " 'performance': 127,\n",
       " 'girl': 128,\n",
       " 'probably': 129,\n",
       " 'woman': 130,\n",
       " 'kind': 131,\n",
       " 'tv': 132,\n",
       " 'away': 133,\n",
       " 'yet': 134,\n",
       " 'day': 135,\n",
       " 'rather': 136,\n",
       " 'worst': 137,\n",
       " 'fun': 138,\n",
       " 'sure': 139,\n",
       " 'hard': 140,\n",
       " 'anyone': 141,\n",
       " 'played': 142,\n",
       " 'found': 143,\n",
       " 'although': 144,\n",
       " 'especially': 145,\n",
       " 'course': 146,\n",
       " 'believe': 147,\n",
       " 'screen': 148,\n",
       " 'comes': 149,\n",
       " 'looking': 150,\n",
       " 'trying': 151,\n",
       " 'set': 152,\n",
       " 'goes': 153,\n",
       " 'book': 154,\n",
       " 'looks': 155,\n",
       " 'place': 156,\n",
       " 'actor': 157,\n",
       " 'different': 158,\n",
       " 'put': 159,\n",
       " 'year': 160,\n",
       " 'money': 161,\n",
       " 'ending': 162,\n",
       " 'dvd': 163,\n",
       " 'let': 164,\n",
       " 'maybe': 165,\n",
       " 'someone': 166,\n",
       " 'true': 167,\n",
       " 'sense': 168,\n",
       " 'reason': 169,\n",
       " 'everything': 170,\n",
       " 'shows': 171,\n",
       " 'three': 172,\n",
       " 'worth': 173,\n",
       " 'job': 174,\n",
       " 'main': 175,\n",
       " 'together': 176,\n",
       " 'play': 177,\n",
       " 'watched': 178,\n",
       " 'american': 179,\n",
       " 'everyone': 180,\n",
       " 'plays': 181,\n",
       " 'john': 182,\n",
       " 'effects': 183,\n",
       " 'later': 184,\n",
       " 'audience': 185,\n",
       " 'said': 186,\n",
       " 'takes': 187,\n",
       " 'instead': 188,\n",
       " 'house': 189,\n",
       " 'beautiful': 190,\n",
       " 'seem': 191,\n",
       " 'night': 192,\n",
       " 'high': 193,\n",
       " 'version': 194,\n",
       " 'wife': 195,\n",
       " 'left': 196,\n",
       " 'father': 197,\n",
       " 'special': 198,\n",
       " 'seeing': 199,\n",
       " 'half': 200,\n",
       " 'star': 201,\n",
       " 'excellent': 202,\n",
       " 'war': 203,\n",
       " 'shot': 204,\n",
       " 'idea': 205,\n",
       " 'black': 206,\n",
       " 'nice': 207,\n",
       " 'less': 208,\n",
       " 'else': 209,\n",
       " 'mind': 210,\n",
       " 'simply': 211,\n",
       " 'read': 212,\n",
       " 'second': 213,\n",
       " 'fan': 214,\n",
       " 'men': 215,\n",
       " 'death': 216,\n",
       " 'hollywood': 217,\n",
       " 'poor': 218,\n",
       " 'help': 219,\n",
       " 'completely': 220,\n",
       " 'dead': 221,\n",
       " 'used': 222,\n",
       " 'home': 223,\n",
       " 'line': 224,\n",
       " 'either': 225,\n",
       " 'short': 226,\n",
       " 'top': 227,\n",
       " 'given': 228,\n",
       " 'kids': 229,\n",
       " 'budget': 230,\n",
       " 'try': 231,\n",
       " 'classic': 232,\n",
       " 'performances': 233,\n",
       " 'wrong': 234,\n",
       " 'women': 235,\n",
       " 'enjoy': 236,\n",
       " 'boring': 237,\n",
       " 'need': 238,\n",
       " 'rest': 239,\n",
       " 'use': 240,\n",
       " 'low': 241,\n",
       " 'production': 242,\n",
       " 'friends': 243,\n",
       " 'full': 244,\n",
       " 'camera': 245,\n",
       " 'along': 246,\n",
       " 'truly': 247,\n",
       " 'video': 248,\n",
       " 'awful': 249,\n",
       " 'couple': 250,\n",
       " 'tell': 251,\n",
       " 'next': 252,\n",
       " 'remember': 253,\n",
       " 'stupid': 254,\n",
       " 'start': 255,\n",
       " 'stars': 256,\n",
       " 'mean': 257,\n",
       " 'sex': 258,\n",
       " 'perhaps': 259,\n",
       " 'came': 260,\n",
       " 'recommend': 261,\n",
       " 'moments': 262,\n",
       " 'school': 263,\n",
       " 'episode': 264,\n",
       " 'wonderful': 265,\n",
       " 'small': 266,\n",
       " 'face': 267,\n",
       " 'understand': 268,\n",
       " 'terrible': 269,\n",
       " 'playing': 270,\n",
       " 'getting': 271,\n",
       " 'written': 272,\n",
       " 'early': 273,\n",
       " 'name': 274,\n",
       " 'often': 275,\n",
       " 'keep': 276,\n",
       " 'style': 277,\n",
       " 'perfect': 278,\n",
       " 'human': 279,\n",
       " 'person': 280,\n",
       " 'others': 281,\n",
       " 'definitely': 282,\n",
       " 'gives': 283,\n",
       " 'boy': 284,\n",
       " 'lost': 285,\n",
       " 'live': 286,\n",
       " 'lines': 287,\n",
       " 'become': 288,\n",
       " 'dialogue': 289,\n",
       " 'head': 290,\n",
       " 'finally': 291,\n",
       " 'piece': 292,\n",
       " 'yes': 293,\n",
       " 'case': 294,\n",
       " 'felt': 295,\n",
       " 'mother': 296,\n",
       " 'liked': 297,\n",
       " 'supposed': 298,\n",
       " 'children': 299,\n",
       " 'title': 300,\n",
       " 'white': 301,\n",
       " 'cinema': 302,\n",
       " 'absolutely': 303,\n",
       " 'picture': 304,\n",
       " 'sort': 305,\n",
       " 'worse': 306,\n",
       " 'went': 307,\n",
       " 'certainly': 308,\n",
       " 'entire': 309,\n",
       " 'waste': 310,\n",
       " 'killer': 311,\n",
       " 'problem': 312,\n",
       " 'oh': 313,\n",
       " 'mr': 314,\n",
       " 'evil': 315,\n",
       " 'hope': 316,\n",
       " 'entertaining': 317,\n",
       " 'friend': 318,\n",
       " 'overall': 319,\n",
       " 'called': 320,\n",
       " 'based': 321,\n",
       " 'loved': 322,\n",
       " 'fans': 323,\n",
       " 'several': 324,\n",
       " 'drama': 325,\n",
       " 'beginning': 326,\n",
       " 'lives': 327,\n",
       " 'care': 328,\n",
       " 'already': 329,\n",
       " 'dark': 330,\n",
       " 'becomes': 331,\n",
       " 'laugh': 332,\n",
       " 'example': 333,\n",
       " 'direction': 334,\n",
       " 'despite': 335,\n",
       " 'seemed': 336,\n",
       " 'throughout': 337,\n",
       " 'turn': 338,\n",
       " 'son': 339,\n",
       " 'wanted': 340,\n",
       " 'unfortunately': 341,\n",
       " 'michael': 342,\n",
       " 'history': 343,\n",
       " 'final': 344,\n",
       " 'heart': 345,\n",
       " 'fine': 346,\n",
       " 'sound': 347,\n",
       " 'b': 348,\n",
       " 'amazing': 349,\n",
       " 'child': 350,\n",
       " 'humor': 351,\n",
       " 'lead': 352,\n",
       " 'guess': 353,\n",
       " 'totally': 354,\n",
       " 'writing': 355,\n",
       " 'guys': 356,\n",
       " 'quality': 357,\n",
       " 'close': 358,\n",
       " 'art': 359,\n",
       " 'wants': 360,\n",
       " 'game': 361,\n",
       " 'behind': 362,\n",
       " 'town': 363,\n",
       " 'works': 364,\n",
       " 'side': 365,\n",
       " 'tries': 366,\n",
       " 'days': 367,\n",
       " 'past': 368,\n",
       " 'viewer': 369,\n",
       " 'able': 370,\n",
       " 'flick': 371,\n",
       " 'hand': 372,\n",
       " 'genre': 373,\n",
       " 'turns': 374,\n",
       " 'act': 375,\n",
       " 'enjoyed': 376,\n",
       " 'today': 377,\n",
       " 'kill': 378,\n",
       " 'favorite': 379,\n",
       " 'car': 380,\n",
       " 'soon': 381,\n",
       " 'starts': 382,\n",
       " 'actress': 383,\n",
       " 'run': 384,\n",
       " 'sometimes': 385,\n",
       " 'gave': 386,\n",
       " 'eyes': 387,\n",
       " 'etc': 388,\n",
       " 'girls': 389,\n",
       " 'late': 390,\n",
       " 'god': 391,\n",
       " 'directed': 392,\n",
       " 'horrible': 393,\n",
       " 'kid': 394,\n",
       " 'brilliant': 395,\n",
       " 'city': 396,\n",
       " 'parts': 397,\n",
       " 'hour': 398,\n",
       " 'blood': 399,\n",
       " 'self': 400,\n",
       " 'thinking': 401,\n",
       " 'stories': 402,\n",
       " 'expect': 403,\n",
       " 'stuff': 404,\n",
       " 'obviously': 405,\n",
       " 'decent': 406,\n",
       " 'voice': 407,\n",
       " 'writer': 408,\n",
       " 'fight': 409,\n",
       " 'highly': 410,\n",
       " 'feeling': 411,\n",
       " 'daughter': 412,\n",
       " 'slow': 413,\n",
       " 'except': 414,\n",
       " 'matter': 415,\n",
       " 'type': 416,\n",
       " 'age': 417,\n",
       " 'anyway': 418,\n",
       " 'moment': 419,\n",
       " 'roles': 420,\n",
       " 'heard': 421,\n",
       " 'killed': 422,\n",
       " 'says': 423,\n",
       " 'brother': 424,\n",
       " 'leave': 425,\n",
       " 'took': 426,\n",
       " 'police': 427,\n",
       " 'strong': 428,\n",
       " 'cannot': 429,\n",
       " 'violence': 430,\n",
       " 'hit': 431,\n",
       " 'stop': 432,\n",
       " 'happens': 433,\n",
       " 'known': 434,\n",
       " 'particularly': 435,\n",
       " 'happened': 436,\n",
       " 'involved': 437,\n",
       " 'extremely': 438,\n",
       " 'james': 439,\n",
       " 'chance': 440,\n",
       " 'obvious': 441,\n",
       " 'murder': 442,\n",
       " 'living': 443,\n",
       " 'told': 444,\n",
       " 'coming': 445,\n",
       " 'alone': 446,\n",
       " 'experience': 447,\n",
       " 'lack': 448,\n",
       " 'hero': 449,\n",
       " 'including': 450,\n",
       " 'attempt': 451,\n",
       " 'please': 452,\n",
       " 'happen': 453,\n",
       " 'crap': 454,\n",
       " 'gore': 455,\n",
       " 'wonder': 456,\n",
       " 'complete': 457,\n",
       " 'cut': 458,\n",
       " 'group': 459,\n",
       " 'interest': 460,\n",
       " 'ago': 461,\n",
       " 'none': 462,\n",
       " 'score': 463,\n",
       " 'husband': 464,\n",
       " 'hell': 465,\n",
       " 'david': 466,\n",
       " 'save': 467,\n",
       " 'simple': 468,\n",
       " 'ok': 469,\n",
       " 'looked': 470,\n",
       " 'song': 471,\n",
       " 'career': 472,\n",
       " 'number': 473,\n",
       " 'seriously': 474,\n",
       " 'king': 475,\n",
       " 'possible': 476,\n",
       " 'annoying': 477,\n",
       " 'sad': 478,\n",
       " 'exactly': 479,\n",
       " 'shown': 480,\n",
       " 'running': 481,\n",
       " 'musical': 482,\n",
       " 'serious': 483,\n",
       " 'scary': 484,\n",
       " 'reality': 485,\n",
       " 'released': 486,\n",
       " 'taken': 487,\n",
       " 'whose': 488,\n",
       " 'english': 489,\n",
       " 'ends': 490,\n",
       " 'cinematography': 491,\n",
       " 'hours': 492,\n",
       " 'usually': 493,\n",
       " 'opening': 494,\n",
       " 'jokes': 495,\n",
       " 'light': 496,\n",
       " 'hilarious': 497,\n",
       " 'body': 498,\n",
       " 'cool': 499,\n",
       " 'across': 500,\n",
       " 'relationship': 501,\n",
       " 'somewhat': 502,\n",
       " 'usual': 503,\n",
       " 'happy': 504,\n",
       " 'ridiculous': 505,\n",
       " 'started': 506,\n",
       " 'level': 507,\n",
       " 'view': 508,\n",
       " 'change': 509,\n",
       " 'opinion': 510,\n",
       " 'novel': 511,\n",
       " 'wish': 512,\n",
       " 'middle': 513,\n",
       " 'taking': 514,\n",
       " 'talking': 515,\n",
       " 'documentary': 516,\n",
       " 'ones': 517,\n",
       " 'robert': 518,\n",
       " 'order': 519,\n",
       " 'finds': 520,\n",
       " 'power': 521,\n",
       " 'shots': 522,\n",
       " 'saying': 523,\n",
       " 'room': 524,\n",
       " 'female': 525,\n",
       " 'huge': 526,\n",
       " 'mostly': 527,\n",
       " 'episodes': 528,\n",
       " 'country': 529,\n",
       " 'five': 530,\n",
       " 'talent': 531,\n",
       " 'important': 532,\n",
       " 'modern': 533,\n",
       " 'earth': 534,\n",
       " 'rating': 535,\n",
       " 'major': 536,\n",
       " 'strange': 537,\n",
       " 'word': 538,\n",
       " 'turned': 539,\n",
       " 'jack': 540,\n",
       " 'call': 541,\n",
       " 'single': 542,\n",
       " 'apparently': 543,\n",
       " 'disappointed': 544,\n",
       " 'four': 545,\n",
       " 'events': 546,\n",
       " 'due': 547,\n",
       " 'songs': 548,\n",
       " 'attention': 549,\n",
       " 'basically': 550,\n",
       " 'television': 551,\n",
       " 'comic': 552,\n",
       " 'knows': 553,\n",
       " 'future': 554,\n",
       " 'clearly': 555,\n",
       " 'supporting': 556,\n",
       " 'british': 557,\n",
       " 'non': 558,\n",
       " 'paul': 559,\n",
       " 'knew': 560,\n",
       " 'fast': 561,\n",
       " 'thriller': 562,\n",
       " 'class': 563,\n",
       " 'easily': 564,\n",
       " 'cheap': 565,\n",
       " 'silly': 566,\n",
       " 'problems': 567,\n",
       " 'words': 568,\n",
       " 'miss': 569,\n",
       " 'tells': 570,\n",
       " 'entertainment': 571,\n",
       " 'local': 572,\n",
       " 'rock': 573,\n",
       " 'sequence': 574,\n",
       " 'bring': 575,\n",
       " 'beyond': 576,\n",
       " 'straight': 577,\n",
       " 'george': 578,\n",
       " 'oscar': 579,\n",
       " 'upon': 580,\n",
       " 'whether': 581,\n",
       " 'predictable': 582,\n",
       " 'moving': 583,\n",
       " 'romantic': 584,\n",
       " 'sets': 585,\n",
       " 'similar': 586,\n",
       " 'falls': 587,\n",
       " 'mystery': 588,\n",
       " 'review': 589,\n",
       " 'eye': 590,\n",
       " 'lady': 591,\n",
       " 'richard': 592,\n",
       " 'talk': 593,\n",
       " 'enjoyable': 594,\n",
       " 'appears': 595,\n",
       " 'needs': 596,\n",
       " 'clich': 597,\n",
       " 'giving': 598,\n",
       " 'within': 599,\n",
       " 'message': 600,\n",
       " 'ten': 601,\n",
       " 'theater': 602,\n",
       " 'animation': 603,\n",
       " 'near': 604,\n",
       " 'team': 605,\n",
       " 'red': 606,\n",
       " 'sister': 607,\n",
       " 'sequel': 608,\n",
       " 'theme': 609,\n",
       " 'dull': 610,\n",
       " 'nearly': 611,\n",
       " 'stand': 612,\n",
       " 'points': 613,\n",
       " 'lee': 614,\n",
       " 'bunch': 615,\n",
       " 'mention': 616,\n",
       " 'feels': 617,\n",
       " 'add': 618,\n",
       " 'york': 619,\n",
       " 'release': 620,\n",
       " 'ways': 621,\n",
       " 'storyline': 622,\n",
       " 'easy': 623,\n",
       " 'using': 624,\n",
       " 'surprised': 625,\n",
       " 'e': 626,\n",
       " 'lots': 627,\n",
       " 'named': 628,\n",
       " 'fantastic': 629,\n",
       " 'begins': 630,\n",
       " 'working': 631,\n",
       " 'die': 632,\n",
       " 'actual': 633,\n",
       " 'effort': 634,\n",
       " 'feature': 635,\n",
       " 'tale': 636,\n",
       " 'hate': 637,\n",
       " 'french': 638,\n",
       " 'minute': 639,\n",
       " 'stay': 640,\n",
       " 'clear': 641,\n",
       " 'tom': 642,\n",
       " 'viewers': 643,\n",
       " 'follow': 644,\n",
       " 'elements': 645,\n",
       " 'among': 646,\n",
       " 'comments': 647,\n",
       " 'typical': 648,\n",
       " 'avoid': 649,\n",
       " 'showing': 650,\n",
       " 'editing': 651,\n",
       " 'tried': 652,\n",
       " 'season': 653,\n",
       " 'famous': 654,\n",
       " 'sorry': 655,\n",
       " 'peter': 656,\n",
       " 'fall': 657,\n",
       " 'dialog': 658,\n",
       " 'period': 659,\n",
       " 'form': 660,\n",
       " 'general': 661,\n",
       " 'certain': 662,\n",
       " 'soundtrack': 663,\n",
       " 'filmed': 664,\n",
       " 'buy': 665,\n",
       " 'parents': 666,\n",
       " 'check': 667,\n",
       " 'means': 668,\n",
       " 'weak': 669,\n",
       " 'material': 670,\n",
       " 'figure': 671,\n",
       " 'realistic': 672,\n",
       " 'doubt': 673,\n",
       " 'somehow': 674,\n",
       " 'crime': 675,\n",
       " 'space': 676,\n",
       " 'gone': 677,\n",
       " 'disney': 678,\n",
       " 'leads': 679,\n",
       " 'kept': 680,\n",
       " 'viewing': 681,\n",
       " 'greatest': 682,\n",
       " 'th': 683,\n",
       " 'dance': 684,\n",
       " 'lame': 685,\n",
       " 'zombie': 686,\n",
       " 'third': 687,\n",
       " 'suspense': 688,\n",
       " 'imagine': 689,\n",
       " 'brought': 690,\n",
       " 'atmosphere': 691,\n",
       " 'hear': 692,\n",
       " 'whatever': 693,\n",
       " 'particular': 694,\n",
       " 'de': 695,\n",
       " 'sequences': 696,\n",
       " 'america': 697,\n",
       " 'move': 698,\n",
       " 'indeed': 699,\n",
       " 'average': 700,\n",
       " 'eventually': 701,\n",
       " 'learn': 702,\n",
       " 'rent': 703,\n",
       " 'note': 704,\n",
       " 'wait': 705,\n",
       " 'deal': 706,\n",
       " 'reviews': 707,\n",
       " 'forget': 708,\n",
       " 'surprise': 709,\n",
       " 'japanese': 710,\n",
       " 'stage': 711,\n",
       " 'poorly': 712,\n",
       " 'premise': 713,\n",
       " 'nature': 714,\n",
       " 'believable': 715,\n",
       " 'sexual': 716,\n",
       " 'subject': 717,\n",
       " 'sit': 718,\n",
       " 'possibly': 719,\n",
       " 'okay': 720,\n",
       " 'decided': 721,\n",
       " 'expected': 722,\n",
       " 'imdb': 723,\n",
       " 'dr': 724,\n",
       " 'truth': 725,\n",
       " 'street': 726,\n",
       " 'free': 727,\n",
       " 'became': 728,\n",
       " 'difficult': 729,\n",
       " 'screenplay': 730,\n",
       " 'romance': 731,\n",
       " 'killing': 732,\n",
       " 'baby': 733,\n",
       " 'joe': 734,\n",
       " 'hot': 735,\n",
       " 'dog': 736,\n",
       " 'reading': 737,\n",
       " 'question': 738,\n",
       " 'needed': 739,\n",
       " 'leaves': 740,\n",
       " 'begin': 741,\n",
       " 'meets': 742,\n",
       " 'unless': 743,\n",
       " 'directors': 744,\n",
       " 'credits': 745,\n",
       " 'society': 746,\n",
       " 'superb': 747,\n",
       " 'shame': 748,\n",
       " 'otherwise': 749,\n",
       " 'write': 750,\n",
       " 'situation': 751,\n",
       " 'meet': 752,\n",
       " 'dramatic': 753,\n",
       " 'memorable': 754,\n",
       " 'male': 755,\n",
       " 'open': 756,\n",
       " 'dream': 757,\n",
       " 'weird': 758,\n",
       " 'badly': 759,\n",
       " 'earlier': 760,\n",
       " 'writers': 761,\n",
       " 'fi': 762,\n",
       " 'forced': 763,\n",
       " 'laughs': 764,\n",
       " 'sci': 765,\n",
       " 'acted': 766,\n",
       " 'emotional': 767,\n",
       " 'crazy': 768,\n",
       " 'jane': 769,\n",
       " 'older': 770,\n",
       " 'beauty': 771,\n",
       " 'monster': 772,\n",
       " 'realize': 773,\n",
       " 'comment': 774,\n",
       " 'deep': 775,\n",
       " 'footage': 776,\n",
       " 'forward': 777,\n",
       " 'interested': 778,\n",
       " 'fantasy': 779,\n",
       " 'ask': 780,\n",
       " 'sounds': 781,\n",
       " 'plus': 782,\n",
       " 'mark': 783,\n",
       " 'directing': 784,\n",
       " 'features': 785,\n",
       " 'keeps': 786,\n",
       " 'development': 787,\n",
       " 'mess': 788,\n",
       " 'quickly': 789,\n",
       " 'air': 790,\n",
       " 'c': 791,\n",
       " 'creepy': 792,\n",
       " 'towards': 793,\n",
       " 'box': 794,\n",
       " 'perfectly': 795,\n",
       " 'girlfriend': 796,\n",
       " 'worked': 797,\n",
       " 'cheesy': 798,\n",
       " 'setting': 799,\n",
       " 'unique': 800,\n",
       " 'bill': 801,\n",
       " 'effect': 802,\n",
       " 'fire': 803,\n",
       " 'plenty': 804,\n",
       " 'result': 805,\n",
       " 'hands': 806,\n",
       " 'total': 807,\n",
       " 'previous': 808,\n",
       " 'brings': 809,\n",
       " 'personal': 810,\n",
       " 'rate': 811,\n",
       " 'incredibly': 812,\n",
       " 'doctor': 813,\n",
       " 'return': 814,\n",
       " 'business': 815,\n",
       " 'christmas': 816,\n",
       " 'joke': 817,\n",
       " 'apart': 818,\n",
       " 'leading': 819,\n",
       " 'casting': 820,\n",
       " 'admit': 821,\n",
       " 'powerful': 822,\n",
       " 'cop': 823,\n",
       " 'appear': 824,\n",
       " 'background': 825,\n",
       " 'boys': 826,\n",
       " 'ben': 827,\n",
       " 'present': 828,\n",
       " 'era': 829,\n",
       " 'battle': 830,\n",
       " 'meant': 831,\n",
       " 'hardly': 832,\n",
       " 'telling': 833,\n",
       " 'potential': 834,\n",
       " 'masterpiece': 835,\n",
       " 'create': 836,\n",
       " 'secret': 837,\n",
       " 'break': 838,\n",
       " 'pay': 839,\n",
       " 'gay': 840,\n",
       " 'dumb': 841,\n",
       " 'political': 842,\n",
       " 'fighting': 843,\n",
       " 'twist': 844,\n",
       " 'fails': 845,\n",
       " 'co': 846,\n",
       " 'various': 847,\n",
       " 'portrayed': 848,\n",
       " 'inside': 849,\n",
       " 'western': 850,\n",
       " 'villain': 851,\n",
       " 'nudity': 852,\n",
       " 'reasons': 853,\n",
       " 'william': 854,\n",
       " 'outside': 855,\n",
       " 'ideas': 856,\n",
       " 'front': 857,\n",
       " 'missing': 858,\n",
       " 'deserves': 859,\n",
       " 'married': 860,\n",
       " 'match': 861,\n",
       " 'expecting': 862,\n",
       " 'rich': 863,\n",
       " 'fairly': 864,\n",
       " 'talented': 865,\n",
       " 'success': 866,\n",
       " 'list': 867,\n",
       " 'unlike': 868,\n",
       " 'scott': 869,\n",
       " 'remake': 870,\n",
       " 'manages': 871,\n",
       " 'attempts': 872,\n",
       " 'odd': 873,\n",
       " 'social': 874,\n",
       " 'cute': 875,\n",
       " 'recently': 876,\n",
       " 'flat': 877,\n",
       " 'sadly': 878,\n",
       " 'copy': 879,\n",
       " 'wrote': 880,\n",
       " 'agree': 881,\n",
       " 'sweet': 882,\n",
       " 'cold': 883,\n",
       " 'crew': 884,\n",
       " 'spoilers': 885,\n",
       " 'plain': 886,\n",
       " 'mary': 887,\n",
       " 'office': 888,\n",
       " 'filmmakers': 889,\n",
       " 'missed': 890,\n",
       " 'following': 891,\n",
       " 'mentioned': 892,\n",
       " 'public': 893,\n",
       " 'gun': 894,\n",
       " 'incredible': 895,\n",
       " 'pure': 896,\n",
       " 'wasted': 897,\n",
       " 'brothers': 898,\n",
       " 'large': 899,\n",
       " 'ended': 900,\n",
       " 'caught': 901,\n",
       " 'revenge': 902,\n",
       " 'produced': 903,\n",
       " 'la': 904,\n",
       " 'members': 905,\n",
       " 'filled': 906,\n",
       " 'pace': 907,\n",
       " 'popular': 908,\n",
       " 'party': 909,\n",
       " 'science': 910,\n",
       " 'waiting': 911,\n",
       " 'water': 912,\n",
       " 'cat': 913,\n",
       " 'decides': 914,\n",
       " 'considering': 915,\n",
       " 'cartoon': 916,\n",
       " 'hold': 917,\n",
       " 'spirit': 918,\n",
       " 'created': 919,\n",
       " 'slightly': 920,\n",
       " 'tension': 921,\n",
       " 'uses': 922,\n",
       " 'convincing': 923,\n",
       " 'escape': 924,\n",
       " 'fear': 925,\n",
       " 'suddenly': 926,\n",
       " 'compared': 927,\n",
       " 'familiar': 928,\n",
       " 'neither': 929,\n",
       " 'sees': 930,\n",
       " 'spent': 931,\n",
       " 'island': 932,\n",
       " 'cause': 933,\n",
       " 'intelligent': 934,\n",
       " 'state': 935,\n",
       " 'clever': 936,\n",
       " 'f': 937,\n",
       " 'entirely': 938,\n",
       " 'credit': 939,\n",
       " 'moves': 940,\n",
       " 'kills': 941,\n",
       " 'bored': 942,\n",
       " 'band': 943,\n",
       " 'dancing': 944,\n",
       " 'language': 945,\n",
       " 'century': 946,\n",
       " 'laughing': 947,\n",
       " 'choice': 948,\n",
       " 'italian': 949,\n",
       " 'cover': 950,\n",
       " 'successful': 951,\n",
       " 'value': 952,\n",
       " 'violent': 953,\n",
       " 'visual': 954,\n",
       " 'trouble': 955,\n",
       " 'speak': 956,\n",
       " 'tony': 957,\n",
       " 'ultimately': 958,\n",
       " 'concept': 959,\n",
       " 'singing': 960,\n",
       " 'store': 961,\n",
       " 'basic': 962,\n",
       " 'zombies': 963,\n",
       " 'positive': 964,\n",
       " 'studio': 965,\n",
       " 'german': 966,\n",
       " 'animated': 967,\n",
       " 'exciting': 968,\n",
       " 'company': 969,\n",
       " 'biggest': 970,\n",
       " 'force': 971,\n",
       " 'consider': 972,\n",
       " 'runs': 973,\n",
       " 'died': 974,\n",
       " 'effective': 975,\n",
       " 'walk': 976,\n",
       " 'depth': 977,\n",
       " 'adventure': 978,\n",
       " 'control': 979,\n",
       " 'law': 980,\n",
       " 'recent': 981,\n",
       " 'adult': 982,\n",
       " 'amusing': 983,\n",
       " 'former': 984,\n",
       " 'focus': 985,\n",
       " 'common': 986,\n",
       " 'spend': 987,\n",
       " 'portrayal': 988,\n",
       " 'rated': 989,\n",
       " 'appreciate': 990,\n",
       " 'hair': 991,\n",
       " 'books': 992,\n",
       " 'pointless': 993,\n",
       " 'trash': 994,\n",
       " 'younger': 995,\n",
       " 'solid': 996,\n",
       " 'planet': 997,\n",
       " 'impressive': 998,\n",
       " 'super': 999,\n",
       " 'tone': 1000,\n",
       " ...}"
      ]
     },
     "execution_count": 46,
     "metadata": {},
     "output_type": "execute_result"
    }
   ],
   "source": [
    "word_vocab"
   ]
  },
  {
   "cell_type": "code",
   "execution_count": 47,
   "metadata": {},
   "outputs": [],
   "source": [
    "data_configs = {}\n",
    "\n",
    "data_configs['vocab'] = word_vocab\n",
    "data_configs['vocab_size'] = len(word_vocab)"
   ]
  },
  {
   "cell_type": "code",
   "execution_count": 48,
   "metadata": {},
   "outputs": [
    {
     "name": "stdout",
     "output_type": "stream",
     "text": [
      "Shape of train data:  (25000, 174)\n"
     ]
    }
   ],
   "source": [
    "MAX_SEQUENCE_LENGTH = 174 \n",
    "\n",
    "train_inputs = pad_sequences(text_sequences, maxlen=MAX_SEQUENCE_LENGTH, padding='post')\n",
    "\n",
    "print('Shape of train data: ', train_inputs.shape)"
   ]
  },
  {
   "cell_type": "code",
   "execution_count": 49,
   "metadata": {},
   "outputs": [
    {
     "name": "stdout",
     "output_type": "stream",
     "text": [
      "Shape of label tensor: (25000,)\n"
     ]
    }
   ],
   "source": [
    "train_labels = np.array(train_data['sentiment'])\n",
    "print('Shape of label tensor:', train_labels.shape)"
   ]
  },
  {
   "cell_type": "code",
   "execution_count": 50,
   "metadata": {},
   "outputs": [],
   "source": [
    "TRAIN_INPUT_DATA = 'train_input.npy'\n",
    "TRAIN_LABEL_DATA = 'train_label.npy'\n",
    "TRAIN_CLEAN_DATA = 'train_clean.csv'\n",
    "DATA_CONFIGS = 'data_configs.json'\n",
    "\n",
    "import os\n",
    "# 저장하는 디렉토리가 존재하지 않으면 생성\n",
    "if not os.path.exists(DATA_IN_PATH):\n",
    "    os.makedirs(DATA_IN_PATH)"
   ]
  },
  {
   "cell_type": "code",
   "execution_count": 51,
   "metadata": {},
   "outputs": [],
   "source": [
    "# 전처리 된 데이터를 넘파이 형태로 저장\n",
    "np.save(open(DATA_IN_PATH + TRAIN_INPUT_DATA, 'wb'), train_inputs)\n",
    "np.save(open(DATA_IN_PATH + TRAIN_LABEL_DATA, 'wb'), train_labels)\n",
    "\n",
    "# 정제된 텍스트를 csv 형태로 저장\n",
    "clean_train_df.to_csv(DATA_IN_PATH + TRAIN_CLEAN_DATA, index = False)\n",
    "\n",
    "\n",
    "# 데이터 사전을 json 형태로 저장\n",
    "json.dump(data_configs, open(DATA_IN_PATH + DATA_CONFIGS, 'w'), ensure_ascii=False)"
   ]
  },
  {
   "cell_type": "code",
   "execution_count": 52,
   "metadata": {},
   "outputs": [
    {
     "name": "stderr",
     "output_type": "stream",
     "text": [
      "C:\\Users\\p\\AppData\\Local\\Temp\\ipykernel_27208\\383691792.py:5: MarkupResemblesLocatorWarning: The input looks more like a filename than markup. You may want to open this file and pass the filehandle into Beautiful Soup.\n",
      "  review_text = BeautifulSoup(review, \"html5lib\").get_text()\n"
     ]
    }
   ],
   "source": [
    "test_data = pd.read_csv(DATA_IN_PATH + \"testData.tsv\", header=0, delimiter=\"\\t\", quoting=3)\n",
    "\n",
    "clean_test_reviews = []\n",
    "for review in test_data['review']:\n",
    "    clean_test_reviews.append(preprocessing(review, remove_stopwords = True))\n",
    "\n",
    "\n",
    "clean_test_df = pd.DataFrame({'review': clean_test_reviews, 'id': test_data['id']})\n",
    "test_id = np.array(test_data['id'])\n",
    "\n",
    "text_sequences = tokenizer.texts_to_sequences(clean_test_reviews)\n",
    "test_inputs = pad_sequences(text_sequences, maxlen=MAX_SEQUENCE_LENGTH, padding='post')"
   ]
  },
  {
   "cell_type": "code",
   "execution_count": 53,
   "metadata": {},
   "outputs": [],
   "source": [
    "TEST_INPUT_DATA = 'test_input.npy'\n",
    "TEST_CLEAN_DATA = 'test_clean.csv'\n",
    "TEST_ID_DATA = 'test_id.npy'\n",
    "\n",
    "np.save(open(DATA_IN_PATH + TEST_INPUT_DATA, 'wb'), test_inputs)\n",
    "np.save(open(DATA_IN_PATH + TEST_ID_DATA, 'wb'), test_id)\n",
    "clean_test_df.to_csv(DATA_IN_PATH + TEST_CLEAN_DATA, index = False)"
   ]
  }
 ],
 "metadata": {
  "kernelspec": {
   "display_name": "Python 3",
   "language": "python",
   "name": "python3"
  },
  "language_info": {
   "codemirror_mode": {
    "name": "ipython",
    "version": 3
   },
   "file_extension": ".py",
   "mimetype": "text/x-python",
   "name": "python",
   "nbconvert_exporter": "python",
   "pygments_lexer": "ipython3",
   "version": "3.10.13"
  }
 },
 "nbformat": 4,
 "nbformat_minor": 2
}
