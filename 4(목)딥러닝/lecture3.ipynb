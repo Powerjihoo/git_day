{
 "cells": [
  {
   "cell_type": "code",
   "execution_count": 4,
   "metadata": {},
   "outputs": [],
   "source": [
    "import tensorflow as tf\n",
    "import numpy as np"
   ]
  },
  {
   "cell_type": "markdown",
   "metadata": {},
   "source": [
    "### 기본적인 연산"
   ]
  },
  {
   "cell_type": "code",
   "execution_count": 5,
   "metadata": {},
   "outputs": [],
   "source": [
    "t1 = tf.constant([1,2,3])\n",
    "t2 = tf.constant([10,20,30])"
   ]
  },
  {
   "cell_type": "code",
   "execution_count": 6,
   "metadata": {},
   "outputs": [
    {
     "name": "stdout",
     "output_type": "stream",
     "text": [
      "tf.Tensor([11 22 33], shape=(3,), dtype=int32)\n",
      "tf.Tensor([ -9 -18 -27], shape=(3,), dtype=int32)\n",
      "tf.Tensor([10 40 90], shape=(3,), dtype=int32)\n",
      "tf.Tensor([0.1 0.1 0.1], shape=(3,), dtype=float64)\n",
      "tf.Tensor([1 2 3], shape=(3,), dtype=int32)\n",
      "tf.Tensor([0 0 0], shape=(3,), dtype=int32)\n"
     ]
    }
   ],
   "source": [
    "print(t1+t2)\n",
    "print(t1-t2)\n",
    "print(t1*t2)\n",
    "print(t1/t2)\n",
    "print(t1%t2)\n",
    "print(t1//t2)"
   ]
  },
  {
   "cell_type": "code",
   "execution_count": 29,
   "metadata": {},
   "outputs": [],
   "source": [
    "### 텐서의 연산규칙"
   ]
  },
  {
   "cell_type": "code",
   "execution_count": 20,
   "metadata": {},
   "outputs": [],
   "source": [
    "t1 = tf.random.normal(shape=(3,4),mean=0,stddev=5)\n",
    "t2 = tf.random.normal(shape=(1,4),mean=0,stddev=5)"
   ]
  },
  {
   "cell_type": "code",
   "execution_count": 22,
   "metadata": {},
   "outputs": [],
   "source": [
    "t1 = tf.cast(t1,dtype=tf.int16)\n",
    "t2 = tf.cast(t2,dtype=tf.int16)"
   ]
  },
  {
   "cell_type": "code",
   "execution_count": 24,
   "metadata": {},
   "outputs": [],
   "source": [
    "t3 = t1+t2"
   ]
  },
  {
   "cell_type": "code",
   "execution_count": 26,
   "metadata": {},
   "outputs": [
    {
     "name": "stdout",
     "output_type": "stream",
     "text": [
      "[[ 0  5 -4  5]\n",
      " [ 2  3  5 -8]\n",
      " [ 4 -1  0  0]] \n",
      "\n",
      "[[-7 -1  8  9]] \n",
      "\n",
      "[[-7  4  4 14]\n",
      " [-5  2 13  1]\n",
      " [-3 -2  8  9]] \n",
      "\n"
     ]
    }
   ],
   "source": [
    "print(t1.numpy(), '\\n')\n",
    "print(t2.numpy(), '\\n')\n",
    "\n",
    "print(t3.numpy(), '\\n')"
   ]
  },
  {
   "cell_type": "code",
   "execution_count": 28,
   "metadata": {},
   "outputs": [
    {
     "name": "stdout",
     "output_type": "stream",
     "text": [
      "[[ 4  2  2 -3]] \n",
      "\n",
      "[[-7]\n",
      " [ 0]\n",
      " [-7]\n",
      " [ 0]] \n",
      "\n",
      "[[-7  4  4 14]\n",
      " [-5  2 13  1]\n",
      " [-3 -2  8  9]] \n",
      "\n"
     ]
    }
   ],
   "source": [
    "t1 = tf.random.normal(shape=(1,4),mean=0,stddev=5)\n",
    "t2 = tf.random.normal(shape=(4,1),mean=0,stddev=5)\n",
    "\n",
    "t1 = tf.cast(t1,dtype=tf.int16)\n",
    "t2 = tf.cast(t2,dtype=tf.int16)\n",
    "\n",
    "print(t1.numpy(), '\\n')\n",
    "print(t2.numpy(), '\\n')\n",
    "\n",
    "print(t3.numpy(), '\\n')"
   ]
  },
  {
   "cell_type": "code",
   "execution_count": 30,
   "metadata": {},
   "outputs": [],
   "source": [
    "### 다양한 tf연산방법들"
   ]
  },
  {
   "cell_type": "code",
   "execution_count": null,
   "metadata": {},
   "outputs": [],
   "source": [
    "tf.reduce_sum\n",
    "tf.reduce_prod\n",
    "\n",
    "tf.reduce_min\n",
    "tf.reduce_max\n",
    "\n",
    "tf.reduce_mean\n",
    "tf.reduce_std\n",
    "tf.reduce_variance\n",
    "\n",
    "tf.reduce_all\n",
    "tf.reduce_any"
   ]
  },
  {
   "cell_type": "code",
   "execution_count": 34,
   "metadata": {},
   "outputs": [
    {
     "name": "stdout",
     "output_type": "stream",
     "text": [
      "[[ 0  4  0  2]\n",
      " [ 2  8  6  3]\n",
      " [ 0  3 -3  5]]\n",
      "30\n"
     ]
    }
   ],
   "source": [
    "t1 = tf.random.normal(shape=(3,4),mean=0,stddev=5)\n",
    "t1 = tf.cast(t1, dtype=tf.int16)\n",
    "print(t1.numpy())\n",
    "\n",
    "t2 = tf.reduce_sum(t1)\n",
    "print(t2.numpy())"
   ]
  },
  {
   "cell_type": "code",
   "execution_count": 35,
   "metadata": {},
   "outputs": [
    {
     "name": "stdout",
     "output_type": "stream",
     "text": [
      "[[  2  -2  -4   0]\n",
      " [  4   2  -4   2]\n",
      " [  0   0  -3 -10]]\n",
      "[  6   0 -11  -8]\n"
     ]
    }
   ],
   "source": [
    "## axis를 설정해서 행, 열만 더할수도 있음\n",
    "t1 = tf.random.normal(shape=(3,4),mean=0,stddev=5)\n",
    "t1 = tf.cast(t1, dtype=tf.int16)\n",
    "print(t1.numpy())\n",
    "\n",
    "t2 = tf.reduce_sum(t1, axis=0)\n",
    "print(t2.numpy())"
   ]
  },
  {
   "cell_type": "code",
   "execution_count": 37,
   "metadata": {},
   "outputs": [
    {
     "name": "stdout",
     "output_type": "stream",
     "text": [
      "(128, 128, 3)\n",
      "(128, 128)\n"
     ]
    }
   ],
   "source": [
    "## 이미지 파일로 한다면\n",
    "t1 = tf.random.normal(shape=(128,128,3),mean=0,stddev=5)\n",
    "t1 = tf.cast(t1, dtype=tf.int16)\n",
    "print(t1.shape)\n",
    "\n",
    "t2 = tf.reduce_sum(t1, axis=2)\n",
    "print(t2.shape)"
   ]
  }
 ],
 "metadata": {
  "kernelspec": {
   "display_name": "gaon",
   "language": "python",
   "name": "python3"
  },
  "language_info": {
   "codemirror_mode": {
    "name": "ipython",
    "version": 3
   },
   "file_extension": ".py",
   "mimetype": "text/x-python",
   "name": "python",
   "nbconvert_exporter": "python",
   "pygments_lexer": "ipython3",
   "version": "3.8.16"
  }
 },
 "nbformat": 4,
 "nbformat_minor": 2
}
