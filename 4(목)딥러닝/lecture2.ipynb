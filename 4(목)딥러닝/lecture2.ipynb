{
 "cells": [
  {
   "cell_type": "code",
   "execution_count": 35,
   "metadata": {},
   "outputs": [],
   "source": [
    "import tensorflow as tf\n",
    "import numpy as np\n",
    "import matplotlib.pyplot as plt\n"
   ]
  },
  {
   "cell_type": "code",
   "execution_count": 3,
   "metadata": {},
   "outputs": [
    {
     "name": "stdout",
     "output_type": "stream",
     "text": [
      "tf.Tensor([1 1 1 1 1 1], shape=(6,), dtype=int32)\n"
     ]
    }
   ],
   "source": [
    "test_list = [1,1,1,1,1,1]\n",
    "\n",
    "t1 = tf.constant(test_list)\n",
    "print(t1)"
   ]
  },
  {
   "cell_type": "markdown",
   "metadata": {},
   "source": [
    "### 힘들게 다 채우지말고 ones나 zeros를 이용 - 다른사람과 협엽할때는 zeros를 씀"
   ]
  },
  {
   "cell_type": "code",
   "execution_count": 13,
   "metadata": {},
   "outputs": [
    {
     "name": "stdout",
     "output_type": "stream",
     "text": [
      "tf.Tensor(\n",
      "[[[1. 1. 1.]\n",
      "  [1. 1. 1.]\n",
      "  [1. 1. 1.]]\n",
      "\n",
      " [[1. 1. 1.]\n",
      "  [1. 1. 1.]\n",
      "  [1. 1. 1.]]\n",
      "\n",
      " [[1. 1. 1.]\n",
      "  [1. 1. 1.]\n",
      "  [1. 1. 1.]]], shape=(3, 3, 3), dtype=float32)\n"
     ]
    }
   ],
   "source": [
    "t2 = tf.ones(shape = (3,3,3))\n",
    "print(t2)"
   ]
  },
  {
   "cell_type": "code",
   "execution_count": 14,
   "metadata": {},
   "outputs": [
    {
     "name": "stdout",
     "output_type": "stream",
     "text": [
      "tf.Tensor(\n",
      "[[[0. 0. 0.]\n",
      "  [0. 0. 0.]\n",
      "  [0. 0. 0.]]\n",
      "\n",
      " [[0. 0. 0.]\n",
      "  [0. 0. 0.]\n",
      "  [0. 0. 0.]]\n",
      "\n",
      " [[0. 0. 0.]\n",
      "  [0. 0. 0.]\n",
      "  [0. 0. 0.]]], shape=(3, 3, 3), dtype=float32)\n"
     ]
    }
   ],
   "source": [
    "t3 = tf.zeros(shape = (3,3,3))\n",
    "print(t3)"
   ]
  },
  {
   "cell_type": "markdown",
   "metadata": {},
   "source": [
    "### 각각의 값에 연산이 가능"
   ]
  },
  {
   "cell_type": "code",
   "execution_count": 15,
   "metadata": {},
   "outputs": [
    {
     "name": "stdout",
     "output_type": "stream",
     "text": [
      "tf.Tensor(\n",
      "[[[3. 3. 3.]\n",
      "  [3. 3. 3.]\n",
      "  [3. 3. 3.]]\n",
      "\n",
      " [[3. 3. 3.]\n",
      "  [3. 3. 3.]\n",
      "  [3. 3. 3.]]\n",
      "\n",
      " [[3. 3. 3.]\n",
      "  [3. 3. 3.]\n",
      "  [3. 3. 3.]]], shape=(3, 3, 3), dtype=float32)\n"
     ]
    }
   ],
   "source": [
    "t4 = 3*(tf.ones(shape = (3,3,3)))\n",
    "print(t4)"
   ]
  },
  {
   "cell_type": "markdown",
   "metadata": {},
   "source": [
    "### 원래있던값처럼 만들기"
   ]
  },
  {
   "cell_type": "code",
   "execution_count": 16,
   "metadata": {},
   "outputs": [
    {
     "name": "stdout",
     "output_type": "stream",
     "text": [
      "[[1, 2, 3], [4, 5, 6]]\n"
     ]
    }
   ],
   "source": [
    "test_list = [[1,2,3],[4,5,6]]\n",
    "print(test_list)"
   ]
  },
  {
   "cell_type": "code",
   "execution_count": 17,
   "metadata": {},
   "outputs": [
    {
     "name": "stdout",
     "output_type": "stream",
     "text": [
      "tf.Tensor(\n",
      "[[1 1 1]\n",
      " [1 1 1]], shape=(2, 3), dtype=int32)\n"
     ]
    }
   ],
   "source": [
    "t2 = tf.ones_like(test_list)\n",
    "print(t2)"
   ]
  },
  {
   "cell_type": "code",
   "execution_count": 18,
   "metadata": {},
   "outputs": [
    {
     "name": "stdout",
     "output_type": "stream",
     "text": [
      "tf.Tensor(\n",
      "[[3 3 3]\n",
      " [3 3 3]], shape=(2, 3), dtype=int32)\n"
     ]
    }
   ],
   "source": [
    "t2 = 3*tf.ones_like(test_list)\n",
    "print(t2)"
   ]
  },
  {
   "cell_type": "markdown",
   "metadata": {},
   "source": [
    "### 랜덤값 - normal, uniform, poisson"
   ]
  },
  {
   "cell_type": "code",
   "execution_count": 38,
   "metadata": {},
   "outputs": [
    {
     "name": "stdout",
     "output_type": "stream",
     "text": [
      "tf.Tensor(\n",
      "[[ 1.5110626   0.42292204 -0.41969493]\n",
      " [-1.0360372  -1.2368279   0.47027302]\n",
      " [-0.01397489  1.1888583   0.60253334]], shape=(3, 3), dtype=float32)\n"
     ]
    },
    {
     "data": {
      "text/plain": [
       "(array([[0., 0., 1., 0., 0., 0., 1., 0., 0., 1.],\n",
       "        [2., 0., 0., 0., 0., 0., 1., 0., 0., 0.],\n",
       "        [0., 0., 0., 0., 1., 0., 1., 0., 1., 0.]]),\n",
       " array([-1.23682785, -0.96203882, -0.68724978, -0.41246071, -0.13767166,\n",
       "         0.13711739,  0.41190642,  0.68669546,  0.96148455,  1.23627353,\n",
       "         1.51106262]),\n",
       " <a list of 3 BarContainer objects>)"
      ]
     },
     "execution_count": 38,
     "metadata": {},
     "output_type": "execute_result"
    },
    {
     "data": {
      "image/png": "[encoded data removed]",
      "text/plain": [
       "<Figure size 640x480 with 1 Axes>"
      ]
     },
     "metadata": {},
     "output_type": "display_data"
    }
   ],
   "source": [
    "tf.random.set_seed(0)  # seed고정\n",
    "t1= tf.random.normal(shape = (3,3))\n",
    "print(t1)\n",
    "plt.hist(t1)"
   ]
  },
  {
   "cell_type": "code",
   "execution_count": 37,
   "metadata": {},
   "outputs": [
    {
     "name": "stdout",
     "output_type": "stream",
     "text": [
      "tf.Tensor(\n",
      "[ 1.1958714   2.8884654   2.154449    3.8489614   3.1223762   4.3350472\n",
      "  3.619644    2.45017     2.3917732   3.846502    2.4387555   1.0667124\n",
      "  3.0220246   3.849509    2.4320507   1.6968588   1.7726051   2.09751\n",
      "  3.0266893   3.077459    3.4778085   2.9469197   1.7239645   2.8959444\n",
      "  4.879673    3.115343    2.9751825   3.2310855   3.1877806   0.44550848\n",
      "  2.6579003   4.115956    2.5875716   2.6802177   2.2219582   3.5310783\n",
      "  2.9945698   2.3420935   2.2126343   3.2165358   3.3273728   3.7056437\n",
      "  4.62088     2.1090803   3.0432034   2.9735916   2.9532707   2.0262587\n",
      "  2.2797778   2.4511018   2.08306     2.9382644   3.3803396   3.3068552\n",
      "  3.8604417   2.308158    3.542435    4.089197    5.1968603   2.3972502\n",
      "  4.4000015   1.3578712   3.498361    5.5786977   4.868223    3.7252545\n",
      "  3.213563   -0.12653112  4.7247934   3.3690214   1.8541998   4.3442817\n",
      "  2.3520517   2.4272454   3.054494    3.5016713   2.8689084   1.1280254\n",
      "  5.2901154   4.1071873   2.6856842   2.8483222   3.0753257   3.1065617\n",
      "  0.90108204  3.4814153   1.5010867   3.3959339   4.3943324   3.1734855\n",
      "  2.9511793   1.5386536   2.841662    4.081062    2.7166064   2.243514\n",
      "  3.5857482   4.900235    3.8238676   2.9061403 ], shape=(100,), dtype=float32)\n"
     ]
    },
    {
     "data": {
      "text/plain": [
       "(array([ 1.,  2.,  6.,  9., 19., 27., 20.,  8.,  5.,  3.]),\n",
       " array([-0.12653112,  0.44399175,  1.01451468,  1.58503747,  2.15556049,\n",
       "         2.72608328,  3.29660606,  3.86712909,  4.43765211,  5.0081749 ,\n",
       "         5.57869768]),\n",
       " <BarContainer object of 10 artists>)"
      ]
     },
     "execution_count": 37,
     "metadata": {},
     "output_type": "execute_result"
    },
    {
     "data": {
      "image/png": "[encoded data removed]",
      "text/plain": [
       "<Figure size 640x480 with 1 Axes>"
      ]
     },
     "metadata": {},
     "output_type": "display_data"
    }
   ],
   "source": [
    "#기준이 있는 랜덤값 만들기\n",
    "t2 = tf.random.normal(mean=3, stddev=1, shape = (100,))\n",
    "print(t2)\n",
    "plt.hist(t2)"
   ]
  },
  {
   "cell_type": "code",
   "execution_count": null,
   "metadata": {},
   "outputs": [],
   "source": [
    "tf.random.normal(shape = (100,))\n",
    "tf.random.uniform(shape = (100,),minval=10,maxval=100)\n",
    "tf.random.poisson(shape = (100,),lam=5)"
   ]
  },
  {
   "cell_type": "markdown",
   "metadata": {},
   "source": [
    "### 텐서의 정보보기"
   ]
  },
  {
   "cell_type": "code",
   "execution_count": 40,
   "metadata": {},
   "outputs": [
    {
     "name": "stdout",
     "output_type": "stream",
     "text": [
      "(128, 128, 3)\n",
      "<dtype: 'float32'>\n"
     ]
    }
   ],
   "source": [
    "t1 = tf.random.normal(shape = (128,128,3))\n",
    "print(t1.shape)\n",
    "print(t1.dtype)"
   ]
  },
  {
   "cell_type": "markdown",
   "metadata": {},
   "source": [
    "#### tensor에서는 int가 연산이 잘 안되기때문에 dtype을 확인한후 float으로 바꾸는과정이 필요하다"
   ]
  },
  {
   "cell_type": "code",
   "execution_count": 41,
   "metadata": {},
   "outputs": [
    {
     "name": "stdout",
     "output_type": "stream",
     "text": [
      "int32\n"
     ]
    }
   ],
   "source": [
    "test_np = np.random.randint(-10,10,size = (100,))\n",
    "print(test_np.dtype)"
   ]
  },
  {
   "cell_type": "code",
   "execution_count": 42,
   "metadata": {},
   "outputs": [
    {
     "name": "stdout",
     "output_type": "stream",
     "text": [
      "<dtype: 'float32'>\n"
     ]
    }
   ],
   "source": [
    "t1= tf.constant(test_np, dtype=tf.float32)  #dtype설정하기\n",
    "print(t1.dtype)"
   ]
  }
 ],
 "metadata": {
  "kernelspec": {
   "display_name": "gaon",
   "language": "python",
   "name": "python3"
  },
  "language_info": {
   "codemirror_mode": {
    "name": "ipython",
    "version": 3
   },
   "file_extension": ".py",
   "mimetype": "text/x-python",
   "name": "python",
   "nbconvert_exporter": "python",
   "pygments_lexer": "ipython3",
   "version": "3.9.0"
  }
 },
 "nbformat": 4,
 "nbformat_minor": 2
}
