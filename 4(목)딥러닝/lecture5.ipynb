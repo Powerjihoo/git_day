{
 "cells": [
  {
   "cell_type": "code",
   "execution_count": 1,
   "metadata": {},
   "outputs": [],
   "source": [
    "import tensorflow as tf\n",
    "import matplotlib.pyplot as plt"
   ]
  },
  {
   "cell_type": "code",
   "execution_count": 33,
   "metadata": {},
   "outputs": [],
   "source": [
    "x_train = tf.random.normal(shape=(10,1), dtype=tf.float32)\n",
    "y_train = 3 * x_train + 1 + 0.2 * tf.random.normal(shape=(10,1), dtype=tf.float32)"
   ]
  },
  {
   "cell_type": "code",
   "execution_count": 34,
   "metadata": {},
   "outputs": [],
   "source": [
    "x_test = tf.random.normal(shape=(3,1),dtype=tf.float32)\n",
    "y_test = 3*x_test +1 +0.2*tf.random.normal(shape=(3,1),dtype=tf.float32)"
   ]
  },
  {
   "cell_type": "code",
   "execution_count": 35,
   "metadata": {},
   "outputs": [],
   "source": [
    "model = tf.keras.models.Sequential([\n",
    "    tf.keras.layers.Dense(units=1,\n",
    "                          activation='linear')\n",
    "])\n",
    "model.compile(loss='mean_squared_error',optimizer='Adam')"
   ]
  },
  {
   "cell_type": "code",
   "execution_count": 29,
   "metadata": {},
   "outputs": [
    {
     "name": "stdout",
     "output_type": "stream",
     "text": [
      "Epoch 1/50\n",
      "32/32 - 0s - loss: 4.1168 - 353ms/epoch - 11ms/step\n",
      "Epoch 2/50\n",
      "32/32 - 0s - loss: 3.9444 - 88ms/epoch - 3ms/step\n",
      "Epoch 3/50\n",
      "32/32 - 0s - loss: 3.7763 - 45ms/epoch - 1ms/step\n",
      "Epoch 4/50\n",
      "32/32 - 0s - loss: 3.6157 - 38ms/epoch - 1ms/step\n",
      "Epoch 5/50\n",
      "32/32 - 0s - loss: 3.4614 - 43ms/epoch - 1ms/step\n",
      "Epoch 6/50\n",
      "32/32 - 0s - loss: 3.3107 - 44ms/epoch - 1ms/step\n",
      "Epoch 7/50\n",
      "32/32 - 0s - loss: 3.1663 - 40ms/epoch - 1ms/step\n",
      "Epoch 8/50\n",
      "32/32 - 0s - loss: 3.0266 - 53ms/epoch - 2ms/step\n",
      "Epoch 9/50\n",
      "32/32 - 0s - loss: 2.8931 - 68ms/epoch - 2ms/step\n",
      "Epoch 10/50\n",
      "32/32 - 0s - loss: 2.7650 - 60ms/epoch - 2ms/step\n",
      "Epoch 11/50\n",
      "32/32 - 0s - loss: 2.6392 - 46ms/epoch - 1ms/step\n",
      "Epoch 12/50\n",
      "32/32 - 0s - loss: 2.5188 - 42ms/epoch - 1ms/step\n",
      "Epoch 13/50\n",
      "32/32 - 0s - loss: 2.4077 - 43ms/epoch - 1ms/step\n",
      "Epoch 14/50\n",
      "32/32 - 0s - loss: 2.2987 - 37ms/epoch - 1ms/step\n",
      "Epoch 15/50\n",
      "32/32 - 0s - loss: 2.1936 - 36ms/epoch - 1ms/step\n",
      "Epoch 16/50\n",
      "32/32 - 0s - loss: 2.0940 - 36ms/epoch - 1ms/step\n",
      "Epoch 17/50\n",
      "32/32 - 0s - loss: 1.9980 - 37ms/epoch - 1ms/step\n",
      "Epoch 18/50\n",
      "32/32 - 0s - loss: 1.9063 - 35ms/epoch - 1ms/step\n",
      "Epoch 19/50\n",
      "32/32 - 0s - loss: 1.8158 - 42ms/epoch - 1ms/step\n",
      "Epoch 20/50\n",
      "32/32 - 0s - loss: 1.7299 - 43ms/epoch - 1ms/step\n",
      "Epoch 21/50\n",
      "32/32 - 0s - loss: 1.6480 - 34ms/epoch - 1ms/step\n",
      "Epoch 22/50\n",
      "32/32 - 0s - loss: 1.5691 - 32ms/epoch - 1ms/step\n",
      "Epoch 23/50\n",
      "32/32 - 0s - loss: 1.4925 - 34ms/epoch - 1ms/step\n",
      "Epoch 24/50\n",
      "32/32 - 0s - loss: 1.4194 - 42ms/epoch - 1ms/step\n",
      "Epoch 25/50\n",
      "32/32 - 0s - loss: 1.3507 - 46ms/epoch - 1ms/step\n",
      "Epoch 26/50\n",
      "32/32 - 0s - loss: 1.2839 - 35ms/epoch - 1ms/step\n",
      "Epoch 27/50\n",
      "32/32 - 0s - loss: 1.2207 - 31ms/epoch - 983us/step\n",
      "Epoch 28/50\n",
      "32/32 - 0s - loss: 1.1600 - 83ms/epoch - 3ms/step\n",
      "Epoch 29/50\n",
      "32/32 - 0s - loss: 1.1005 - 40ms/epoch - 1ms/step\n",
      "Epoch 30/50\n",
      "32/32 - 0s - loss: 1.0444 - 58ms/epoch - 2ms/step\n",
      "Epoch 31/50\n",
      "32/32 - 0s - loss: 0.9920 - 37ms/epoch - 1ms/step\n",
      "Epoch 32/50\n",
      "32/32 - 0s - loss: 0.9406 - 32ms/epoch - 997us/step\n",
      "Epoch 33/50\n",
      "32/32 - 0s - loss: 0.8923 - 44ms/epoch - 1ms/step\n",
      "Epoch 34/50\n",
      "32/32 - 0s - loss: 0.8460 - 45ms/epoch - 1ms/step\n",
      "Epoch 35/50\n",
      "32/32 - 0s - loss: 0.8023 - 49ms/epoch - 2ms/step\n",
      "Epoch 36/50\n",
      "32/32 - 0s - loss: 0.7596 - 36ms/epoch - 1ms/step\n",
      "Epoch 37/50\n",
      "32/32 - 0s - loss: 0.7193 - 39ms/epoch - 1ms/step\n",
      "Epoch 38/50\n",
      "32/32 - 0s - loss: 0.6815 - 36ms/epoch - 1ms/step\n",
      "Epoch 39/50\n",
      "32/32 - 0s - loss: 0.6452 - 40ms/epoch - 1ms/step\n",
      "Epoch 40/50\n",
      "32/32 - 0s - loss: 0.6100 - 34ms/epoch - 1ms/step\n",
      "Epoch 41/50\n",
      "32/32 - 0s - loss: 0.5773 - 41ms/epoch - 1ms/step\n",
      "Epoch 42/50\n",
      "32/32 - 0s - loss: 0.5460 - 34ms/epoch - 1ms/step\n",
      "Epoch 43/50\n",
      "32/32 - 0s - loss: 0.5158 - 37ms/epoch - 1ms/step\n",
      "Epoch 44/50\n",
      "32/32 - 0s - loss: 0.4876 - 35ms/epoch - 1ms/step\n",
      "Epoch 45/50\n",
      "32/32 - 0s - loss: 0.4604 - 34ms/epoch - 1ms/step\n",
      "Epoch 46/50\n",
      "32/32 - 0s - loss: 0.4349 - 30ms/epoch - 935us/step\n",
      "Epoch 47/50\n",
      "32/32 - 0s - loss: 0.4107 - 34ms/epoch - 1ms/step\n",
      "Epoch 48/50\n",
      "32/32 - 0s - loss: 0.3878 - 33ms/epoch - 1ms/step\n",
      "Epoch 49/50\n",
      "32/32 - 0s - loss: 0.3664 - 28ms/epoch - 873us/step\n",
      "Epoch 50/50\n",
      "32/32 - 0s - loss: 0.3462 - 28ms/epoch - 873us/step\n"
     ]
    },
    {
     "data": {
      "text/plain": [
       "<keras.callbacks.History at 0x1af553dceb0>"
      ]
     },
     "execution_count": 29,
     "metadata": {},
     "output_type": "execute_result"
    }
   ],
   "source": [
    "model.fit(x_train,y_train,epochs=50, verbose= 2)"
   ]
  },
  {
   "cell_type": "code",
   "execution_count": 30,
   "metadata": {},
   "outputs": [
    {
     "name": "stdout",
     "output_type": "stream",
     "text": [
      "10/10 - 0s - loss: 0.3211 - 260ms/epoch - 26ms/step\n"
     ]
    },
    {
     "data": {
      "text/plain": [
       "0.32113534212112427"
      ]
     },
     "execution_count": 30,
     "metadata": {},
     "output_type": "execute_result"
    }
   ],
   "source": [
    "model.evaluate(x_test,y_test,verbose=2)"
   ]
  },
  {
   "cell_type": "markdown",
   "metadata": {},
   "source": [
    "### Subclassing으로 진행하기"
   ]
  },
  {
   "cell_type": "code",
   "execution_count": 38,
   "metadata": {},
   "outputs": [
    {
     "name": "stdout",
     "output_type": "stream",
     "text": [
      "Epoch:  1\n",
      "Train Loss: 1.7682216167449951\n",
      "\n",
      "Epoch:  2\n",
      "Train Loss: 1.5517233610153198\n",
      "\n",
      "Epoch:  3\n",
      "Train Loss: 1.3541901111602783\n",
      "\n",
      "Epoch:  4\n",
      "Train Loss: 1.1741251945495605\n",
      "\n",
      "Epoch:  5\n",
      "Train Loss: 1.0112061500549316\n",
      "\n",
      "Epoch:  6\n",
      "Train Loss: 0.8649440407752991\n",
      "\n",
      "Epoch:  7\n",
      "Train Loss: 0.7345873117446899\n",
      "\n",
      "Epoch:  8\n",
      "Train Loss: 0.6192002296447754\n",
      "\n",
      "Epoch:  9\n",
      "Train Loss: 0.5177451968193054\n",
      "\n",
      "Epoch:  10\n",
      "Train Loss: 0.42914021015167236\n",
      "\n"
     ]
    }
   ],
   "source": [
    "class LinearPredictor(tf.keras.Model):\n",
    "    def __init__(self):\n",
    "        super(LinearPredictor, self).__init__()\n",
    "\n",
    "        self.d1 = tf.keras.layers.Dense(units=1,\n",
    "                                        activation='linear')\n",
    "        \n",
    "    def call(self, x):\n",
    "        x = self.d1(x)\n",
    "        return x\n",
    "\n",
    "EPOCHS = 10\n",
    "LR = 0.01\n",
    "\n",
    "model = LinearPredictor()\n",
    "\n",
    "loss_object = tf.keras.losses.MeanSquaredError()\n",
    "optimizer = tf.keras.optimizers.Adam(learning_rate=LR)\n",
    "\n",
    "for epoch in range(EPOCHS):\n",
    "    for x, y in zip(x_train, y_train):\n",
    "        x = tf.reshape(x, (1, 1))\n",
    "        y = tf.reshape(y, (1, 1))\n",
    "        #forward\n",
    "        with tf.GradientTape() as tape:\n",
    "            predictions = model(x)\n",
    "            loss = loss_object(y, predictions)  \n",
    "\n",
    "        #backward\n",
    "        gradients = tape.gradient(loss, model.trainable_variables)\n",
    "        optimizer.apply_gradients(zip(gradients, model.trainable_variables))\n",
    "\n",
    "    print('Epoch: ', epoch+1)\n",
    "\n",
    "    print('Train Loss: {}\\n'.format(loss))"
   ]
  }
 ],
 "metadata": {
  "kernelspec": {
   "display_name": "gaon",
   "language": "python",
   "name": "python3"
  },
  "language_info": {
   "codemirror_mode": {
    "name": "ipython",
    "version": 3
   },
   "file_extension": ".py",
   "mimetype": "text/x-python",
   "name": "python",
   "nbconvert_exporter": "python",
   "pygments_lexer": "ipython3",
   "version": "3.9.0"
  }
 },
 "nbformat": 4,
 "nbformat_minor": 2
}
