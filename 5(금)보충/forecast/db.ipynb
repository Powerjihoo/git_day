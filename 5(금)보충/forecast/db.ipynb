{
 "cells": [
  {
   "cell_type": "code",
   "execution_count": 9,
   "metadata": {},
   "outputs": [
    {
     "data": {
      "text/plain": [
       "{'1', '2', '3', '4', '5', '6', '7', '8'}"
      ]
     },
     "execution_count": 9,
     "metadata": {},
     "output_type": "execute_result"
    }
   ],
   "source": [
    "import psycopg2\n",
    "\n",
    "db = psycopg2.connect(host='localhost', dbname='postgres', user='postgres', password='1234', port=5432)\n",
    "\n",
    "def fetch_db_data():\n",
    "    with db.cursor() as cursor:\n",
    "        cursor.execute(\"SELECT id, descript FROM forecast;\")\n",
    "        return cursor.fetchall()\n",
    "\n",
    "result = fetch_db_data()\n",
    "{str(item[0]) for item in result}"
   ]
  },
  {
   "cell_type": "code",
   "execution_count": 16,
   "metadata": {},
   "outputs": [
    {
     "data": {
      "text/plain": [
       "[1, 4]"
      ]
     },
     "execution_count": 16,
     "metadata": {},
     "output_type": "execute_result"
    }
   ],
   "source": [
    "db = psycopg2.connect(host='192.168.110.11', dbname='thermal_imaging', user='gaonpf', password='gaonpf', port=15432)\n",
    "def fetch_db_data():\n",
    "    with db.cursor() as cursor:\n",
    "        cursor.execute(\"SELECT id FROM spot;\")\n",
    "        return cursor.fetchall()\n",
    "\n",
    "result = fetch_db_data()\n",
    "[item[0] for item in result]"
   ]
  }
 ],
 "metadata": {
  "kernelspec": {
   "display_name": "server",
   "language": "python",
   "name": "python3"
  },
  "language_info": {
   "codemirror_mode": {
    "name": "ipython",
    "version": 3
   },
   "file_extension": ".py",
   "mimetype": "text/x-python",
   "name": "python",
   "nbconvert_exporter": "python",
   "pygments_lexer": "ipython3",
   "version": "3.11.0"
  }
 },
 "nbformat": 4,
 "nbformat_minor": 2
}
