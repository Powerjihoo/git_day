{
 "cells": [
  {
   "cell_type": "code",
   "execution_count": 1,
   "metadata": {},
   "outputs": [],
   "source": [
    "from influxdb_client import InfluxDBClient, Point, WritePrecision"
   ]
  },
  {
   "cell_type": "code",
   "execution_count": null,
   "metadata": {},
   "outputs": [],
   "source": [
    "# InfluxDB 설정\n",
    "url = \"http://localhost:8086\"  \n",
    "token = \"\"         \n",
    "org = \"gaonpf\"             \n",
    "bucket = \"thermal_data\"      \n",
    "\n",
    "# 클라이언트 초기화\n",
    "client = InfluxDBClient(url=url, token=token, org=org)"
   ]
  },
  {
   "cell_type": "code",
   "execution_count": null,
   "metadata": {},
   "outputs": [],
   "source": [
    "query_api = client.query_api()\n",
    "\n",
    "query = f'from(bucket:\"{bucket}\") |> range(start: -1h)'\n",
    "tables = query_api.query(query, org=org)\n",
    "\n",
    "# for table in tables:\n",
    "#     for record in table.records:\n",
    "#         print(f'Time: {record.get_time()}, Value: {record.get_value()}')"
   ]
  }
 ],
 "metadata": {
  "kernelspec": {
   "display_name": "server",
   "language": "python",
   "name": "python3"
  },
  "language_info": {
   "codemirror_mode": {
    "name": "ipython",
    "version": 3
   },
   "file_extension": ".py",
   "mimetype": "text/x-python",
   "name": "python",
   "nbconvert_exporter": "python",
   "pygments_lexer": "ipython3",
   "version": "3.11.0"
  }
 },
 "nbformat": 4,
 "nbformat_minor": 2
}
