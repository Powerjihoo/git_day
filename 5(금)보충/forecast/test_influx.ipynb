{
 "cells": [
  {
   "cell_type": "code",
   "execution_count": 27,
   "metadata": {},
   "outputs": [],
   "source": [
    "from influxdb_client import InfluxDBClient, Point, WritePrecision\n",
    "from influxdb_client.client.write_api import SYNCHRONOUS\n",
    "from datetime import datetime, timedelta\n",
    "import random"
   ]
  },
  {
   "cell_type": "code",
   "execution_count": 8,
   "metadata": {},
   "outputs": [],
   "source": [
    "# InfluxDB 설정\n",
    "url = \"http://localhost:8086\"  \n",
    "token = \"yGbJCD-MJ2Zu63t6mvoeaGEwmDxbLzRjnatHvAdmwgCcJK5Ms7xSKGZrrG3PGUrBqGt4z1PpkgrBG1wFX_qW1A==\"         \n",
    "org = \"gaonpf\"             \n",
    "bucket = \"forecast\"      \n",
    "\n",
    "# 클라이언트 초기화\n",
    "client = InfluxDBClient(url=url, token=token, org=org)"
   ]
  },
  {
   "cell_type": "code",
   "execution_count": 33,
   "metadata": {},
   "outputs": [
    {
     "name": "stdout",
     "output_type": "stream",
     "text": [
      "1분 동안의 샘플 데이터 작성 완료\n"
     ]
    }
   ],
   "source": [
    "write_api = client.write_api(write_options=SYNCHRONOUS)\n",
    "\n",
    "start_time = datetime.utcnow()\n",
    "\n",
    "for i in range(60):  # 60개의 샘플 데이터 생성 (1초 간격으로 1분 동안)\n",
    "    point = Point(\"temperature\") \\\n",
    "        .tag(\"location\", \"office\") \\\n",
    "        .field(\"value\", random.uniform(20, 25)) \\\n",
    "        .time(start_time + timedelta(seconds=i), WritePrecision.NS)\n",
    "    \n",
    "    write_api.write(bucket=bucket, org=org, record=point)\n",
    "\n",
    "print(\"1분 동안의 샘플 데이터 작성 완료\")"
   ]
  },
  {
   "cell_type": "code",
   "execution_count": 51,
   "metadata": {},
   "outputs": [
    {
     "name": "stdout",
     "output_type": "stream",
     "text": [
      "Time: 2024-08-05 22:58:04.933160+00:00,tagname: temperature, Value: 24.051687613816547\n",
      "Time: 2024-08-05 22:58:05.933160+00:00,tagname: temperature, Value: 20.79838587267347\n",
      "Time: 2024-08-05 22:58:06.933160+00:00,tagname: temperature, Value: 22.728932175984312\n",
      "Time: 2024-08-05 22:58:07.933160+00:00,tagname: temperature, Value: 23.774566938581618\n",
      "Time: 2024-08-05 22:58:08.933160+00:00,tagname: temperature, Value: 22.527361883243064\n",
      "Time: 2024-08-05 22:58:09.933160+00:00,tagname: temperature, Value: 22.65815007705891\n",
      "Time: 2024-08-05 22:58:10.933160+00:00,tagname: temperature, Value: 20.16243376430137\n",
      "Time: 2024-08-05 22:58:11.933160+00:00,tagname: temperature, Value: 24.611622568732706\n",
      "Time: 2024-08-05 22:58:12.933160+00:00,tagname: temperature, Value: 20.970480484250004\n",
      "Time: 2024-08-05 22:58:13.933160+00:00,tagname: temperature, Value: 23.30514002353645\n",
      "Time: 2024-08-05 22:58:14.933160+00:00,tagname: temperature, Value: 20.932980641923905\n",
      "Time: 2024-08-05 22:58:15.933160+00:00,tagname: temperature, Value: 21.55861180694384\n",
      "Time: 2024-08-05 22:58:16.933160+00:00,tagname: temperature, Value: 22.07724758893288\n",
      "Time: 2024-08-05 22:58:17.933160+00:00,tagname: temperature, Value: 24.80832696875916\n",
      "Time: 2024-08-05 22:58:18.933160+00:00,tagname: temperature, Value: 23.446611424570715\n",
      "Time: 2024-08-05 22:58:19.933160+00:00,tagname: temperature, Value: 20.044408178918896\n",
      "Time: 2024-08-05 22:58:20.933160+00:00,tagname: temperature, Value: 20.649202274139594\n",
      "Time: 2024-08-05 22:58:21.933160+00:00,tagname: temperature, Value: 22.55123278891094\n",
      "Time: 2024-08-05 22:58:22.933160+00:00,tagname: temperature, Value: 20.609393720393143\n",
      "Time: 2024-08-05 22:58:23.933160+00:00,tagname: temperature, Value: 21.807884460385107\n",
      "Time: 2024-08-05 22:58:24.933160+00:00,tagname: temperature, Value: 20.22643526425524\n",
      "Time: 2024-08-05 22:58:25.933160+00:00,tagname: temperature, Value: 22.528802636514943\n",
      "Time: 2024-08-05 22:58:26.933160+00:00,tagname: temperature, Value: 22.442119779263194\n",
      "Time: 2024-08-05 22:58:27.933160+00:00,tagname: temperature, Value: 20.761248388065088\n",
      "Time: 2024-08-05 22:58:28.933160+00:00,tagname: temperature, Value: 20.484577055671988\n",
      "Time: 2024-08-05 22:58:29.933160+00:00,tagname: temperature, Value: 23.885916236598383\n",
      "Time: 2024-08-05 22:58:30.933160+00:00,tagname: temperature, Value: 24.90131710641879\n",
      "Time: 2024-08-05 22:58:31.933160+00:00,tagname: temperature, Value: 20.614840541165076\n",
      "Time: 2024-08-05 22:58:32.933160+00:00,tagname: temperature, Value: 22.988695365870562\n",
      "Time: 2024-08-05 22:58:33.933160+00:00,tagname: temperature, Value: 23.466156370190713\n",
      "Time: 2024-08-05 22:58:34.933160+00:00,tagname: temperature, Value: 24.82588431176095\n",
      "Time: 2024-08-05 22:58:35.933160+00:00,tagname: temperature, Value: 24.136899454909376\n",
      "Time: 2024-08-05 22:58:36.933160+00:00,tagname: temperature, Value: 20.438172040743577\n",
      "Time: 2024-08-05 22:58:37.933160+00:00,tagname: temperature, Value: 20.855160267698977\n",
      "Time: 2024-08-05 22:58:38.933160+00:00,tagname: temperature, Value: 24.492669188409117\n",
      "Time: 2024-08-05 22:58:39.933160+00:00,tagname: temperature, Value: 20.31546888560013\n",
      "Time: 2024-08-05 22:58:40.933160+00:00,tagname: temperature, Value: 20.571585494719113\n",
      "Time: 2024-08-05 22:58:41.933160+00:00,tagname: temperature, Value: 24.04537065332673\n",
      "Time: 2024-08-05 22:58:42.933160+00:00,tagname: temperature, Value: 24.32432429119802\n",
      "Time: 2024-08-05 22:58:43.933160+00:00,tagname: temperature, Value: 24.584088738690653\n",
      "Time: 2024-08-05 22:58:44.933160+00:00,tagname: temperature, Value: 24.20286114447704\n",
      "Time: 2024-08-05 22:58:45.933160+00:00,tagname: temperature, Value: 23.62799269688411\n",
      "Time: 2024-08-05 22:58:46.933160+00:00,tagname: temperature, Value: 22.285714358857373\n",
      "Time: 2024-08-05 22:58:47.933160+00:00,tagname: temperature, Value: 22.01439778379861\n",
      "Time: 2024-08-05 22:58:48.933160+00:00,tagname: temperature, Value: 24.264984694092146\n",
      "Time: 2024-08-05 22:58:49.933160+00:00,tagname: temperature, Value: 21.847174777525737\n",
      "Time: 2024-08-05 22:58:50.933160+00:00,tagname: temperature, Value: 23.49345459321909\n",
      "Time: 2024-08-05 22:58:51.933160+00:00,tagname: temperature, Value: 23.70593780545856\n",
      "Time: 2024-08-05 22:58:52.933160+00:00,tagname: temperature, Value: 21.23207824474138\n",
      "Time: 2024-08-05 22:58:53.933160+00:00,tagname: temperature, Value: 22.027850516031496\n",
      "Time: 2024-08-05 22:58:54.933160+00:00,tagname: temperature, Value: 24.147868767955032\n",
      "Time: 2024-08-05 22:58:55.933160+00:00,tagname: temperature, Value: 22.29037358239296\n",
      "Time: 2024-08-05 22:58:56.933160+00:00,tagname: temperature, Value: 21.765076860387072\n",
      "Time: 2024-08-05 22:58:57.933160+00:00,tagname: temperature, Value: 23.329566778965287\n",
      "Time: 2024-08-05 22:58:58.933160+00:00,tagname: temperature, Value: 22.42704191570727\n",
      "Time: 2024-08-05 22:58:59.933160+00:00,tagname: temperature, Value: 22.524841173072645\n",
      "Time: 2024-08-05 22:59:00.933160+00:00,tagname: temperature, Value: 24.818087300154705\n",
      "Time: 2024-08-05 22:59:01.933160+00:00,tagname: temperature, Value: 22.178627514408333\n",
      "Time: 2024-08-05 22:59:02.933160+00:00,tagname: temperature, Value: 24.31510243260296\n",
      "Time: 2024-08-05 22:59:03.933160+00:00,tagname: temperature, Value: 22.845370028300746\n"
     ]
    }
   ],
   "source": [
    "query_api = client.query_api()\n",
    "\n",
    "query = f'from(bucket:\"{bucket}\") |> range(start: -15m)'\n",
    "tables = query_api.query(query, org=org)\n",
    "\n",
    "for table in tables:\n",
    "    for record in table.records:\n",
    "        print(f'Time: {record.get_time()},tagname: {record.get_measurement()}, Value: {record.get_value()}')\n"
   ]
  }
 ],
 "metadata": {
  "kernelspec": {
   "display_name": "server",
   "language": "python",
   "name": "python3"
  },
  "language_info": {
   "codemirror_mode": {
    "name": "ipython",
    "version": 3
   },
   "file_extension": ".py",
   "mimetype": "text/x-python",
   "name": "python",
   "nbconvert_exporter": "python",
   "pygments_lexer": "ipython3",
   "version": "3.11.0"
  }
 },
 "nbformat": 4,
 "nbformat_minor": 2
}
