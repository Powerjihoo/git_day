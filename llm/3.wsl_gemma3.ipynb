{
 "cells": [
  {
   "cell_type": "code",
   "execution_count": 3,
   "id": "b2b35f49",
   "metadata": {},
   "outputs": [
    {
     "name": "stdout",
     "output_type": "stream",
     "text": [
      "==((====))==  Unsloth 2025.5.10: Fast Gemma3 patching. Transformers: 4.52.4.\n",
      "   \\\\   /|    NVIDIA GeForce RTX 4060. Num GPUs = 1. Max memory: 7.996 GB. Platform: Linux.\n",
      "O^O/ \\_/ \\    Torch: 2.5.1+cu121. CUDA: 8.9. CUDA Toolkit: 12.1. Triton: 3.1.0\n",
      "\\        /    Bfloat16 = TRUE. FA [Xformers = None. FA2 = False]\n",
      " \"-____-\"     Free license: http://github.com/unslothai/unsloth\n",
      "Unsloth: Fast downloading is enabled - ignore downloading bars which are red colored!\n"
     ]
    },
    {
     "data": {
      "text/plain": [
       "Gemma3ForCausalLM(\n",
       "  (model): Gemma3TextModel(\n",
       "    (embed_tokens): Gemma3TextScaledWordEmbedding(262144, 1152, padding_idx=0)\n",
       "    (layers): ModuleList(\n",
       "      (0-15): 16 x Gemma3DecoderLayer(\n",
       "        (self_attn): Gemma3Attention(\n",
       "          (q_proj): Linear4bit(in_features=1152, out_features=1024, bias=False)\n",
       "          (k_proj): Linear4bit(in_features=1152, out_features=256, bias=False)\n",
       "          (v_proj): Linear4bit(in_features=1152, out_features=256, bias=False)\n",
       "          (o_proj): Linear4bit(in_features=1024, out_features=1152, bias=False)\n",
       "          (q_norm): Gemma3RMSNorm((256,), eps=1e-06)\n",
       "          (k_norm): Gemma3RMSNorm((256,), eps=1e-06)\n",
       "        )\n",
       "        (mlp): Gemma3MLP(\n",
       "          (gate_proj): Linear4bit(in_features=1152, out_features=6912, bias=False)\n",
       "          (up_proj): Linear4bit(in_features=1152, out_features=6912, bias=False)\n",
       "          (down_proj): Linear4bit(in_features=6912, out_features=1152, bias=False)\n",
       "          (act_fn): PytorchGELUTanh()\n",
       "        )\n",
       "        (input_layernorm): Gemma3RMSNorm((1152,), eps=1e-06)\n",
       "        (post_attention_layernorm): Gemma3RMSNorm((1152,), eps=1e-06)\n",
       "        (pre_feedforward_layernorm): Gemma3RMSNorm((1152,), eps=1e-06)\n",
       "        (post_feedforward_layernorm): Gemma3RMSNorm((1152,), eps=1e-06)\n",
       "      )\n",
       "      (16): Gemma3DecoderLayer(\n",
       "        (self_attn): Gemma3Attention(\n",
       "          (q_proj): Linear4bit(in_features=1152, out_features=1024, bias=False)\n",
       "          (k_proj): Linear4bit(in_features=1152, out_features=256, bias=False)\n",
       "          (v_proj): Linear4bit(in_features=1152, out_features=256, bias=False)\n",
       "          (o_proj): Linear4bit(in_features=1024, out_features=1152, bias=False)\n",
       "          (q_norm): Gemma3RMSNorm((256,), eps=1e-06)\n",
       "          (k_norm): Gemma3RMSNorm((256,), eps=1e-06)\n",
       "        )\n",
       "        (mlp): Gemma3MLP(\n",
       "          (gate_proj): Linear(in_features=1152, out_features=6912, bias=False)\n",
       "          (up_proj): Linear(in_features=1152, out_features=6912, bias=False)\n",
       "          (down_proj): Linear(in_features=6912, out_features=1152, bias=False)\n",
       "          (act_fn): PytorchGELUTanh()\n",
       "        )\n",
       "        (input_layernorm): Gemma3RMSNorm((1152,), eps=1e-06)\n",
       "        (post_attention_layernorm): Gemma3RMSNorm((1152,), eps=1e-06)\n",
       "        (pre_feedforward_layernorm): Gemma3RMSNorm((1152,), eps=1e-06)\n",
       "        (post_feedforward_layernorm): Gemma3RMSNorm((1152,), eps=1e-06)\n",
       "      )\n",
       "      (17-25): 9 x Gemma3DecoderLayer(\n",
       "        (self_attn): Gemma3Attention(\n",
       "          (q_proj): Linear4bit(in_features=1152, out_features=1024, bias=False)\n",
       "          (k_proj): Linear4bit(in_features=1152, out_features=256, bias=False)\n",
       "          (v_proj): Linear4bit(in_features=1152, out_features=256, bias=False)\n",
       "          (o_proj): Linear4bit(in_features=1024, out_features=1152, bias=False)\n",
       "          (q_norm): Gemma3RMSNorm((256,), eps=1e-06)\n",
       "          (k_norm): Gemma3RMSNorm((256,), eps=1e-06)\n",
       "        )\n",
       "        (mlp): Gemma3MLP(\n",
       "          (gate_proj): Linear4bit(in_features=1152, out_features=6912, bias=False)\n",
       "          (up_proj): Linear4bit(in_features=1152, out_features=6912, bias=False)\n",
       "          (down_proj): Linear4bit(in_features=6912, out_features=1152, bias=False)\n",
       "          (act_fn): PytorchGELUTanh()\n",
       "        )\n",
       "        (input_layernorm): Gemma3RMSNorm((1152,), eps=1e-06)\n",
       "        (post_attention_layernorm): Gemma3RMSNorm((1152,), eps=1e-06)\n",
       "        (pre_feedforward_layernorm): Gemma3RMSNorm((1152,), eps=1e-06)\n",
       "        (post_feedforward_layernorm): Gemma3RMSNorm((1152,), eps=1e-06)\n",
       "      )\n",
       "    )\n",
       "    (norm): Gemma3RMSNorm((1152,), eps=1e-06)\n",
       "    (rotary_emb): Gemma3RotaryEmbedding()\n",
       "    (rotary_emb_local): Gemma3RotaryEmbedding()\n",
       "  )\n",
       "  (lm_head): Linear(in_features=1152, out_features=262144, bias=False)\n",
       ")"
      ]
     },
     "execution_count": 3,
     "metadata": {},
     "output_type": "execute_result"
    }
   ],
   "source": [
    "from unsloth import FastLanguageModel\n",
    "import torch\n",
    "from transformers import AutoTokenizer\n",
    "\n",
    "# 4bit 로딩\n",
    "model, tokenizer = FastLanguageModel.from_pretrained(\n",
    "    model_name = \"unsloth/gemma-3-1b-it\",\n",
    "    max_seq_length = 512,\n",
    "    dtype = torch.bfloat16,\n",
    "    load_in_4bit = True,\n",
    ")\n",
    "FastLanguageModel.for_inference(model)  # Inference 최적화"
   ]
  },
  {
   "cell_type": "code",
   "execution_count": 4,
   "id": "538e1a8b",
   "metadata": {},
   "outputs": [
    {
     "name": "stderr",
     "output_type": "stream",
     "text": [
      "The attention mask is not set and cannot be inferred from input because pad token is same as eos token. As a consequence, you may observe unexpected behavior. Please pass your input's `attention_mask` to obtain reliable results.\n",
      "You have set `compile_config`, but we are unable to meet the criteria for compilation. Compilation will be skipped.\n"
     ]
    },
    {
     "name": "stdout",
     "output_type": "stream",
     "text": [
      "user\n",
      "You are a helpful assistant.\n",
      "\n",
      "한화이글스에 대해 알려줘줘\n",
      "##\n",
      "##\n",
      "**한화 이글스**\n",
      "\n",
      "**한화 이글스**는 2017년 6월 14일에 창단한 한국 야구 리그 (KMB) 소속의 야구팀입니다. \n",
      "\n",
      "**개요**\n",
      "\n",
      "*   **팀 이름\n"
     ]
    }
   ],
   "source": [
    "messages = [\n",
    "    {\n",
    "        \"role\": \"system\",\n",
    "        \"content\": \"You are a helpful assistant.\"\n",
    "    },\n",
    "    {\n",
    "        \"role\": \"user\",\n",
    "        \"content\": \"한화이글스에 대해 알려줘줘\"\n",
    "    }\n",
    "]\n",
    "\n",
    "inputs = tokenizer.apply_chat_template(\n",
    "    messages,\n",
    "    add_generation_prompt=True,\n",
    "    tokenize=True,\n",
    "    return_dict=True,\n",
    "    return_tensors=\"pt\",\n",
    ").to(model.device).to(torch.bfloat16)\n",
    "\n",
    "\n",
    "# Gemma-style prompt 자동 처리\n",
    "inputs = tokenizer.apply_chat_template(messages, return_tensors=\"pt\").to(model.device)\n",
    "\n",
    "outputs = model.generate(inputs, max_new_tokens=64, do_sample=True)\n",
    "print(tokenizer.decode(outputs[0], skip_special_tokens=True))\n"
   ]
  },
  {
   "cell_type": "code",
   "execution_count": null,
   "id": "fd7f886e",
   "metadata": {},
   "outputs": [],
   "source": []
  },
  {
   "cell_type": "code",
   "execution_count": 13,
   "id": "1d1539cc",
   "metadata": {},
   "outputs": [
    {
     "name": "stdout",
     "output_type": "stream",
     "text": [
      "==((====))==  Unsloth 2025.5.10: Fast Gemma3 patching. Transformers: 4.52.4.\n",
      "   \\\\   /|    NVIDIA GeForce RTX 4060. Num GPUs = 1. Max memory: 7.996 GB. Platform: Linux.\n",
      "O^O/ \\_/ \\    Torch: 2.5.1+cu121. CUDA: 8.9. CUDA Toolkit: 12.1. Triton: 3.1.0\n",
      "\\        /    Bfloat16 = TRUE. FA [Xformers = None. FA2 = False]\n",
      " \"-____-\"     Free license: http://github.com/unslothai/unsloth\n",
      "Unsloth: Fast downloading is enabled - ignore downloading bars which are red colored!\n",
      "user\n",
      "당신은 친절한 한국어 AI입니다. 질문에 문맥에 맞게 자세히 대답하세요.\n",
      "\n",
      "다음 내용을 참고해서 대답해줘:\n",
      "한화이글스의 맛집은 농심가락입니다.\n",
      "한화이글스는 홈구장으로 한화생명이글스파크를 사용하고 있습니다.\n",
      "\n",
      "질문: 한화이글스의 홈구장은 어디야?\n",
      "답변:\n",
      "\n",
      "한화이글스의 홈구장은 한화생명이글스파크입니다.\n",
      "\n"
     ]
    }
   ],
   "source": [
    "from unsloth import FastLanguageModel\n",
    "from transformers import AutoTokenizer\n",
    "from sentence_transformers import SentenceTransformer\n",
    "import faiss\n",
    "import torch\n",
    "\n",
    "# 1. 모델 로딩 (Unsloth + Gemma 3 1B IT)\n",
    "model, tokenizer = FastLanguageModel.from_pretrained(\n",
    "    model_name = \"unsloth/gemma-3-1b-it\",\n",
    "    max_seq_length = 2048,\n",
    "    dtype = torch.bfloat16,\n",
    "    load_in_4bit = True,\n",
    ")\n",
    "FastLanguageModel.for_inference(model)\n",
    "\n",
    "# 2. 문서 준비 + chunking (예시)\n",
    "documents = [\n",
    "    \"한화이글스는 대전광역시를 연고로 하는 한국프로야구 팀입니다.\",\n",
    "    \"이 팀은 1986년에 창단되었으며, 대표적인 선수로 정근우, 김태균 등이 있습니다.\",\n",
    "    \"한화이글스는 홈구장으로 한화생명이글스파크를 사용하고 있습니다.\",\n",
    "    \"한화이글스의 맛집은 농심가락입니다.\"\n",
    "]\n",
    "\n",
    "# 3. 임베딩 모델 및 FAISS 인덱스 준비\n",
    "embed_model = SentenceTransformer(\"sentence-transformers/all-MiniLM-L6-v2\")\n",
    "embeddings = embed_model.encode(documents, convert_to_tensor=True).cpu().detach().numpy()\n",
    "\n",
    "faiss_index = faiss.IndexFlatL2(embeddings.shape[1])\n",
    "faiss_index.add(embeddings)\n",
    "\n",
    "# 4. 사용자 질문 → 유사 chunk 검색\n",
    "def retrieve_context(question, top_k=2):\n",
    "    q_embed = embed_model.encode([question], convert_to_tensor=True).cpu().detach().numpy()\n",
    "    _, indices = faiss_index.search(q_embed, top_k)\n",
    "    return \"\\n\".join([documents[i] for i in indices[0]])\n",
    "\n",
    "# 5. Prompt 구성 + Gemma 추론\n",
    "def ask_rag(question):\n",
    "    context = retrieve_context(question)\n",
    "\n",
    "    messages = [\n",
    "        {\"role\": \"system\", \"content\": \"당신은 친절한 한국어 AI입니다. 질문에 문맥에 맞게 자세히 대답하세요.\"},\n",
    "        {\"role\": \"user\", \"content\": f\"다음 내용을 참고해서 대답해줘:\\n{context}\\n\\n질문: {question}\"}\n",
    "    ]\n",
    "\n",
    "    inputs = tokenizer.apply_chat_template(messages, return_tensors=\"pt\").to(model.device)\n",
    "    outputs = model.generate(inputs, max_new_tokens=256)\n",
    "    return tokenizer.decode(outputs[0], skip_special_tokens=True)\n",
    "\n",
    "# 6. 예시 실행\n",
    "print(ask_rag(\"한화이글스의 홈구장은 어디야?\"))\n"
   ]
  },
  {
   "cell_type": "code",
   "execution_count": 15,
   "id": "d0d8bc6a",
   "metadata": {},
   "outputs": [
    {
     "name": "stdout",
     "output_type": "stream",
     "text": [
      "user\n",
      "당신은 친절한 한국어 AI입니다. 질문에 문맥에 맞게 자세히 대답하세요.\n",
      "\n",
      "다음 내용을 참고해서 대답해줘:\n",
      "한화이글스의 맛집은 농심가락입니다.\n",
      "한화이글스는 대전광역시를 연고로 하는 한국프로야구 팀입니다.\n",
      "\n",
      "질문: 한화이글스의 맛집은 어디야?\n",
      "답변: 한화이글스의 맛집은 농심가락입니다.\n",
      "\n",
      "**해설:**\n",
      "\n",
      "이 답변은 주어진 정보만으로는 \"농심가락\"이 한화이글스의 맛집임을 명확하게 인지하고 있습니다. \n",
      "\n",
      "따라서 주어진 정보의 정보를 활용하여,  농심가락이 한화이글스의 맛집으로 이해하고 답변을 제공합니다.\n",
      "\n",
      "**제외**\n",
      "\n",
      "*   **다른 맛집 정보:** 다른 맛집 정보(예: '정대리', '어린이수영장' 등)에 대한 질문에는 답변을 제공하지 않습니다.\n",
      "*   **개인적인 추천:** 개인적인 취향이나 경험을 바탕으로 답변을 제공하지 않습니다.\n",
      "\n",
      "이해에 도움이 되셨기를 바랍니다.\n"
     ]
    }
   ],
   "source": [
    "# 6. 예시 실행\n",
    "print(ask_rag(\"한화이글스의 맛집은 어디야?\"))"
   ]
  },
  {
   "cell_type": "code",
   "execution_count": 12,
   "id": "3c11e51b",
   "metadata": {},
   "outputs": [
    {
     "name": "stdout",
     "output_type": "stream",
     "text": [
      "user\n",
      "당신은 친절한 한국어 AI입니다. 질문에 문맥에 맞게 자세히 대답하세요.\n",
      "\n",
      "다음 내용을 참고해서 대답해줘:\n",
      "한화이글스는 대전광역시를 연고로 하는 한국프로야구 팀입니다.\n",
      "한화이글스는 홈구장으로 한화생명이글스파크를 사용하고 있습니다.\n",
      "\n",
      "질문: 한화이글스의 맛집은 어디야?\n",
      "답변: 한화이글스 홈구장인 한화생명이글스파크 내에 다양한 맛집들이 있습니다. \n",
      "\n",
      "좀 더 자세하게 설명해 드릴까요? 어떤 종류의 맛집을 찾고 싶으신가요?\n",
      "\n",
      "*   **식사 종류:** (예: 맛있는 한식, 퓨전 음식, 캐주얼한 식사, 고급 레스토랑)\n",
      "*   **매장 분위기:** (예: 분위기 좋은 곳, 조용한 곳, 활기찬 곳, 낭만적인 분위기)\n",
      "*   **가격:** (예: 저렴한 가격, 부담 없는 가격, 비싼 가격)\n",
      "*   **특징:** (예: 런치 메뉴, 특별한 뷰, 냅킨 수거 정책)\n",
      "*   **편의시설:** (예: 야외석, 바, 룸)\n",
      "\n",
      "이러한 요소들을 고려하여 맛집을 추천해 드릴 수 있습니다. 어떤 것을 가장 중요하게 생각하세요?\n"
     ]
    }
   ],
   "source": [
    "# 6. 예시 실행\n",
    "print(ask_rag(\"한화이글스의 맛집은 어디야?\"))"
   ]
  },
  {
   "cell_type": "code",
   "execution_count": 17,
   "id": "a9a5b305",
   "metadata": {},
   "outputs": [
    {
     "name": "stdout",
     "output_type": "stream",
     "text": [
      "GPU = NVIDIA GeForce RTX 4060. Max memory = 7.996 GB.\n",
      "4.227 GB of memory reserved.\n"
     ]
    }
   ],
   "source": [
    "# @title Show current memory stats\n",
    "gpu_stats = torch.cuda.get_device_properties(0)\n",
    "start_gpu_memory = round(torch.cuda.max_memory_reserved() / 1024 / 1024 / 1024, 3)\n",
    "max_memory = round(gpu_stats.total_memory / 1024 / 1024 / 1024, 3)\n",
    "print(f\"GPU = {gpu_stats.name}. Max memory = {max_memory} GB.\")\n",
    "print(f\"{start_gpu_memory} GB of memory reserved.\")"
   ]
  },
  {
   "cell_type": "code",
   "execution_count": 5,
   "id": "6368ddb5",
   "metadata": {},
   "outputs": [
    {
     "name": "stderr",
     "output_type": "stream",
     "text": [
      "The `xla_device` argument has been deprecated in v4.4.0 of Transformers. It is ignored and you can safely remove it from your `config.json` file.\n",
      "The `xla_device` argument has been deprecated in v4.4.0 of Transformers. It is ignored and you can safely remove it from your `config.json` file.\n",
      "You are using the default legacy behaviour of the <class 'transformers.models.t5.tokenization_t5.T5Tokenizer'>. This is expected, and simply means that the `legacy` (previous) behavior will be used so nothing changes for you. If you want to use the new behaviour, set `legacy=False`. This should only be set if you understand what it means, and thoroughly read the reason why this was added as explained in https://github.com/huggingface/transformers/pull/24565\n",
      "The `xla_device` argument has been deprecated in v4.4.0 of Transformers. It is ignored and you can safely remove it from your `config.json` file.\n",
      "The `xla_device` argument has been deprecated in v4.4.0 of Transformers. It is ignored and you can safely remove it from your `config.json` file.\n",
      "Device set to use cuda:0\n"
     ]
    },
    {
     "name": "stdout",
     "output_type": "stream",
     "text": [
      "question:                               \n"
     ]
    }
   ],
   "source": [
    "from transformers import AutoTokenizer, AutoModelForSeq2SeqLM, pipeline\n",
    "\n",
    "model_id = \"mrm8488/t5-base-finetuned-question-generation-ap\"\n",
    "tokenizer = AutoTokenizer.from_pretrained(model_id)\n",
    "model = AutoModelForSeq2SeqLM.from_pretrained(model_id)\n",
    "\n",
    "qg_pipeline = pipeline(\"text2text-generation\", model=model, tokenizer=tokenizer)\n",
    "\n",
    "context = \"한화이글스는 1986년에 창단되었으며, 대전광역시를 연고로 한다. 홈구장은 한화생명이글스파크이다.\"\n",
    "\n",
    "input_text = f\"generate question: {context}\"\n",
    "outputs = qg_pipeline(input_text, max_new_tokens=64)\n",
    "print(outputs[0]['generated_text'])\n"
   ]
  },
  {
   "cell_type": "code",
   "execution_count": 6,
   "id": "e56e7f14",
   "metadata": {},
   "outputs": [
    {
     "data": {
      "text/plain": [
       "[{'generated_text': 'question:                               '}]"
      ]
     },
     "execution_count": 6,
     "metadata": {},
     "output_type": "execute_result"
    }
   ],
   "source": [
    "outputs"
   ]
  }
 ],
 "metadata": {
  "kernelspec": {
   "display_name": "llm_wls",
   "language": "python",
   "name": "python3"
  },
  "language_info": {
   "codemirror_mode": {
    "name": "ipython",
    "version": 3
   },
   "file_extension": ".py",
   "mimetype": "text/x-python",
   "name": "python",
   "nbconvert_exporter": "python",
   "pygments_lexer": "ipython3",
   "version": "3.10.12"
  }
 },
 "nbformat": 4,
 "nbformat_minor": 5
}
