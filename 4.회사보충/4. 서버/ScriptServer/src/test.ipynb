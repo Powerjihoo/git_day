{
 "cells": [
  {
   "cell_type": "code",
   "execution_count": 1,
   "metadata": {},
   "outputs": [],
   "source": [
    "from dataclasses import dataclass\n",
    "import pandas as pd"
   ]
  },
  {
   "cell_type": "code",
   "execution_count": 2,
   "metadata": {},
   "outputs": [],
   "source": [
    "@dataclass\n",
    "class TagData:\n",
    "    tagname: str\n",
    "    value: float\n",
    "    timestamp: int\n",
    "    status_code: int"
   ]
  },
  {
   "cell_type": "code",
   "execution_count": 3,
   "metadata": {},
   "outputs": [],
   "source": [
    "data_from_kafka = {\n",
    "    \"script_name1\": {\n",
    "        \"tagname11\": {\n",
    "            \"timestamp\": 172352323,\n",
    "            \"value\": 11.111,\n",
    "            \"status_code\": 192,\n",
    "        },\n",
    "        \"tagname12\": {\n",
    "            \"timestamp\": 172352323,\n",
    "            \"value\": 22.222,\n",
    "            \"status_code\": 192,\n",
    "        },\n",
    "        \"tagname13\": {\n",
    "            \"timestamp\": 172352323,\n",
    "            \"value\": 33.333,\n",
    "            \"status_code\": 192,\n",
    "        },\n",
    "        \"tagname14\": {\n",
    "            \"timestamp\": 172352323,\n",
    "            \"value\": 44.444,\n",
    "            \"status_code\": 192,\n",
    "        },\n",
    "    },\n",
    "    \"script_name2\": {\n",
    "        \"tagname21\": {\n",
    "            \"timestamp\": 172352323,\n",
    "            \"value\": 11.111,\n",
    "            \"status_code\": 192,\n",
    "        },\n",
    "        \"tagname22\": {\n",
    "            \"timestamp\": 172352323,\n",
    "            \"value\": 22.222,\n",
    "            \"status_code\": 192,\n",
    "        },\n",
    "        \"tagname23\": {\n",
    "            \"timestamp\": 172352323,\n",
    "            \"value\": 33.333,\n",
    "            \"status_code\": 192,\n",
    "        },\n",
    "        \"tagname24\": {\n",
    "            \"timestamp\": 172352323,\n",
    "            \"value\": 44.444,\n",
    "            \"status_code\": 192,\n",
    "        },\n",
    "    },\n",
    "    \"script_name3\": {\n",
    "        \"tagname31\": {\n",
    "            \"timestamp\": 172352323,\n",
    "            \"value\": 11.111,\n",
    "            \"status_code\": 192,\n",
    "        },\n",
    "        \"tagname32\": {\n",
    "            \"timestamp\": 172352323,\n",
    "            \"value\": 22.222,\n",
    "            \"status_code\": 192,\n",
    "        },\n",
    "        \"tagname33\": {\n",
    "            \"timestamp\": 172352323,\n",
    "            \"value\": 33.333,\n",
    "            \"status_code\": 192,\n",
    "        },\n",
    "        \"tagname34\": {\n",
    "            \"timestamp\": 172352323,\n",
    "            \"value\": 44.444,\n",
    "            \"status_code\": 192,\n",
    "        },\n",
    "    }\n",
    "}"
   ]
  },
  {
   "cell_type": "code",
   "execution_count": 4,
   "metadata": {},
   "outputs": [],
   "source": [
    "script_data_dict = {}\n",
    "for script_name, script_data in data_from_kafka.items():\n",
    "    script_data_dict[script_name] = {}\n",
    "    for tagname, tag_data in script_data.items():\n",
    "        script_data_dict[script_name][tagname] = TagData(**tag_data, tagname=tagname)\n",
    "    "
   ]
  },
  {
   "cell_type": "code",
   "execution_count": 60,
   "metadata": {},
   "outputs": [
    {
     "data": {
      "text/plain": [
       "TagData(tagname='tagname11', value=11.111, timestamp=172352323, status_code=192)"
      ]
     },
     "execution_count": 60,
     "metadata": {},
     "output_type": "execute_result"
    }
   ],
   "source": [
    "script_data_dict[\"script_name1\"][\"tagname11\"]"
   ]
  },
  {
   "cell_type": "code",
   "execution_count": 14,
   "metadata": {},
   "outputs": [
    {
     "data": {
      "text/plain": [
       "10.0"
      ]
     },
     "execution_count": 14,
     "metadata": {},
     "output_type": "execute_result"
    }
   ],
   "source": [
    "tagdata()"
   ]
  },
  {
   "cell_type": "code",
   "execution_count": 15,
   "metadata": {},
   "outputs": [],
   "source": [
    "d = {\"tagA\": tagdata}"
   ]
  },
  {
   "cell_type": "code",
   "execution_count": 19,
   "metadata": {},
   "outputs": [
    {
     "data": {
      "text/plain": [
       "10.0"
      ]
     },
     "execution_count": 19,
     "metadata": {},
     "output_type": "execute_result"
    }
   ],
   "source": [
    "d[\"tagA\"].value"
   ]
  },
  {
   "cell_type": "code",
   "execution_count": 5,
   "metadata": {},
   "outputs": [],
   "source": [
    "import pandas as pd\n",
    "import re\n",
    "\n",
    "data = {'Line': {0: 1, 1: 3, 2: 4, 3: 5, 4: 6, 5: 7, 6: 8, 7: 10, 8: 11, 9: 12, 10: 13, 11: 16, 12: 18, 13: 19, 14: 20, 15: 21}, 'Code': {0: 'import random', 1: 'result = []', 2: 'v1 = Value[\"2235-RCT112CC\"].value', 3: 'v2 = Value[\"2235-RCT112CD\"].value', 4: 'v3 = Value[\"2235-RCT112CJ\"].value', 5: 'v4 = Value[\"2235-RCT112CK\"].value', 6: 'values = np.array([v1,v2,v3,v4])', 7: 'sum_ab = np.sum(values[:2])  # a + b', 8: 'sin_c = np.sin(values[2])    # sin(c)', 9: 'log_d = np.log(values[3])    # log(d)', 10: 'prod_abcd = np.prod(values)  # a * b * c * d', 11: '_result = (sum_ab * sin_c) / log_d + np.sqrt(prod_abcd)', 12: 'result.append(sum_ab)', 13: 'result.append(sum_ab + random.uniform(-5,5))', 14: \"self.result_output['2235-CALC1_1'] = result[0]\", 15: \"self.result_output['2235-CALC1_2'] = result[1]\"}, 'Variables': {0: '', 1: '', 2: 'result: []', 3: 'result: [], v1: 295.6069', 4: 'result: [], v1: 295.6069, v2: 295.4841', 5: 'result: [], v1: 295.6069, v2: 295.4841, v3: 295.9762', 6: 'result: [], v1: 295.6069, v2: 295.4841, v3: 295.9762, v4: 296.0695', 7: 'result: [], v1: 295.6069, v2: 295.4841, v3: 295.9762, v4: 296.0695, values: [295.6069 295.4841 295.9762 296.0695]', 8: 'result: [], v1: 295.6069, v2: 295.4841, v3: 295.9762, v4: 296.0695, values: [295.6069 295.4841 295.9762 296.0695], sum_ab: 591.091', 9: 'result: [], v1: 295.6069, v2: 295.4841, v3: 295.9762, v4: 296.0695, values: [295.6069 295.4841 295.9762 296.0695], sum_ab: 591.091, sin_c: 0.6182313955073683', 10: 'result: [], v1: 295.6069, v2: 295.4841, v3: 295.9762, v4: 296.0695, values: [295.6069 295.4841 295.9762 296.0695], sum_ab: 591.091, sin_c: 0.6182313955073683, log_d: 5.690594224060786', 11: 'result: [], v1: 295.6069, v2: 295.4841, v3: 295.9762, v4: 296.0695, values: [295.6069 295.4841 295.9762 296.0695], sum_ab: 591.091, sin_c: 0.6182313955073683, log_d: 5.690594224060786, prod_abcd: 7654188330.861286', 12: 'result: [], v1: 295.6069, v2: 295.4841, v3: 295.9762, v4: 296.0695, values: [295.6069 295.4841 295.9762 296.0695], sum_ab: 591.091, sin_c: 0.6182313955073683, log_d: 5.690594224060786, prod_abcd: 7654188330.861286, _result: 87552.43491071761', 13: 'result: [np.float64(591.091)], v1: 295.6069, v2: 295.4841, v3: 295.9762, v4: 296.0695, values: [295.6069 295.4841 295.9762 296.0695], sum_ab: 591.091, sin_c: 0.6182313955073683, log_d: 5.690594224060786, prod_abcd: 7654188330.861286, _result: 87552.43491071761', 14: 'result: [np.float64(591.091), np.float64(591.5707118401846)], v1: 295.6069, v2: 295.4841, v3: 295.9762, v4: 296.0695, values: [295.6069 295.4841 295.9762 296.0695], sum_ab: 591.091, sin_c: 0.6182313955073683, log_d: 5.690594224060786, prod_abcd: 7654188330.861286, _result: 87552.43491071761', 15: 'result: [np.float64(591.091), np.float64(591.5707118401846)], v1: 295.6069, v2: 295.4841, v3: 295.9762, v4: 296.0695, values: [295.6069 295.4841 295.9762 296.0695], sum_ab: 591.091, sin_c: 0.6182313955073683, log_d: 5.690594224060786, prod_abcd: 7654188330.861286, _result: 87552.43491071761'}, 'Result': {0: '', 1: 'result: []', 2: 'v1: 295.6069', 3: 'v2: 295.4841', 4: 'v3: 295.9762', 5: 'v4: 296.0695', 6: 'values: [295.6069 295.4841 295.9762 296.0695]', 7: 'sum_ab: 591.091', 8: 'sin_c: 0.6182313955073683', 9: 'log_d: 5.690594224060786', 10: 'prod_abcd: 7654188330.861286', 11: '_result: 87552.43491071761', 12: '', 13: '', 14: '', 15: ''}}"
   ]
  },
  {
   "cell_type": "code",
   "execution_count": 30,
   "metadata": {},
   "outputs": [
    {
     "data": {
      "text/plain": [
       "'result_output'"
      ]
     },
     "execution_count": 30,
     "metadata": {},
     "output_type": "execute_result"
    }
   ],
   "source": [
    "extract_expression_name(\"result_output['2235-COLDLEGSUM_1'] = result[0]\")"
   ]
  },
  {
   "cell_type": "code",
   "execution_count": 34,
   "metadata": {},
   "outputs": [],
   "source": [
    "def extract_expression_name(code_line):\n",
    "    # 변수 할당 패턴 (일반 변수 할당)\n",
    "    var_pattern = re.compile(r'(\\w+)\\s*=\\s*(.+)')  \n",
    "    # 메서드 호출 패턴 (점 기준으로 좌측 변수 추출)\n",
    "    method_pattern = re.compile(r'(\\w+)\\.(\\w+)\\(')  \n",
    "    # 딕셔너리 할당 패턴 (self를 포함한 경우)\n",
    "    dict_pattern = re.compile(r\"((self\\.\\w+)|(\\w+))\\['[^']+'\\]\\s*=\\s*(.+)\")\n",
    "\n",
    "    # 일반 변수 할당\n",
    "    var_match = var_pattern.match(code_line.strip())\n",
    "    if var_match:\n",
    "        return var_match.group(1)  # 변수 이름 반환\n",
    "\n",
    "    # 메서드 호출\n",
    "    method_match = method_pattern.search(code_line.strip())\n",
    "    if method_match:\n",
    "        return method_match.group(1)  # 좌측 변수만 반환\n",
    "\n",
    "    # 딕셔너리 할당\n",
    "    dict_match = dict_pattern.match(code_line.strip())\n",
    "    if dict_match:\n",
    "        return dict_match.group(1)  # 좌측 변수 반환\n",
    "\n",
    "    return None\n",
    "\n",
    "def extract_variable_value(variables_str, expression_name):\n",
    "    # 메서드 호출인지 변수인지 구분\n",
    "    try:\n",
    "        if \"(\" in expression_name and \".\" in expression_name:\n",
    "            # 메서드 호출일 경우\n",
    "            var_name = expression_name.split(\"(\")[1][:-1]  # 메서드 호출의 인자 부분을 추출\n",
    "            pattern = re.compile(r\"(\\w+): ([^,]+)\")  # 변수명과 일치하는 패턴을 동적으로 생성\n",
    "            matches = pattern.findall(variables_str)\n",
    "            # 변수명이 일치하는 값을 반환\n",
    "            for name, value in matches:\n",
    "                if name == var_name:\n",
    "                    return value\n",
    "        else:\n",
    "            # 일반 변수 또는 self.가 포함된 경우\n",
    "            pattern = re.compile(rf\"{expression_name}: ([^,]+)\")\n",
    "            match = pattern.search(variables_str)\n",
    "            if match:\n",
    "                return match.group(1)\n",
    "\n",
    "    except Exception as e:\n",
    "        logger.error(e)\n",
    "        print(expression_name)\n",
    "\n",
    "    return None\n"
   ]
  },
  {
   "cell_type": "code",
   "execution_count": 35,
   "metadata": {},
   "outputs": [],
   "source": [
    "df = pd.DataFrame(data)\n",
    "df['Result'] = ''"
   ]
  },
  {
   "cell_type": "code",
   "execution_count": 36,
   "metadata": {},
   "outputs": [
    {
     "data": {
      "text/html": [
       "<div>\n",
       "<style scoped>\n",
       "    .dataframe tbody tr th:only-of-type {\n",
       "        vertical-align: middle;\n",
       "    }\n",
       "\n",
       "    .dataframe tbody tr th {\n",
       "        vertical-align: top;\n",
       "    }\n",
       "\n",
       "    .dataframe thead th {\n",
       "        text-align: right;\n",
       "    }\n",
       "</style>\n",
       "<table border=\"1\" class=\"dataframe\">\n",
       "  <thead>\n",
       "    <tr style=\"text-align: right;\">\n",
       "      <th></th>\n",
       "      <th>Line</th>\n",
       "      <th>Code</th>\n",
       "      <th>Variables</th>\n",
       "      <th>Result</th>\n",
       "    </tr>\n",
       "  </thead>\n",
       "  <tbody>\n",
       "    <tr>\n",
       "      <th>0</th>\n",
       "      <td>1</td>\n",
       "      <td>import random</td>\n",
       "      <td></td>\n",
       "      <td></td>\n",
       "    </tr>\n",
       "    <tr>\n",
       "      <th>1</th>\n",
       "      <td>3</td>\n",
       "      <td>result = []</td>\n",
       "      <td></td>\n",
       "      <td>result: []</td>\n",
       "    </tr>\n",
       "    <tr>\n",
       "      <th>2</th>\n",
       "      <td>4</td>\n",
       "      <td>v1 = Value[\"2235-RCT112CC\"].value</td>\n",
       "      <td>result: []</td>\n",
       "      <td>v1: 295.6069</td>\n",
       "    </tr>\n",
       "    <tr>\n",
       "      <th>3</th>\n",
       "      <td>5</td>\n",
       "      <td>v2 = Value[\"2235-RCT112CD\"].value</td>\n",
       "      <td>result: [], v1: 295.6069</td>\n",
       "      <td>v2: 295.4841</td>\n",
       "    </tr>\n",
       "    <tr>\n",
       "      <th>4</th>\n",
       "      <td>6</td>\n",
       "      <td>v3 = Value[\"2235-RCT112CJ\"].value</td>\n",
       "      <td>result: [], v1: 295.6069, v2: 295.4841</td>\n",
       "      <td>v3: 295.9762</td>\n",
       "    </tr>\n",
       "    <tr>\n",
       "      <th>5</th>\n",
       "      <td>7</td>\n",
       "      <td>v4 = Value[\"2235-RCT112CK\"].value</td>\n",
       "      <td>result: [], v1: 295.6069, v2: 295.4841, v3: 29...</td>\n",
       "      <td>v4: 296.0695</td>\n",
       "    </tr>\n",
       "    <tr>\n",
       "      <th>6</th>\n",
       "      <td>8</td>\n",
       "      <td>values = np.array([v1,v2,v3,v4])</td>\n",
       "      <td>result: [], v1: 295.6069, v2: 295.4841, v3: 29...</td>\n",
       "      <td>values: [295.6069 295.4841 295.9762 296.0695]</td>\n",
       "    </tr>\n",
       "    <tr>\n",
       "      <th>7</th>\n",
       "      <td>10</td>\n",
       "      <td>sum_ab = np.sum(values[:2])  # a + b</td>\n",
       "      <td>result: [], v1: 295.6069, v2: 295.4841, v3: 29...</td>\n",
       "      <td>sum_ab: 591.091</td>\n",
       "    </tr>\n",
       "    <tr>\n",
       "      <th>8</th>\n",
       "      <td>11</td>\n",
       "      <td>sin_c = np.sin(values[2])    # sin(c)</td>\n",
       "      <td>result: [], v1: 295.6069, v2: 295.4841, v3: 29...</td>\n",
       "      <td>sin_c: 0.6182313955073683</td>\n",
       "    </tr>\n",
       "    <tr>\n",
       "      <th>9</th>\n",
       "      <td>12</td>\n",
       "      <td>log_d = np.log(values[3])    # log(d)</td>\n",
       "      <td>result: [], v1: 295.6069, v2: 295.4841, v3: 29...</td>\n",
       "      <td>log_d: 5.690594224060786</td>\n",
       "    </tr>\n",
       "    <tr>\n",
       "      <th>10</th>\n",
       "      <td>13</td>\n",
       "      <td>prod_abcd = np.prod(values)  # a * b * c * d</td>\n",
       "      <td>result: [], v1: 295.6069, v2: 295.4841, v3: 29...</td>\n",
       "      <td>prod_abcd: 7654188330.861286</td>\n",
       "    </tr>\n",
       "    <tr>\n",
       "      <th>11</th>\n",
       "      <td>16</td>\n",
       "      <td>_result = (sum_ab * sin_c) / log_d + np.sqrt(p...</td>\n",
       "      <td>result: [], v1: 295.6069, v2: 295.4841, v3: 29...</td>\n",
       "      <td>_result: 87552.43491071761</td>\n",
       "    </tr>\n",
       "    <tr>\n",
       "      <th>12</th>\n",
       "      <td>18</td>\n",
       "      <td>result.append(sum_ab)</td>\n",
       "      <td>result: [], v1: 295.6069, v2: 295.4841, v3: 29...</td>\n",
       "      <td>result: [np.float64(591.091)]</td>\n",
       "    </tr>\n",
       "    <tr>\n",
       "      <th>13</th>\n",
       "      <td>19</td>\n",
       "      <td>result.append(sum_ab + random.uniform(-5,5))</td>\n",
       "      <td>result: [np.float64(591.091)], v1: 295.6069, v...</td>\n",
       "      <td>result: [np.float64(591.091)</td>\n",
       "    </tr>\n",
       "    <tr>\n",
       "      <th>14</th>\n",
       "      <td>20</td>\n",
       "      <td>self.result_output['2235-CALC1_1'] = result[0]</td>\n",
       "      <td>result: [np.float64(591.091), np.float64(591.5...</td>\n",
       "      <td></td>\n",
       "    </tr>\n",
       "    <tr>\n",
       "      <th>15</th>\n",
       "      <td>21</td>\n",
       "      <td>self.result_output['2235-CALC1_2'] = result[1]</td>\n",
       "      <td>result: [np.float64(591.091), np.float64(591.5...</td>\n",
       "      <td></td>\n",
       "    </tr>\n",
       "  </tbody>\n",
       "</table>\n",
       "</div>"
      ],
      "text/plain": [
       "    Line                                               Code   \n",
       "0      1                                      import random  \\\n",
       "1      3                                        result = []   \n",
       "2      4                  v1 = Value[\"2235-RCT112CC\"].value   \n",
       "3      5                  v2 = Value[\"2235-RCT112CD\"].value   \n",
       "4      6                  v3 = Value[\"2235-RCT112CJ\"].value   \n",
       "5      7                  v4 = Value[\"2235-RCT112CK\"].value   \n",
       "6      8                   values = np.array([v1,v2,v3,v4])   \n",
       "7     10               sum_ab = np.sum(values[:2])  # a + b   \n",
       "8     11              sin_c = np.sin(values[2])    # sin(c)   \n",
       "9     12              log_d = np.log(values[3])    # log(d)   \n",
       "10    13       prod_abcd = np.prod(values)  # a * b * c * d   \n",
       "11    16  _result = (sum_ab * sin_c) / log_d + np.sqrt(p...   \n",
       "12    18                              result.append(sum_ab)   \n",
       "13    19       result.append(sum_ab + random.uniform(-5,5))   \n",
       "14    20     self.result_output['2235-CALC1_1'] = result[0]   \n",
       "15    21     self.result_output['2235-CALC1_2'] = result[1]   \n",
       "\n",
       "                                            Variables   \n",
       "0                                                      \\\n",
       "1                                                       \n",
       "2                                          result: []   \n",
       "3                            result: [], v1: 295.6069   \n",
       "4              result: [], v1: 295.6069, v2: 295.4841   \n",
       "5   result: [], v1: 295.6069, v2: 295.4841, v3: 29...   \n",
       "6   result: [], v1: 295.6069, v2: 295.4841, v3: 29...   \n",
       "7   result: [], v1: 295.6069, v2: 295.4841, v3: 29...   \n",
       "8   result: [], v1: 295.6069, v2: 295.4841, v3: 29...   \n",
       "9   result: [], v1: 295.6069, v2: 295.4841, v3: 29...   \n",
       "10  result: [], v1: 295.6069, v2: 295.4841, v3: 29...   \n",
       "11  result: [], v1: 295.6069, v2: 295.4841, v3: 29...   \n",
       "12  result: [], v1: 295.6069, v2: 295.4841, v3: 29...   \n",
       "13  result: [np.float64(591.091)], v1: 295.6069, v...   \n",
       "14  result: [np.float64(591.091), np.float64(591.5...   \n",
       "15  result: [np.float64(591.091), np.float64(591.5...   \n",
       "\n",
       "                                           Result  \n",
       "0                                                  \n",
       "1                                      result: []  \n",
       "2                                    v1: 295.6069  \n",
       "3                                    v2: 295.4841  \n",
       "4                                    v3: 295.9762  \n",
       "5                                    v4: 296.0695  \n",
       "6   values: [295.6069 295.4841 295.9762 296.0695]  \n",
       "7                                 sum_ab: 591.091  \n",
       "8                       sin_c: 0.6182313955073683  \n",
       "9                        log_d: 5.690594224060786  \n",
       "10                   prod_abcd: 7654188330.861286  \n",
       "11                     _result: 87552.43491071761  \n",
       "12                  result: [np.float64(591.091)]  \n",
       "13                   result: [np.float64(591.091)  \n",
       "14                                                 \n",
       "15                                                 "
      ]
     },
     "execution_count": 36,
     "metadata": {},
     "output_type": "execute_result"
    }
   ],
   "source": [
    "\n",
    "# 데이터프레임을 순회하며 Result 컬럼 업데이트\n",
    "for i in range(1, len(df)):\n",
    "    expression_name = extract_expression_name(df.at[i, 'Code'])\n",
    "    if expression_name:\n",
    "        next_variables = df.at[i+1, 'Variables'] if i+1 < len(df) else ''\n",
    "        variable_value = extract_variable_value(next_variables, expression_name)\n",
    "        if variable_value:\n",
    "            df.at[i, 'Result'] = f'{expression_name}: {variable_value}'\n",
    "\n",
    "df\n"
   ]
  },
  {
   "cell_type": "code",
   "execution_count": 39,
   "metadata": {},
   "outputs": [
    {
     "name": "stdout",
     "output_type": "stream",
     "text": [
      "result: [np.float64(591.091), np.float64(591.5707118401846)], v1: 295.6069, v2: 295.4841, v3: 295.9762, v4: 296.0695, values: [295.6069 295.4841 295.9762 296.0695], sum_ab: 591.091, sin_c: 0.6182313955073683, log_d: 5.690594224060786, prod_abcd: 7654188330.861286, _result: 87552.43491071761\n"
     ]
    }
   ],
   "source": [
    "print(df.Variables[14])"
   ]
  },
  {
   "cell_type": "code",
   "execution_count": 93,
   "metadata": {},
   "outputs": [],
   "source": [
    "variable_str = 'result: [np.float64(591.091), np.float64(591.5707118401846)], v1: 295.6069, v2: 295.4841, v3: 295.9762, v4: 296.0695, values: [295.6069 295.4841 295.9762 296.0695], sum_ab: 591.091, sin_c: 0.6182313955073683, log_d: 5.690594224060786, prod_abcd: 7654188330.861286, _result: 87552.43491071761'"
   ]
  },
  {
   "cell_type": "code",
   "execution_count": 97,
   "metadata": {},
   "outputs": [
    {
     "data": {
      "text/plain": [
       "[' v1',\n",
       " ' 295.5858, v2',\n",
       " ' 295.3867, v3',\n",
       " ' 295.9419, v4',\n",
       " ' 296.0406, result',\n",
       " ' [np.float64(1182.9550000000002), np.float64(11182.955)]']"
      ]
     },
     "execution_count": 97,
     "metadata": {},
     "output_type": "execute_result"
    }
   ],
   "source": [
    "variable_str_list"
   ]
  },
  {
   "cell_type": "code",
   "execution_count": 100,
   "metadata": {},
   "outputs": [
    {
     "data": {
      "text/plain": [
       "{'result': '[np.float64(591.091), np.float64(591.5707118401846)]',\n",
       " 'v1': '295.6069',\n",
       " 'v2': '295.4841',\n",
       " 'v3': '295.9762',\n",
       " 'v4': '296.0695',\n",
       " 'values': '[295.6069 295.4841 295.9762 296.0695]',\n",
       " 'sum_ab': '591.091',\n",
       " 'sin_c': '0.6182313955073683',\n",
       " 'log_d': '5.690594224060786',\n",
       " 'prod_abcd': '7654188330.861286',\n",
       " '_result': '87552.43491071761'}"
      ]
     },
     "execution_count": 100,
     "metadata": {},
     "output_type": "execute_result"
    }
   ],
   "source": [
    "variable_str = 'result: [np.float64(591.091), np.float64(591.5707118401846)], v1: 295.6069, v2: 295.4841, v3: 295.9762, v4: 296.0695, values: [295.6069 295.4841 295.9762 296.0695], sum_ab: 591.091, sin_c: 0.6182313955073683, log_d: 5.690594224060786, prod_abcd: 7654188330.861286, _result: 87552.43491071761'\n",
    "# variable_str = \"self.result_output: v1: 295.5858, v2: 295.3867, v3: 295.9419, v4: 296.0406, result: [np.float64(1182.9550000000002), np.float64(11182.955)]\"\n",
    "d = {}\n",
    "variable_str_list = variable_str.split(\":\")\n",
    "key = variable_str_list.pop(0).strip()\n",
    "\n",
    "for i, s in enumerate(variable_str_list):\n",
    "    if i == len(variable_str_list) - 1:\n",
    "        d[key] = s.strip()\n",
    "    else:\n",
    "        s_idx = s.rfind(\",\")\n",
    "        d[key] = s[:s_idx].strip()\n",
    "        key = s[s_idx + 1:].strip()\n",
    "\n",
    "d"
   ]
  },
  {
   "cell_type": "code",
   "execution_count": 46,
   "metadata": {},
   "outputs": [
    {
     "ename": "ValueError",
     "evalue": "not enough values to unpack (expected 2, got 1)",
     "output_type": "error",
     "traceback": [
      "\u001b[1;31m---------------------------------------------------------------------------\u001b[0m",
      "\u001b[1;31mValueError\u001b[0m                                Traceback (most recent call last)",
      "Cell \u001b[1;32mIn[46], line 60\u001b[0m\n\u001b[0;32m     44\u001b[0m \u001b[38;5;66;03m# 사용 예\u001b[39;00m\n\u001b[0;32m     45\u001b[0m data \u001b[38;5;241m=\u001b[39m [\n\u001b[0;32m     46\u001b[0m     \u001b[38;5;124m'\u001b[39m\u001b[38;5;124mresult\u001b[39m\u001b[38;5;124m'\u001b[39m,\n\u001b[0;32m     47\u001b[0m     \u001b[38;5;124m'\u001b[39m\u001b[38;5;124m [np.float64(591.091), np.float64(591.5707118401846)], v1\u001b[39m\u001b[38;5;124m'\u001b[39m,\n\u001b[1;32m   (...)\u001b[0m\n\u001b[0;32m     57\u001b[0m     \u001b[38;5;124m'\u001b[39m\u001b[38;5;124m 87552.43491071761\u001b[39m\u001b[38;5;124m'\u001b[39m\n\u001b[0;32m     58\u001b[0m ]\n\u001b[1;32m---> 60\u001b[0m result_dict \u001b[38;5;241m=\u001b[39m convert_to_dict(data)\n\u001b[0;32m     61\u001b[0m \u001b[38;5;28mprint\u001b[39m(result_dict)\n",
      "Cell \u001b[1;32mIn[46], line 31\u001b[0m, in \u001b[0;36mconvert_to_dict\u001b[1;34m(data_list)\u001b[0m\n\u001b[0;32m     27\u001b[0m part1, part2 \u001b[38;5;241m=\u001b[39m split_last_comma(item)\n\u001b[0;32m     29\u001b[0m \u001b[38;5;28;01mif\u001b[39;00m part2:\n\u001b[0;32m     30\u001b[0m     \u001b[38;5;66;03m# 두 부분이 있는 경우 키-값 쌍으로 추가\u001b[39;00m\n\u001b[1;32m---> 31\u001b[0m     key, value \u001b[38;5;241m=\u001b[39m part2\u001b[38;5;241m.\u001b[39msplit(\u001b[38;5;124m'\u001b[39m\u001b[38;5;124m:\u001b[39m\u001b[38;5;124m'\u001b[39m, \u001b[38;5;241m1\u001b[39m)\n\u001b[0;32m     32\u001b[0m     result_dict[key\u001b[38;5;241m.\u001b[39mstrip()] \u001b[38;5;241m=\u001b[39m value\u001b[38;5;241m.\u001b[39mstrip()\n\u001b[0;32m     33\u001b[0m     result_dict[part1] \u001b[38;5;241m=\u001b[39m \u001b[38;5;124m'\u001b[39m\u001b[38;5;124m'\u001b[39m  \u001b[38;5;66;03m# 첫 번째 부분은 키로만 추가\u001b[39;00m\n",
      "\u001b[1;31mValueError\u001b[0m: not enough values to unpack (expected 2, got 1)"
     ]
    }
   ],
   "source": [
    "import re\n",
    "\n",
    "def split_last_comma(s):\n",
    "    # 문자열을 뒤집는다\n",
    "    reversed_s = s[::-1]\n",
    "    # 첫 번째 쉼표를 찾는다\n",
    "    split_point = reversed_s.find(',')\n",
    "    \n",
    "    if split_point == -1:\n",
    "        # 쉼표가 없으면 원본 문자열을 반환\n",
    "        return s, None\n",
    "    \n",
    "    # 두 부분으로 분리하고 다시 뒤집는다\n",
    "    part1 = reversed_s[split_point + 1:][::-1].strip()\n",
    "    part2 = reversed_s[:split_point][::-1].strip()\n",
    "    \n",
    "    return part1, part2\n"
   ]
  },
  {
   "cell_type": "code",
   "execution_count": 1,
   "metadata": {},
   "outputs": [],
   "source": [
    "def extract_variable_value(variables_str, expression_name):\n",
    "    variables_dict = {}\n",
    "    variables_str_list = variables_str.split(\":\")\n",
    "    key = variables_str_list.pop(0).strip()\n",
    "    cnt = len(variables_str_list)\n",
    "\n",
    "    for i, s in enumerate(variables_str_list):\n",
    "        if i == cnt - 1:\n",
    "            variables_dict[key] = s.strip()\n",
    "            break\n",
    "        s_idx = s.rfind(\",\")\n",
    "        variables_dict[key] = s[:s_idx].strip()\n",
    "        key = s[s_idx + 1 :].strip()\n",
    "\n",
    "    try:\n",
    "        return variables_dict[expression_name]\n",
    "    except KeyError:\n",
    "        return None"
   ]
  },
  {
   "cell_type": "code",
   "execution_count": 12,
   "metadata": {},
   "outputs": [],
   "source": [
    "import re\n",
    "\n",
    "def extract_expression_name(code_line):\n",
    "    # 변수 할당 패턴 (일반 변수 할당 및 self. 변수 할당)\n",
    "    var_pattern = re.compile(r\"((self\\.)?\\w+)\\s*=\\s*(.+)\")\n",
    "    # 메서드 호출 패턴 (점 기준으로 좌측 변수 추출)\n",
    "    method_pattern = re.compile(r\"((self\\.)?\\w+)\\.\\w+\\(\")\n",
    "    # 딕셔너리 할당 패턴 (self를 포함한 경우)\n",
    "    dict_pattern = re.compile(r\"((self\\.\\w+)|(\\w+))\\['[^']+'\\]\\s*=\\s*(.+)\")\n",
    "\n",
    "    # 일반 변수 할당\n",
    "    var_match = var_pattern.match(code_line.strip())\n",
    "    if var_match:\n",
    "        return var_match.group(1)  # 변수 이름 반환\n",
    "\n",
    "    # 메서드 호출\n",
    "    method_match = method_pattern.search(code_line.strip())\n",
    "    if method_match:\n",
    "        return method_match.group(1)  # 좌측 변수만 반환\n",
    "\n",
    "    # 딕셔너리 할당\n",
    "    dict_match = dict_pattern.match(code_line.strip())\n",
    "    if dict_match:\n",
    "        return dict_match.group(1)  # 좌측 변수 반환\n",
    "\n",
    "    return None"
   ]
  },
  {
   "cell_type": "code",
   "execution_count": 13,
   "metadata": {},
   "outputs": [
    {
     "data": {
      "text/plain": [
       "'self.lpf_value'"
      ]
     },
     "execution_count": 13,
     "metadata": {},
     "output_type": "execute_result"
    }
   ],
   "source": [
    "extract_expression_name('self.lpf_value = (self.tau * self.lpf_value + self.interval * value) / (self.interval + self.tau)')"
   ]
  },
  {
   "cell_type": "code",
   "execution_count": 2,
   "metadata": {},
   "outputs": [
    {
     "name": "stdout",
     "output_type": "stream",
     "text": [
      "{'result': 591.0028, 'v1': 295.6194, 'v2': 295.3834, 'v3': 295.9574, 'v4': 296.0339, 'values': '[295.6194', 'sum_ab': 591.0028, 'sin_c': 0.6033462877596064, 'log_d': 5.690473974793369, 'prod_abcd': 7650497302.378434, '_result': 87529.78376846842, 'self.result_output': 591.0028, \"'2235-CALC1_2'\": 590.2324314571032}\n",
      "{'2235-CALC1_1\n"
     ]
    }
   ],
   "source": [
    "variables_str = \"result: [np.float64(591.0028), np.float64(590.2324314571032)], v1: 295.6194, v2: 295.3834, v3: 295.9574, v4: 296.0339, values: [295.6194, 295.3834, 295.9574, 296.0339], sum_ab: 591.0028, sin_c: 0.6033462877596064, log_d: 5.690473974793369, prod_abcd: 7650497302.378434, _result: 87529.78376846842, self.result_output: {'2235-CALC1_1': np.float64(591.0028), '2235-CALC1_2': np.float64(590.2324314571032)}\"\n",
    "\n",
    "expression_name = 'self.result_output'\n",
    "value = extract_variable_value(variables_str, expression_name)\n",
    "print(value)  # 출력: \"{'2235-CALC1_1': np.float64(591.0028), '2235-CALC1_2': np.float64(590.2324314571032)}\""
   ]
  }
 ],
 "metadata": {
  "kernelspec": {
   "display_name": "script_server",
   "language": "python",
   "name": "python3"
  },
  "language_info": {
   "codemirror_mode": {
    "name": "ipython",
    "version": 3
   },
   "file_extension": ".py",
   "mimetype": "text/x-python",
   "name": "python",
   "nbconvert_exporter": "python",
   "pygments_lexer": "ipython3",
   "version": "3.11.7"
  }
 },
 "nbformat": 4,
 "nbformat_minor": 2
}
